{
 "cells": [
  {
   "cell_type": "code",
   "execution_count": null,
   "id": "ecbeb785",
   "metadata": {},
   "outputs": [],
   "source": [
    "import pandas as pd\n",
    "from sklearn.model_selection import train_test_split\n",
    "import matplotlib.pylab as plt\n",
    "import seaborn as sns\n",
    "import wandb \n",
    "import os"
   ]
  },
  {
   "cell_type": "markdown",
   "id": "4feb83c5",
   "metadata": {},
   "source": [
    "# Downloading file from Wandb "
   ]
  },
  {
   "cell_type": "code",
   "execution_count": 2,
   "id": "80d1b375",
   "metadata": {},
   "outputs": [
    {
     "name": "stderr",
     "output_type": "stream",
     "text": [
      "\u001b[34m\u001b[1mwandb\u001b[0m: Currently logged in as: \u001b[33mvaloptauhoa\u001b[0m (\u001b[33mvaloptauhoa-national-economics-university\u001b[0m) to \u001b[32mhttps://api.wandb.ai\u001b[0m. Use \u001b[1m`wandb login --relogin`\u001b[0m to force relogin\n"
     ]
    },
    {
     "data": {
      "text/html": [
       "creating run (0.2s)"
      ],
      "text/plain": [
       "<IPython.core.display.HTML object>"
      ]
     },
     "metadata": {},
     "output_type": "display_data"
    },
    {
     "data": {
      "text/html": [
       "Tracking run with wandb version 0.19.10"
      ],
      "text/plain": [
       "<IPython.core.display.HTML object>"
      ]
     },
     "metadata": {},
     "output_type": "display_data"
    },
    {
     "data": {
      "text/html": [
       "Run data is saved locally in <code>c:\\Users\\PC\\Downloads\\notebook 2\\wandb\\run-20250428_110033-zlsn9l6j</code>"
      ],
      "text/plain": [
       "<IPython.core.display.HTML object>"
      ]
     },
     "metadata": {},
     "output_type": "display_data"
    },
    {
     "data": {
      "text/html": [
       "Syncing run <strong><a href='https://wandb.ai/valoptauhoa-national-economics-university/risk_credit/runs/zlsn9l6j' target=\"_blank\">whole-pond-54</a></strong> to <a href='https://wandb.ai/valoptauhoa-national-economics-university/risk_credit' target=\"_blank\">Weights & Biases</a> (<a href='https://wandb.me/developer-guide' target=\"_blank\">docs</a>)<br>"
      ],
      "text/plain": [
       "<IPython.core.display.HTML object>"
      ]
     },
     "metadata": {},
     "output_type": "display_data"
    },
    {
     "data": {
      "text/html": [
       " View project at <a href='https://wandb.ai/valoptauhoa-national-economics-university/risk_credit' target=\"_blank\">https://wandb.ai/valoptauhoa-national-economics-university/risk_credit</a>"
      ],
      "text/plain": [
       "<IPython.core.display.HTML object>"
      ]
     },
     "metadata": {},
     "output_type": "display_data"
    },
    {
     "data": {
      "text/html": [
       " View run at <a href='https://wandb.ai/valoptauhoa-national-economics-university/risk_credit/runs/zlsn9l6j' target=\"_blank\">https://wandb.ai/valoptauhoa-national-economics-university/risk_credit/runs/zlsn9l6j</a>"
      ],
      "text/plain": [
       "<IPython.core.display.HTML object>"
      ]
     },
     "metadata": {},
     "output_type": "display_data"
    }
   ],
   "source": [
    "run = wandb.init(project=\"risk_credit\", job_type=\"EDA\")"
   ]
  },
  {
   "cell_type": "code",
   "execution_count": 3,
   "id": "ee3dd465",
   "metadata": {},
   "outputs": [],
   "source": [
    "WANDB_API_KEY=os.environ.get('1d620fa1eff54f2f0ba01b14c81969f4ce70bd6c')"
   ]
  },
  {
   "cell_type": "code",
   "execution_count": 4,
   "id": "76f708e0",
   "metadata": {},
   "outputs": [
    {
     "name": "stderr",
     "output_type": "stream",
     "text": [
      "wandb: Appending key for api.wandb.ai to your netrc file: C:\\Users\\PC\\_netrc\n",
      "wandb: W&B API key is configured. Use `wandb login --relogin` to force relogin\n"
     ]
    }
   ],
   "source": [
    "!wandb login --relogin 1d620fa1eff54f2f0ba01b14c81969f4ce70bd6c"
   ]
  },
  {
   "cell_type": "code",
   "execution_count": 5,
   "id": "84c01bfb",
   "metadata": {},
   "outputs": [
    {
     "data": {
      "text/html": [
       "Finishing previous runs because reinit is set to 'default'."
      ],
      "text/plain": [
       "<IPython.core.display.HTML object>"
      ]
     },
     "metadata": {},
     "output_type": "display_data"
    },
    {
     "data": {
      "text/html": [],
      "text/plain": [
       "<IPython.core.display.HTML object>"
      ]
     },
     "metadata": {},
     "output_type": "display_data"
    },
    {
     "data": {
      "text/html": [
       " View run <strong style=\"color:#cdcd00\">whole-pond-54</strong> at: <a href='https://wandb.ai/valoptauhoa-national-economics-university/risk_credit/runs/zlsn9l6j' target=\"_blank\">https://wandb.ai/valoptauhoa-national-economics-university/risk_credit/runs/zlsn9l6j</a><br> View project at: <a href='https://wandb.ai/valoptauhoa-national-economics-university/risk_credit' target=\"_blank\">https://wandb.ai/valoptauhoa-national-economics-university/risk_credit</a><br>Synced 5 W&B file(s), 0 media file(s), 0 artifact file(s) and 0 other file(s)"
      ],
      "text/plain": [
       "<IPython.core.display.HTML object>"
      ]
     },
     "metadata": {},
     "output_type": "display_data"
    },
    {
     "data": {
      "text/html": [
       "Find logs at: <code>.\\wandb\\run-20250428_110033-zlsn9l6j\\logs</code>"
      ],
      "text/plain": [
       "<IPython.core.display.HTML object>"
      ]
     },
     "metadata": {},
     "output_type": "display_data"
    },
    {
     "data": {
      "text/html": [
       "Tracking run with wandb version 0.19.10"
      ],
      "text/plain": [
       "<IPython.core.display.HTML object>"
      ]
     },
     "metadata": {},
     "output_type": "display_data"
    },
    {
     "data": {
      "text/html": [
       "Run data is saved locally in <code>c:\\Users\\PC\\Downloads\\notebook 2\\wandb\\run-20250428_110038-4uo8clxi</code>"
      ],
      "text/plain": [
       "<IPython.core.display.HTML object>"
      ]
     },
     "metadata": {},
     "output_type": "display_data"
    },
    {
     "data": {
      "text/html": [
       "Syncing run <strong><a href='https://wandb.ai/valoptauhoa-national-economics-university/risk_credit/runs/4uo8clxi' target=\"_blank\">cool-flower-55</a></strong> to <a href='https://wandb.ai/valoptauhoa-national-economics-university/risk_credit' target=\"_blank\">Weights & Biases</a> (<a href='https://wandb.me/developer-guide' target=\"_blank\">docs</a>)<br>"
      ],
      "text/plain": [
       "<IPython.core.display.HTML object>"
      ]
     },
     "metadata": {},
     "output_type": "display_data"
    },
    {
     "data": {
      "text/html": [
       " View project at <a href='https://wandb.ai/valoptauhoa-national-economics-university/risk_credit' target=\"_blank\">https://wandb.ai/valoptauhoa-national-economics-university/risk_credit</a>"
      ],
      "text/plain": [
       "<IPython.core.display.HTML object>"
      ]
     },
     "metadata": {},
     "output_type": "display_data"
    },
    {
     "data": {
      "text/html": [
       " View run at <a href='https://wandb.ai/valoptauhoa-national-economics-university/risk_credit/runs/4uo8clxi' target=\"_blank\">https://wandb.ai/valoptauhoa-national-economics-university/risk_credit/runs/4uo8clxi</a>"
      ],
      "text/plain": [
       "<IPython.core.display.HTML object>"
      ]
     },
     "metadata": {},
     "output_type": "display_data"
    },
    {
     "name": "stderr",
     "output_type": "stream",
     "text": [
      "\u001b[34m\u001b[1mwandb\u001b[0m:   1 of 1 files downloaded.  \n"
     ]
    },
    {
     "data": {
      "text/html": [],
      "text/plain": [
       "<IPython.core.display.HTML object>"
      ]
     },
     "metadata": {},
     "output_type": "display_data"
    },
    {
     "data": {
      "text/html": [
       " View run <strong style=\"color:#cdcd00\">cool-flower-55</strong> at: <a href='https://wandb.ai/valoptauhoa-national-economics-university/risk_credit/runs/4uo8clxi' target=\"_blank\">https://wandb.ai/valoptauhoa-national-economics-university/risk_credit/runs/4uo8clxi</a><br> View project at: <a href='https://wandb.ai/valoptauhoa-national-economics-university/risk_credit' target=\"_blank\">https://wandb.ai/valoptauhoa-national-economics-university/risk_credit</a><br>Synced 5 W&B file(s), 0 media file(s), 0 artifact file(s) and 0 other file(s)"
      ],
      "text/plain": [
       "<IPython.core.display.HTML object>"
      ]
     },
     "metadata": {},
     "output_type": "display_data"
    },
    {
     "data": {
      "text/html": [
       "Find logs at: <code>.\\wandb\\run-20250428_110038-4uo8clxi\\logs</code>"
      ],
      "text/plain": [
       "<IPython.core.display.HTML object>"
      ]
     },
     "metadata": {},
     "output_type": "display_data"
    }
   ],
   "source": [
    "wandb.init(project=\"risk_credit\", job_type=\"download-dataset\")\n",
    "\n",
    "artifact = wandb.use_artifact('EDA_data.csv:latest', type='EDA')\n",
    "\n",
    "dataset_dir = artifact.download()\n",
    "\n",
    "wandb.finish()"
   ]
  },
  {
   "cell_type": "markdown",
   "id": "bda3853e",
   "metadata": {},
   "source": [
    "# I. Importing dataset "
   ]
  },
  {
   "cell_type": "code",
   "execution_count": 6,
   "id": "90b115b7",
   "metadata": {},
   "outputs": [],
   "source": [
    "file_path = os.path.join(dataset_dir, \"diabetes_binary_health_indicators_BRFSS2015.csv\")\n",
    "df = pd.read_csv(file_path)"
   ]
  },
  {
   "cell_type": "markdown",
   "id": "6f0fa37b",
   "metadata": {},
   "source": [
    "# II. Preprocessing"
   ]
  },
  {
   "cell_type": "code",
   "execution_count": 7,
   "id": "d3782188",
   "metadata": {},
   "outputs": [],
   "source": [
    "X = df.drop('Diabetes_binary', axis = 1)\n",
    "y = df['Diabetes_binary']\n",
    "X_train, X_test, y_train, y_test = train_test_split(X, y, test_size= 0.2, random_state= 42)"
   ]
  },
  {
   "cell_type": "markdown",
   "id": "1e66967f",
   "metadata": {},
   "source": [
    "## 1. Missing Values Detection"
   ]
  },
  {
   "cell_type": "code",
   "execution_count": 8,
   "id": "2a867b82",
   "metadata": {},
   "outputs": [],
   "source": [
    "def detect_missing_values(df):\n",
    "    missing_count = df.isnull().sum()\n",
    "    missing_percent = (missing_count / len(df)) * 100\n",
    "    missing_summary = pd.DataFrame({\n",
    "        'Missing Count': missing_count,\n",
    "        'Missing %': missing_percent\n",
    "    })\n",
    "    return missing_summary[missing_summary['Missing Count'] > 0].sort_values(by='Missing Count', ascending=False)"
   ]
  },
  {
   "cell_type": "code",
   "execution_count": 9,
   "id": "8b2cdd51",
   "metadata": {},
   "outputs": [
    {
     "name": "stdout",
     "output_type": "stream",
     "text": [
      "Empty DataFrame\n",
      "Columns: [Missing Count, Missing %]\n",
      "Index: []\n",
      "Empty DataFrame\n",
      "Columns: [Missing Count, Missing %]\n",
      "Index: []\n"
     ]
    }
   ],
   "source": [
    "print(detect_missing_values(X_train))\n",
    "print(detect_missing_values(X_test))"
   ]
  },
  {
   "cell_type": "markdown",
   "id": "49b1f934",
   "metadata": {},
   "source": [
    "## 2. Outliers Clipping"
   ]
  },
  {
   "cell_type": "code",
   "execution_count": 10,
   "id": "ca5d4aaf",
   "metadata": {},
   "outputs": [
    {
     "data": {
      "image/png": "[encoded data removed]",
      "text/plain": [
       "<Figure size 1200x600 with 1 Axes>"
      ]
     },
     "metadata": {},
     "output_type": "display_data"
    }
   ],
   "source": [
    "non_binary_columns = [col for col in X_train.columns if X_train[col].nunique() > 2]\n",
    "\n",
    "df_long = X_train[non_binary_columns].melt(var_name='Variable', value_name='Value')\n",
    "\n",
    "plt.figure(figsize=(12, 6))\n",
    "sns.boxplot(x='Variable', y='Value', data=df_long)\n",
    "plt.xticks(rotation=45)\n",
    "plt.title('Boxplot for non-binary variables')\n",
    "plt.show()"
   ]
  },
  {
   "cell_type": "markdown",
   "id": "b3fb037a",
   "metadata": {},
   "source": [
    "From what i can see, there are a lot of outliers in columns BMI, PhysHlth, MenHlth, GenHlth. From this moment, we approach this problem with our most common method, which is clipping"
   ]
  },
  {
   "cell_type": "code",
   "execution_count": 11,
   "id": "973598f4",
   "metadata": {},
   "outputs": [],
   "source": [
    "q1 = X_train[['BMI', 'PhysHlth', 'MentHlth', 'GenHlth']].quantile(0.25)\n",
    "q3 = X_train[['BMI', 'PhysHlth', 'MentHlth', 'GenHlth']].quantile(0.75)\n",
    "iqr = q3 - q1\n",
    "lower_bound = q1 - 1.5 * iqr\n",
    "upper_bound = q3 + 1.5 * iqr\n",
    "\n",
    "for col in ['BMI', 'PhysHlth', 'MentHlth', 'GenHlth']:\n",
    "    X_train[col] = X_train[col].clip(lower=lower_bound[col], upper=upper_bound[col])              \n",
    "    X_test[col] = X_test[col].clip(lower=lower_bound[col], upper=upper_bound[col])"
   ]
  },
  {
   "cell_type": "code",
   "execution_count": 12,
   "id": "300d57b6",
   "metadata": {},
   "outputs": [
    {
     "data": {
      "image/png": "[encoded data removed]",
      "text/plain": [
       "<Figure size 1200x600 with 1 Axes>"
      ]
     },
     "metadata": {},
     "output_type": "display_data"
    }
   ],
   "source": [
    "plt.figure(figsize=(12, 6))\n",
    "sns.boxplot(x='Variable', y='Value', data=df_long)\n",
    "plt.xticks(rotation=45)\n",
    "plt.title('Boxplot for non-binary variables')\n",
    "plt.show()"
   ]
  },
  {
   "cell_type": "markdown",
   "id": "3eb299a7",
   "metadata": {},
   "source": [
    "# Uploading file to Wandb "
   ]
  },
  {
   "cell_type": "code",
   "execution_count": 13,
   "id": "ba6c0961",
   "metadata": {},
   "outputs": [],
   "source": [
    "X_train_file = os.path.join(dataset_dir, \"X_train.csv\")\n",
    "X_test_file = os.path.join(dataset_dir, \"X_test.csv\")\n",
    "y_train_file = os.path.join(dataset_dir, \"y_train.csv\")\n",
    "y_test_file = os.path.join(dataset_dir, \"y_test.csv\")\n",
    "\n",
    "X_train.to_csv(X_train_file, index=False)\n",
    "X_test.to_csv(X_test_file, index=False)\n",
    "y_train.to_csv(y_train_file, index=False)\n",
    "y_test.to_csv(y_test_file, index=False)"
   ]
  },
  {
   "cell_type": "code",
   "execution_count": 14,
   "id": "eb04064f",
   "metadata": {},
   "outputs": [
    {
     "data": {
      "text/html": [
       "Tracking run with wandb version 0.19.10"
      ],
      "text/plain": [
       "<IPython.core.display.HTML object>"
      ]
     },
     "metadata": {},
     "output_type": "display_data"
    },
    {
     "data": {
      "text/html": [
       "Run data is saved locally in <code>c:\\Users\\PC\\Downloads\\notebook 2\\wandb\\run-20250428_110056-9sdoxbiq</code>"
      ],
      "text/plain": [
       "<IPython.core.display.HTML object>"
      ]
     },
     "metadata": {},
     "output_type": "display_data"
    },
    {
     "data": {
      "text/html": [
       "Syncing run <strong><a href='https://wandb.ai/valoptauhoa-national-economics-university/risk_credit/runs/9sdoxbiq' target=\"_blank\">wild-serenity-56</a></strong> to <a href='https://wandb.ai/valoptauhoa-national-economics-university/risk_credit' target=\"_blank\">Weights & Biases</a> (<a href='https://wandb.me/developer-guide' target=\"_blank\">docs</a>)<br>"
      ],
      "text/plain": [
       "<IPython.core.display.HTML object>"
      ]
     },
     "metadata": {},
     "output_type": "display_data"
    },
    {
     "data": {
      "text/html": [
       " View project at <a href='https://wandb.ai/valoptauhoa-national-economics-university/risk_credit' target=\"_blank\">https://wandb.ai/valoptauhoa-national-economics-university/risk_credit</a>"
      ],
      "text/plain": [
       "<IPython.core.display.HTML object>"
      ]
     },
     "metadata": {},
     "output_type": "display_data"
    },
    {
     "data": {
      "text/html": [
       " View run at <a href='https://wandb.ai/valoptauhoa-national-economics-university/risk_credit/runs/9sdoxbiq' target=\"_blank\">https://wandb.ai/valoptauhoa-national-economics-university/risk_credit/runs/9sdoxbiq</a>"
      ],
      "text/plain": [
       "<IPython.core.display.HTML object>"
      ]
     },
     "metadata": {},
     "output_type": "display_data"
    }
   ],
   "source": [
    "run = wandb.init(project=\"risk_credit\", job_type=\"EDA\")"
   ]
  },
  {
   "cell_type": "code",
   "execution_count": 15,
   "id": "cc1f0ac1",
   "metadata": {},
   "outputs": [],
   "source": [
    "def upload_artifact(artifact_name, file_path, artifact_type=\"Preprocessing\", artifact_description=\"Preprocessed data\"):\n",
    "    artifact = wandb.Artifact(\n",
    "        name=artifact_name,\n",
    "        type=artifact_type,\n",
    "        description=artifact_description\n",
    "    )\n",
    "    artifact.add_file(file_path)\n",
    "    wandb.log_artifact(artifact)"
   ]
  },
  {
   "cell_type": "code",
   "execution_count": 16,
   "id": "406d0d71",
   "metadata": {},
   "outputs": [],
   "source": [
    "upload_artifact(\"X_train.csv\", X_train_file)\n",
    "upload_artifact(\"X_test.csv\", X_test_file)\n",
    "upload_artifact(\"y_train.csv\", y_train_file)\n",
    "upload_artifact(\"y_test.csv\", y_test_file)"
   ]
  },
  {
   "cell_type": "code",
   "execution_count": 17,
   "id": "64d1f142",
   "metadata": {},
   "outputs": [
    {
     "data": {
      "text/html": [],
      "text/plain": [
       "<IPython.core.display.HTML object>"
      ]
     },
     "metadata": {},
     "output_type": "display_data"
    },
    {
     "data": {
      "text/html": [
       " View run <strong style=\"color:#cdcd00\">wild-serenity-56</strong> at: <a href='https://wandb.ai/valoptauhoa-national-economics-university/risk_credit/runs/9sdoxbiq' target=\"_blank\">https://wandb.ai/valoptauhoa-national-economics-university/risk_credit/runs/9sdoxbiq</a><br> View project at: <a href='https://wandb.ai/valoptauhoa-national-economics-university/risk_credit' target=\"_blank\">https://wandb.ai/valoptauhoa-national-economics-university/risk_credit</a><br>Synced 5 W&B file(s), 0 media file(s), 0 artifact file(s) and 0 other file(s)"
      ],
      "text/plain": [
       "<IPython.core.display.HTML object>"
      ]
     },
     "metadata": {},
     "output_type": "display_data"
    },
    {
     "data": {
      "text/html": [
       "Find logs at: <code>.\\wandb\\run-20250428_110056-9sdoxbiq\\logs</code>"
      ],
      "text/plain": [
       "<IPython.core.display.HTML object>"
      ]
     },
     "metadata": {},
     "output_type": "display_data"
    }
   ],
   "source": [
    "wandb.finish()"
   ]
  }
 ],
 "metadata": {
  "kernelspec": {
   "display_name": "Python 3",
   "language": "python",
   "name": "python3"
  },
  "language_info": {
   "codemirror_mode": {
    "name": "ipython",
    "version": 3
   },
   "file_extension": ".py",
   "mimetype": "text/x-python",
   "name": "python",
   "nbconvert_exporter": "python",
   "pygments_lexer": "ipython3",
   "version": "3.11.1"
  }
 },
 "nbformat": 4,
 "nbformat_minor": 5
}
