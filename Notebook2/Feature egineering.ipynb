{
  "cells": [
    {
      "cell_type": "code",
      "execution_count": 2,
      "metadata": {
        "id": "LASaVZuhRJlL"
      },
      "outputs": [],
      "source": [
        "import wandb\n",
        "import pandas as pd\n",
        "from imblearn.over_sampling import SMOTE\n",
        "from sklearn.preprocessing import MinMaxScaler \n",
        "from sklearn.preprocessing import PolynomialFeatures\n",
        "from sklearn.feature_selection import SelectKBest, chi2\n",
        "import os\n",
        "import warnings\n",
        "warnings.filterwarnings('ignore')\n",
        "import imblearn"
      ]
    },
    {
      "cell_type": "markdown",
      "metadata": {
        "id": "MxzlOezZLWQ_"
      },
      "source": [
        "# Downloading file from Wandb "
      ]
    },
    {
      "cell_type": "code",
      "execution_count": 80,
      "metadata": {},
      "outputs": [
        {
          "data": {
            "text/html": [
              "Finishing previous runs because reinit is set to 'default'."
            ],
            "text/plain": [
              "<IPython.core.display.HTML object>"
            ]
          },
          "metadata": {},
          "output_type": "display_data"
        },
        {
          "data": {
            "text/html": [],
            "text/plain": [
              "<IPython.core.display.HTML object>"
            ]
          },
          "metadata": {},
          "output_type": "display_data"
        },
        {
          "data": {
            "text/html": [
              " View run <strong style=\"color:#cdcd00\">generous-gorge-32</strong> at: <a href='https://wandb.ai/valoptauhoa-national-economics-university/risk_credit/runs/fyqz7zaf' target=\"_blank\">https://wandb.ai/valoptauhoa-national-economics-university/risk_credit/runs/fyqz7zaf</a><br> View project at: <a href='https://wandb.ai/valoptauhoa-national-economics-university/risk_credit' target=\"_blank\">https://wandb.ai/valoptauhoa-national-economics-university/risk_credit</a><br>Synced 5 W&B file(s), 0 media file(s), 0 artifact file(s) and 0 other file(s)"
            ],
            "text/plain": [
              "<IPython.core.display.HTML object>"
            ]
          },
          "metadata": {},
          "output_type": "display_data"
        },
        {
          "data": {
            "text/html": [
              "Find logs at: <code>.\\wandb\\run-20250427_134110-fyqz7zaf\\logs</code>"
            ],
            "text/plain": [
              "<IPython.core.display.HTML object>"
            ]
          },
          "metadata": {},
          "output_type": "display_data"
        },
        {
          "data": {
            "text/html": [
              "Tracking run with wandb version 0.19.10"
            ],
            "text/plain": [
              "<IPython.core.display.HTML object>"
            ]
          },
          "metadata": {},
          "output_type": "display_data"
        },
        {
          "data": {
            "text/html": [
              "Run data is saved locally in <code>c:\\Users\\PC\\Downloads\\MLOps final\\wandb\\run-20250427_135139-qzko3906</code>"
            ],
            "text/plain": [
              "<IPython.core.display.HTML object>"
            ]
          },
          "metadata": {},
          "output_type": "display_data"
        },
        {
          "data": {
            "text/html": [
              "Syncing run <strong><a href='https://wandb.ai/valoptauhoa-national-economics-university/risk_credit/runs/qzko3906' target=\"_blank\">valiant-music-33</a></strong> to <a href='https://wandb.ai/valoptauhoa-national-economics-university/risk_credit' target=\"_blank\">Weights & Biases</a> (<a href='https://wandb.me/developer-guide' target=\"_blank\">docs</a>)<br>"
            ],
            "text/plain": [
              "<IPython.core.display.HTML object>"
            ]
          },
          "metadata": {},
          "output_type": "display_data"
        },
        {
          "data": {
            "text/html": [
              " View project at <a href='https://wandb.ai/valoptauhoa-national-economics-university/risk_credit' target=\"_blank\">https://wandb.ai/valoptauhoa-national-economics-university/risk_credit</a>"
            ],
            "text/plain": [
              "<IPython.core.display.HTML object>"
            ]
          },
          "metadata": {},
          "output_type": "display_data"
        },
        {
          "data": {
            "text/html": [
              " View run at <a href='https://wandb.ai/valoptauhoa-national-economics-university/risk_credit/runs/qzko3906' target=\"_blank\">https://wandb.ai/valoptauhoa-national-economics-university/risk_credit/runs/qzko3906</a>"
            ],
            "text/plain": [
              "<IPython.core.display.HTML object>"
            ]
          },
          "metadata": {},
          "output_type": "display_data"
        }
      ],
      "source": [
        "run = wandb.init(project=\"risk_credit\", job_type=\"EDA\")"
      ]
    },
    {
      "cell_type": "code",
      "execution_count": null,
      "metadata": {},
      "outputs": [],
      "source": [
        "WANDB_API_KEY=os.environ.get('1d620fa1eff54f2f0ba01b14c81969f4ce70bd6c')\n",
        "!wandb login --relogin 1d620fa1eff54f2f0ba01b14c81969f4ce70bd6c"
      ]
    },
    {
      "cell_type": "code",
      "execution_count": 83,
      "metadata": {
        "id": "dBiQMbchm78L"
      },
      "outputs": [
        {
          "name": "stderr",
          "output_type": "stream",
          "text": [
            "\u001b[34m\u001b[1mwandb\u001b[0m:   1 of 1 files downloaded.  \n",
            "\u001b[34m\u001b[1mwandb\u001b[0m:   1 of 1 files downloaded.  \n",
            "\u001b[34m\u001b[1mwandb\u001b[0m:   1 of 1 files downloaded.  \n",
            "\u001b[34m\u001b[1mwandb\u001b[0m:   1 of 1 files downloaded.  \n"
          ]
        },
        {
          "data": {
            "text/html": [],
            "text/plain": [
              "<IPython.core.display.HTML object>"
            ]
          },
          "metadata": {},
          "output_type": "display_data"
        },
        {
          "data": {
            "text/html": [
              " View run <strong style=\"color:#cdcd00\">valiant-music-33</strong> at: <a href='https://wandb.ai/valoptauhoa-national-economics-university/risk_credit/runs/qzko3906' target=\"_blank\">https://wandb.ai/valoptauhoa-national-economics-university/risk_credit/runs/qzko3906</a><br> View project at: <a href='https://wandb.ai/valoptauhoa-national-economics-university/risk_credit' target=\"_blank\">https://wandb.ai/valoptauhoa-national-economics-university/risk_credit</a><br>Synced 5 W&B file(s), 0 media file(s), 0 artifact file(s) and 0 other file(s)"
            ],
            "text/plain": [
              "<IPython.core.display.HTML object>"
            ]
          },
          "metadata": {},
          "output_type": "display_data"
        },
        {
          "data": {
            "text/html": [
              "Find logs at: <code>.\\wandb\\run-20250427_135139-qzko3906\\logs</code>"
            ],
            "text/plain": [
              "<IPython.core.display.HTML object>"
            ]
          },
          "metadata": {},
          "output_type": "display_data"
        }
      ],
      "source": [
        "artifact_X_train = wandb.use_artifact('risk_credit/X_train.csv:latest', type='Preprocessing')\n",
        "artifact_X_test = wandb.use_artifact('risk_credit/X_test.csv:latest', type='Preprocessing')\n",
        "artifact_y_train = wandb.use_artifact('risk_credit/y_train.csv:latest', type='Preprocessing')\n",
        "artifact_y_test = wandb.use_artifact('risk_credit/y_test.csv:latest', type='Preprocessing')\n",
        "\n",
        "X_train_dir = artifact_X_train.download()\n",
        "X_test_dir = artifact_X_test.download()\n",
        "y_train_dir = artifact_y_train.download()\n",
        "y_test_dir = artifact_y_test.download()\n",
        "\n",
        "wandb.finish()"
      ]
    },
    {
      "cell_type": "code",
      "execution_count": 84,
      "metadata": {},
      "outputs": [],
      "source": [
        "X_train_path = os.path.join(X_train_dir, \"X_train.csv\")\n",
        "X_test_path = os.path.join(X_test_dir, \"X_test.csv\")\n",
        "y_train_path = os.path.join(y_train_dir, \"y_train.csv\")\n",
        "y_test_path = os.path.join(y_test_dir, \"y_test.csv\")\n",
        "\n",
        "X_train = pd.read_csv(X_train_path)\n",
        "X_test = pd.read_csv(X_test_path)\n",
        "y_train = pd.read_csv(y_train_path)\n",
        "y_test = pd.read_csv(y_test_path)"
      ]
    },
    {
      "cell_type": "markdown",
      "metadata": {
        "id": "Z74pHa-qHVrT"
      },
      "source": [
        "# I. Preprocessing"
      ]
    },
    {
      "cell_type": "markdown",
      "metadata": {},
      "source": [
        "## 1. Resampling"
      ]
    },
    {
      "cell_type": "code",
      "execution_count": 85,
      "metadata": {},
      "outputs": [],
      "source": [
        "column_names = X_train.columns"
      ]
    },
    {
      "cell_type": "code",
      "execution_count": 86,
      "metadata": {},
      "outputs": [],
      "source": [
        "smote = SMOTE(random_state=42)\n",
        "X_train, y_train = smote.fit_resample(X_train, y_train)"
      ]
    },
    {
      "cell_type": "markdown",
      "metadata": {},
      "source": [
        "## 2. Scaling"
      ]
    },
    {
      "cell_type": "code",
      "execution_count": 87,
      "metadata": {},
      "outputs": [],
      "source": [
        "scaler = MinMaxScaler()\n",
        "X_train = scaler.fit_transform(X_train)\n",
        "X_test = scaler.transform(X_test)"
      ]
    },
    {
      "cell_type": "code",
      "execution_count": 88,
      "metadata": {},
      "outputs": [],
      "source": [
        "X_train = pd.DataFrame(X_train, columns=column_names)\n",
        "X_test = pd.DataFrame(X_test, columns=column_names)"
      ]
    },
    {
      "cell_type": "markdown",
      "metadata": {},
      "source": [
        "## 3. Features importance"
      ]
    },
    {
      "cell_type": "code",
      "execution_count": 89,
      "metadata": {},
      "outputs": [
        {
          "data": {
            "text/html": [
              "<div>\n",
              "<style scoped>\n",
              "    .dataframe tbody tr th:only-of-type {\n",
              "        vertical-align: middle;\n",
              "    }\n",
              "\n",
              "    .dataframe tbody tr th {\n",
              "        vertical-align: top;\n",
              "    }\n",
              "\n",
              "    .dataframe thead th {\n",
              "        text-align: right;\n",
              "    }\n",
              "</style>\n",
              "<table border=\"1\" class=\"dataframe\">\n",
              "  <thead>\n",
              "    <tr style=\"text-align: right;\">\n",
              "      <th></th>\n",
              "      <th>Feature</th>\n",
              "      <th>Chi2 Score</th>\n",
              "    </tr>\n",
              "  </thead>\n",
              "  <tbody>\n",
              "    <tr>\n",
              "      <th>0</th>\n",
              "      <td>HighBP</td>\n",
              "      <td>23351.828784</td>\n",
              "    </tr>\n",
              "    <tr>\n",
              "      <th>16</th>\n",
              "      <td>DiffWalk</td>\n",
              "      <td>18332.267182</td>\n",
              "    </tr>\n",
              "    <tr>\n",
              "      <th>1</th>\n",
              "      <td>HighChol</td>\n",
              "      <td>14484.951613</td>\n",
              "    </tr>\n",
              "    <tr>\n",
              "      <th>6</th>\n",
              "      <td>HeartDiseaseorAttack</td>\n",
              "      <td>10888.203411</td>\n",
              "    </tr>\n",
              "    <tr>\n",
              "      <th>13</th>\n",
              "      <td>GenHlth</td>\n",
              "      <td>9644.696355</td>\n",
              "    </tr>\n",
              "    <tr>\n",
              "      <th>15</th>\n",
              "      <td>PhysHlth</td>\n",
              "      <td>9519.889518</td>\n",
              "    </tr>\n",
              "    <tr>\n",
              "      <th>10</th>\n",
              "      <td>HvyAlcoholConsump</td>\n",
              "      <td>3944.896984</td>\n",
              "    </tr>\n",
              "    <tr>\n",
              "      <th>5</th>\n",
              "      <td>Stroke</td>\n",
              "      <td>3244.742754</td>\n",
              "    </tr>\n",
              "    <tr>\n",
              "      <th>3</th>\n",
              "      <td>BMI</td>\n",
              "      <td>2751.382395</td>\n",
              "    </tr>\n",
              "    <tr>\n",
              "      <th>20</th>\n",
              "      <td>Income</td>\n",
              "      <td>2410.537963</td>\n",
              "    </tr>\n",
              "    <tr>\n",
              "      <th>18</th>\n",
              "      <td>Age</td>\n",
              "      <td>2375.262319</td>\n",
              "    </tr>\n",
              "    <tr>\n",
              "      <th>7</th>\n",
              "      <td>PhysActivity</td>\n",
              "      <td>2137.390277</td>\n",
              "    </tr>\n",
              "    <tr>\n",
              "      <th>4</th>\n",
              "      <td>Smoker</td>\n",
              "      <td>1416.645171</td>\n",
              "    </tr>\n",
              "    <tr>\n",
              "      <th>14</th>\n",
              "      <td>MentHlth</td>\n",
              "      <td>869.921239</td>\n",
              "    </tr>\n",
              "    <tr>\n",
              "      <th>19</th>\n",
              "      <td>Education</td>\n",
              "      <td>502.462648</td>\n",
              "    </tr>\n",
              "    <tr>\n",
              "      <th>17</th>\n",
              "      <td>Sex</td>\n",
              "      <td>342.200955</td>\n",
              "    </tr>\n",
              "    <tr>\n",
              "      <th>8</th>\n",
              "      <td>Fruits</td>\n",
              "      <td>205.489533</td>\n",
              "    </tr>\n",
              "    <tr>\n",
              "      <th>9</th>\n",
              "      <td>Veggies</td>\n",
              "      <td>196.666454</td>\n",
              "    </tr>\n",
              "    <tr>\n",
              "      <th>2</th>\n",
              "      <td>CholCheck</td>\n",
              "      <td>124.060099</td>\n",
              "    </tr>\n",
              "    <tr>\n",
              "      <th>12</th>\n",
              "      <td>NoDocbcCost</td>\n",
              "      <td>95.944736</td>\n",
              "    </tr>\n",
              "    <tr>\n",
              "      <th>11</th>\n",
              "      <td>AnyHealthcare</td>\n",
              "      <td>31.315171</td>\n",
              "    </tr>\n",
              "  </tbody>\n",
              "</table>\n",
              "</div>"
            ],
            "text/plain": [
              "                 Feature    Chi2 Score\n",
              "0                 HighBP  23351.828784\n",
              "16              DiffWalk  18332.267182\n",
              "1               HighChol  14484.951613\n",
              "6   HeartDiseaseorAttack  10888.203411\n",
              "13               GenHlth   9644.696355\n",
              "15              PhysHlth   9519.889518\n",
              "10     HvyAlcoholConsump   3944.896984\n",
              "5                 Stroke   3244.742754\n",
              "3                    BMI   2751.382395\n",
              "20                Income   2410.537963\n",
              "18                   Age   2375.262319\n",
              "7           PhysActivity   2137.390277\n",
              "4                 Smoker   1416.645171\n",
              "14              MentHlth    869.921239\n",
              "19             Education    502.462648\n",
              "17                   Sex    342.200955\n",
              "8                 Fruits    205.489533\n",
              "9                Veggies    196.666454\n",
              "2              CholCheck    124.060099\n",
              "12           NoDocbcCost     95.944736\n",
              "11         AnyHealthcare     31.315171"
            ]
          },
          "execution_count": 89,
          "metadata": {},
          "output_type": "execute_result"
        }
      ],
      "source": [
        "chi2_selector = SelectKBest(chi2, k=\"all\")  \n",
        "x_kbest = chi2_selector.fit_transform(X_train, y_train)\n",
        "\n",
        "chi2_scores = chi2_selector.scores_\n",
        "\n",
        "chi2_results = pd.DataFrame({\n",
        "    \"Feature\": X_train.columns,\n",
        "    \"Chi2 Score\": chi2_scores\n",
        "})\n",
        "\n",
        "chi2_results = chi2_results.sort_values(by=\"Chi2 Score\", ascending=False)\n",
        "\n",
        "chi2_results"
      ]
    },
    {
      "cell_type": "code",
      "execution_count": 90,
      "metadata": {},
      "outputs": [],
      "source": [
        "selector = SelectKBest(score_func=chi2, k=15)\n",
        "selector.fit_transform(X_train, y_train)\n",
        "\n",
        "selected_columns = X_train.columns[selector.get_support()].tolist()"
      ]
    },
    {
      "cell_type": "markdown",
      "metadata": {},
      "source": [
        "## 4. Polynomial Features"
      ]
    },
    {
      "cell_type": "code",
      "execution_count": 91,
      "metadata": {
        "id": "XPF9-8vfWSQx"
      },
      "outputs": [],
      "source": [
        "poly = PolynomialFeatures(degree = 2, interaction_only=False)\n",
        "poly.fit(X_train[selected_columns])\n",
        "\n",
        "poly_feature_names = poly.get_feature_names_out(selected_columns)\n",
        "\n",
        "X_train_poly = pd.DataFrame(poly.transform(X_train[selected_columns]), columns=poly_feature_names, index=X_train.index)\n",
        "X_test_poly = pd.DataFrame(poly.transform(X_test[selected_columns]), columns=poly_feature_names, index=X_test.index)\n",
        "\n",
        "poly_new_columns = [col for col in poly_feature_names if col not in selected_columns]\n",
        "\n",
        "X_train_poly = X_train_poly[poly_new_columns]\n",
        "X_test_poly = X_test_poly[poly_new_columns]\n",
        "\n",
        "X_train = pd.concat([X_train, X_train_poly], axis=1)\n",
        "X_test = pd.concat([X_test, X_test_poly], axis=1)"
      ]
    },
    {
      "cell_type": "markdown",
      "metadata": {},
      "source": [
        "## Up file to wandb"
      ]
    },
    {
      "cell_type": "code",
      "execution_count": 92,
      "metadata": {},
      "outputs": [],
      "source": [
        "X_train_new_file = os.path.join(X_train_dir, \"X_train_new.csv\")\n",
        "X_test_new_file = os.path.join(X_test_dir, \"X_test_new.csv\")\n",
        "y_train_new_file = os.path.join(y_train_dir, \"y_train_new.csv\")\n",
        "y_test_new_file = os.path.join(y_test_dir, \"y_test_new.csv\")\n",
        "\n",
        "X_train.to_csv(X_train_new_file, index=False)\n",
        "X_test.to_csv(X_test_new_file, index=False)\n",
        "y_train.to_csv(y_train_new_file, index=False)\n",
        "y_test.to_csv(y_test_new_file, index=False)"
      ]
    },
    {
      "cell_type": "code",
      "execution_count": 93,
      "metadata": {},
      "outputs": [
        {
          "data": {
            "text/html": [
              "Tracking run with wandb version 0.19.10"
            ],
            "text/plain": [
              "<IPython.core.display.HTML object>"
            ]
          },
          "metadata": {},
          "output_type": "display_data"
        },
        {
          "data": {
            "text/html": [
              "Run data is saved locally in <code>c:\\Users\\PC\\Downloads\\MLOps final\\wandb\\run-20250427_135230-b3lst3ab</code>"
            ],
            "text/plain": [
              "<IPython.core.display.HTML object>"
            ]
          },
          "metadata": {},
          "output_type": "display_data"
        },
        {
          "data": {
            "text/html": [
              "Syncing run <strong><a href='https://wandb.ai/valoptauhoa-national-economics-university/risk_credit/runs/b3lst3ab' target=\"_blank\">lemon-plasma-34</a></strong> to <a href='https://wandb.ai/valoptauhoa-national-economics-university/risk_credit' target=\"_blank\">Weights & Biases</a> (<a href='https://wandb.me/developer-guide' target=\"_blank\">docs</a>)<br>"
            ],
            "text/plain": [
              "<IPython.core.display.HTML object>"
            ]
          },
          "metadata": {},
          "output_type": "display_data"
        },
        {
          "data": {
            "text/html": [
              " View project at <a href='https://wandb.ai/valoptauhoa-national-economics-university/risk_credit' target=\"_blank\">https://wandb.ai/valoptauhoa-national-economics-university/risk_credit</a>"
            ],
            "text/plain": [
              "<IPython.core.display.HTML object>"
            ]
          },
          "metadata": {},
          "output_type": "display_data"
        },
        {
          "data": {
            "text/html": [
              " View run at <a href='https://wandb.ai/valoptauhoa-national-economics-university/risk_credit/runs/b3lst3ab' target=\"_blank\">https://wandb.ai/valoptauhoa-national-economics-university/risk_credit/runs/b3lst3ab</a>"
            ],
            "text/plain": [
              "<IPython.core.display.HTML object>"
            ]
          },
          "metadata": {},
          "output_type": "display_data"
        },
        {
          "data": {
            "text/html": [],
            "text/plain": [
              "<IPython.core.display.HTML object>"
            ]
          },
          "metadata": {},
          "output_type": "display_data"
        },
        {
          "data": {
            "text/html": [
              " View run <strong style=\"color:#cdcd00\">lemon-plasma-34</strong> at: <a href='https://wandb.ai/valoptauhoa-national-economics-university/risk_credit/runs/b3lst3ab' target=\"_blank\">https://wandb.ai/valoptauhoa-national-economics-university/risk_credit/runs/b3lst3ab</a><br> View project at: <a href='https://wandb.ai/valoptauhoa-national-economics-university/risk_credit' target=\"_blank\">https://wandb.ai/valoptauhoa-national-economics-university/risk_credit</a><br>Synced 5 W&B file(s), 0 media file(s), 8 artifact file(s) and 0 other file(s)"
            ],
            "text/plain": [
              "<IPython.core.display.HTML object>"
            ]
          },
          "metadata": {},
          "output_type": "display_data"
        },
        {
          "data": {
            "text/html": [
              "Find logs at: <code>.\\wandb\\run-20250427_135230-b3lst3ab\\logs</code>"
            ],
            "text/plain": [
              "<IPython.core.display.HTML object>"
            ]
          },
          "metadata": {},
          "output_type": "display_data"
        }
      ],
      "source": [
        "run = wandb.init(project=\"risk_credit\", job_type=\"upload-feature-engineered\")\n",
        "\n",
        "def upload_artifact(artifact_name, file_path, artifact_type=\"Feature engineering\", artifact_description=\"Feature engineered data\"):\n",
        "    artifact = wandb.Artifact(\n",
        "        name=artifact_name,\n",
        "        type=artifact_type,\n",
        "        description=artifact_description\n",
        "    )\n",
        "    artifact.add_file(file_path)\n",
        "    wandb.log_artifact(artifact)\n",
        "\n",
        "upload_artifact(\"X_train_new.csv\", X_train_new_file)\n",
        "upload_artifact(\"X_test_new.csv\", X_test_new_file)\n",
        "upload_artifact(\"y_train_new.csv\", y_train_new_file)\n",
        "upload_artifact(\"y_test_new.csv\", y_test_new_file)\n",
        "\n",
        "wandb.finish()"
      ]
    }
  ],
  "metadata": {
    "colab": {
      "collapsed_sections": [],
      "name": "3 - preprocessing.ipynb",
      "provenance": []
    },
    "kernelspec": {
      "display_name": "Python 3",
      "language": "python",
      "name": "python3"
    },
    "language_info": {
      "codemirror_mode": {
        "name": "ipython",
        "version": 3
      },
      "file_extension": ".py",
      "mimetype": "text/x-python",
      "name": "python",
      "nbconvert_exporter": "python",
      "pygments_lexer": "ipython3",
      "version": "3.11.1"
    },
    "widgets": {
      "application/vnd.jupyter.widget-state+json": {
        "0b6aae5021914b759b68b48dd01aebf7": {
          "model_module": "@jupyter-widgets/base",
          "model_module_version": "1.2.0",
          "model_name": "LayoutModel",
          "state": {
            "_model_module": "@jupyter-widgets/base",
            "_model_module_version": "1.2.0",
            "_model_name": "LayoutModel",
            "_view_count": null,
            "_view_module": "@jupyter-widgets/base",
            "_view_module_version": "1.2.0",
            "_view_name": "LayoutView",
            "align_content": null,
            "align_items": null,
            "align_self": null,
            "border": null,
            "bottom": null,
            "display": null,
            "flex": null,
            "flex_flow": null,
            "grid_area": null,
            "grid_auto_columns": null,
            "grid_auto_flow": null,
            "grid_auto_rows": null,
            "grid_column": null,
            "grid_gap": null,
            "grid_row": null,
            "grid_template_areas": null,
            "grid_template_columns": null,
            "grid_template_rows": null,
            "height": null,
            "justify_content": null,
            "justify_items": null,
            "left": null,
            "margin": null,
            "max_height": null,
            "max_width": null,
            "min_height": null,
            "min_width": null,
            "object_fit": null,
            "object_position": null,
            "order": null,
            "overflow": null,
            "overflow_x": null,
            "overflow_y": null,
            "padding": null,
            "right": null,
            "top": null,
            "visibility": null,
            "width": null
          }
        },
        "0cd8fb266e864d729b2f85c4085cc155": {
          "model_module": "@jupyter-widgets/base",
          "model_module_version": "1.2.0",
          "model_name": "LayoutModel",
          "state": {
            "_model_module": "@jupyter-widgets/base",
            "_model_module_version": "1.2.0",
            "_model_name": "LayoutModel",
            "_view_count": null,
            "_view_module": "@jupyter-widgets/base",
            "_view_module_version": "1.2.0",
            "_view_name": "LayoutView",
            "align_content": null,
            "align_items": null,
            "align_self": null,
            "border": null,
            "bottom": null,
            "display": null,
            "flex": null,
            "flex_flow": null,
            "grid_area": null,
            "grid_auto_columns": null,
            "grid_auto_flow": null,
            "grid_auto_rows": null,
            "grid_column": null,
            "grid_gap": null,
            "grid_row": null,
            "grid_template_areas": null,
            "grid_template_columns": null,
            "grid_template_rows": null,
            "height": null,
            "justify_content": null,
            "justify_items": null,
            "left": null,
            "margin": null,
            "max_height": null,
            "max_width": null,
            "min_height": null,
            "min_width": null,
            "object_fit": null,
            "object_position": null,
            "order": null,
            "overflow": null,
            "overflow_x": null,
            "overflow_y": null,
            "padding": null,
            "right": null,
            "top": null,
            "visibility": null,
            "width": null
          }
        },
        "15b76b1b05b743648ebca28fce91c70f": {
          "model_module": "@jupyter-widgets/controls",
          "model_module_version": "1.5.0",
          "model_name": "ProgressStyleModel",
          "state": {
            "_model_module": "@jupyter-widgets/controls",
            "_model_module_version": "1.5.0",
            "_model_name": "ProgressStyleModel",
            "_view_count": null,
            "_view_module": "@jupyter-widgets/base",
            "_view_module_version": "1.2.0",
            "_view_name": "StyleView",
            "bar_color": null,
            "description_width": ""
          }
        },
        "4af26c812d2c4a5d83fac74b5381c7d9": {
          "model_module": "@jupyter-widgets/controls",
          "model_module_version": "1.5.0",
          "model_name": "VBoxModel",
          "state": {
            "_dom_classes": [],
            "_model_module": "@jupyter-widgets/controls",
            "_model_module_version": "1.5.0",
            "_model_name": "VBoxModel",
            "_view_count": null,
            "_view_module": "@jupyter-widgets/controls",
            "_view_module_version": "1.5.0",
            "_view_name": "VBoxView",
            "box_style": "",
            "children": [
              "IPY_MODEL_d31f024d967541359653d30aaf0b31aa",
              "IPY_MODEL_b6405bec665a43f9bb039c54b5dad800"
            ],
            "layout": "IPY_MODEL_a7fc1e5a59314ac4a65a52deb419a743"
          }
        },
        "993cc66212e84c1fa6ae4612807f501d": {
          "model_module": "@jupyter-widgets/controls",
          "model_module_version": "1.5.0",
          "model_name": "DescriptionStyleModel",
          "state": {
            "_model_module": "@jupyter-widgets/controls",
            "_model_module_version": "1.5.0",
            "_model_name": "DescriptionStyleModel",
            "_view_count": null,
            "_view_module": "@jupyter-widgets/base",
            "_view_module_version": "1.2.0",
            "_view_name": "StyleView",
            "description_width": ""
          }
        },
        "a7fc1e5a59314ac4a65a52deb419a743": {
          "model_module": "@jupyter-widgets/base",
          "model_module_version": "1.2.0",
          "model_name": "LayoutModel",
          "state": {
            "_model_module": "@jupyter-widgets/base",
            "_model_module_version": "1.2.0",
            "_model_name": "LayoutModel",
            "_view_count": null,
            "_view_module": "@jupyter-widgets/base",
            "_view_module_version": "1.2.0",
            "_view_name": "LayoutView",
            "align_content": null,
            "align_items": null,
            "align_self": null,
            "border": null,
            "bottom": null,
            "display": null,
            "flex": null,
            "flex_flow": null,
            "grid_area": null,
            "grid_auto_columns": null,
            "grid_auto_flow": null,
            "grid_auto_rows": null,
            "grid_column": null,
            "grid_gap": null,
            "grid_row": null,
            "grid_template_areas": null,
            "grid_template_columns": null,
            "grid_template_rows": null,
            "height": null,
            "justify_content": null,
            "justify_items": null,
            "left": null,
            "margin": null,
            "max_height": null,
            "max_width": null,
            "min_height": null,
            "min_width": null,
            "object_fit": null,
            "object_position": null,
            "order": null,
            "overflow": null,
            "overflow_x": null,
            "overflow_y": null,
            "padding": null,
            "right": null,
            "top": null,
            "visibility": null,
            "width": null
          }
        },
        "b6405bec665a43f9bb039c54b5dad800": {
          "model_module": "@jupyter-widgets/controls",
          "model_module_version": "1.5.0",
          "model_name": "FloatProgressModel",
          "state": {
            "_dom_classes": [],
            "_model_module": "@jupyter-widgets/controls",
            "_model_module_version": "1.5.0",
            "_model_name": "FloatProgressModel",
            "_view_count": null,
            "_view_module": "@jupyter-widgets/controls",
            "_view_module_version": "1.5.0",
            "_view_name": "ProgressView",
            "bar_style": "",
            "description": "",
            "description_tooltip": null,
            "layout": "IPY_MODEL_0b6aae5021914b759b68b48dd01aebf7",
            "max": 1,
            "min": 0,
            "orientation": "horizontal",
            "style": "IPY_MODEL_15b76b1b05b743648ebca28fce91c70f",
            "value": 1
          }
        },
        "d31f024d967541359653d30aaf0b31aa": {
          "model_module": "@jupyter-widgets/controls",
          "model_module_version": "1.5.0",
          "model_name": "LabelModel",
          "state": {
            "_dom_classes": [],
            "_model_module": "@jupyter-widgets/controls",
            "_model_module_version": "1.5.0",
            "_model_name": "LabelModel",
            "_view_count": null,
            "_view_module": "@jupyter-widgets/controls",
            "_view_module_version": "1.5.0",
            "_view_name": "LabelView",
            "description": "",
            "description_tooltip": null,
            "layout": "IPY_MODEL_0cd8fb266e864d729b2f85c4085cc155",
            "placeholder": "​",
            "style": "IPY_MODEL_993cc66212e84c1fa6ae4612807f501d",
            "value": "0.013 MB of 0.013 MB uploaded (0.000 MB deduped)\r"
          }
        }
      }
    }
  },
  "nbformat": 4,
  "nbformat_minor": 0
}
