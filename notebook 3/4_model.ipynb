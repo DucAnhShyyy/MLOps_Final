{
 "cells": [
  {
   "cell_type": "code",
   "execution_count": 147,
   "id": "a4f709d1",
   "metadata": {},
   "outputs": [],
   "source": [
    "import os\n",
    "import pandas as pd\n",
    "import numpy as np\n",
    "import matplotlib.pyplot as plt\n",
    "from sklearn.preprocessing import MinMaxScaler, PolynomialFeatures\n",
    "from sklearn.feature_selection import SelectKBest, chi2\n",
    "from sklearn.model_selection import cross_validate, StratifiedKFold\n",
    "from sklearn.metrics import confusion_matrix\n",
    "from xgboost import XGBClassifier\n",
    "from imblearn.pipeline import Pipeline as ImbPipeline\n",
    "from imblearn.under_sampling import RandomUnderSampler\n",
    "import optuna\n",
    "import wandb\n",
    "from sklearn.metrics import confusion_matrix, ConfusionMatrixDisplay\n",
    "import warnings\n",
    "warnings.filterwarnings(\"ignore\")\n",
    "from sklearn.metrics import accuracy_score, f1_score, recall_score"
   ]
  },
  {
   "cell_type": "markdown",
   "id": "30bf32d4",
   "metadata": {},
   "source": [
    "# Downloading file from Wandb "
   ]
  },
  {
   "cell_type": "code",
   "execution_count": 148,
   "id": "3d86c6bb",
   "metadata": {},
   "outputs": [
    {
     "data": {
      "text/html": [
       "Tracking run with wandb version 0.19.10"
      ],
      "text/plain": [
       "<IPython.core.display.HTML object>"
      ]
     },
     "metadata": {},
     "output_type": "display_data"
    },
    {
     "data": {
      "text/html": [
       "Run data is saved locally in <code>c:\\Users\\PC\\Downloads\\notebook 2\\wandb\\run-20250504_205603-d9k24reh</code>"
      ],
      "text/plain": [
       "<IPython.core.display.HTML object>"
      ]
     },
     "metadata": {},
     "output_type": "display_data"
    },
    {
     "data": {
      "text/html": [
       "Syncing run <strong><a href='https://wandb.ai/valoptauhoa-national-economics-university/risk_credit/runs/d9k24reh' target=\"_blank\">star-cruiser-144</a></strong> to <a href='https://wandb.ai/valoptauhoa-national-economics-university/risk_credit' target=\"_blank\">Weights & Biases</a> (<a href='https://wandb.me/developer-guide' target=\"_blank\">docs</a>)<br>"
      ],
      "text/plain": [
       "<IPython.core.display.HTML object>"
      ]
     },
     "metadata": {},
     "output_type": "display_data"
    },
    {
     "data": {
      "text/html": [
       " View project at <a href='https://wandb.ai/valoptauhoa-national-economics-university/risk_credit' target=\"_blank\">https://wandb.ai/valoptauhoa-national-economics-university/risk_credit</a>"
      ],
      "text/plain": [
       "<IPython.core.display.HTML object>"
      ]
     },
     "metadata": {},
     "output_type": "display_data"
    },
    {
     "data": {
      "text/html": [
       " View run at <a href='https://wandb.ai/valoptauhoa-national-economics-university/risk_credit/runs/d9k24reh' target=\"_blank\">https://wandb.ai/valoptauhoa-national-economics-university/risk_credit/runs/d9k24reh</a>"
      ],
      "text/plain": [
       "<IPython.core.display.HTML object>"
      ]
     },
     "metadata": {},
     "output_type": "display_data"
    }
   ],
   "source": [
    "run = wandb.init(project=\"risk_credit\", job_type=\"EDA\")"
   ]
  },
  {
   "cell_type": "code",
   "execution_count": 149,
   "id": "ac74c871",
   "metadata": {},
   "outputs": [
    {
     "name": "stderr",
     "output_type": "stream",
     "text": [
      "wandb: Appending key for api.wandb.ai to your netrc file: C:\\Users\\PC\\_netrc\n",
      "wandb: W&B API key is configured. Use `wandb login --relogin` to force relogin\n"
     ]
    }
   ],
   "source": [
    "WANDB_API_KEY=os.environ.get('1d620fa1eff54f2f0ba01b14c81969f4ce70bd6c')\n",
    "!wandb login --relogin 1d620fa1eff54f2f0ba01b14c81969f4ce70bd6c"
   ]
  },
  {
   "cell_type": "code",
   "execution_count": 150,
   "id": "8a9bb8f5",
   "metadata": {},
   "outputs": [
    {
     "name": "stderr",
     "output_type": "stream",
     "text": [
      "\u001b[34m\u001b[1mwandb\u001b[0m:   1 of 1 files downloaded.  \n",
      "\u001b[34m\u001b[1mwandb\u001b[0m:   1 of 1 files downloaded.  \n",
      "\u001b[34m\u001b[1mwandb\u001b[0m:   1 of 1 files downloaded.  \n",
      "\u001b[34m\u001b[1mwandb\u001b[0m:   1 of 1 files downloaded.  \n"
     ]
    },
    {
     "data": {
      "text/html": [],
      "text/plain": [
       "<IPython.core.display.HTML object>"
      ]
     },
     "metadata": {},
     "output_type": "display_data"
    },
    {
     "data": {
      "text/html": [
       " View run <strong style=\"color:#cdcd00\">star-cruiser-144</strong> at: <a href='https://wandb.ai/valoptauhoa-national-economics-university/risk_credit/runs/d9k24reh' target=\"_blank\">https://wandb.ai/valoptauhoa-national-economics-university/risk_credit/runs/d9k24reh</a><br> View project at: <a href='https://wandb.ai/valoptauhoa-national-economics-university/risk_credit' target=\"_blank\">https://wandb.ai/valoptauhoa-national-economics-university/risk_credit</a><br>Synced 5 W&B file(s), 0 media file(s), 0 artifact file(s) and 0 other file(s)"
      ],
      "text/plain": [
       "<IPython.core.display.HTML object>"
      ]
     },
     "metadata": {},
     "output_type": "display_data"
    },
    {
     "data": {
      "text/html": [
       "Find logs at: <code>.\\wandb\\run-20250504_205603-d9k24reh\\logs</code>"
      ],
      "text/plain": [
       "<IPython.core.display.HTML object>"
      ]
     },
     "metadata": {},
     "output_type": "display_data"
    }
   ],
   "source": [
    "artifact_X_train = wandb.use_artifact('risk_credit/X_train.csv:latest', type='Preprocessing')\n",
    "artifact_X_test = wandb.use_artifact('risk_credit/X_test.csv:latest', type='Preprocessing')\n",
    "artifact_y_train = wandb.use_artifact('risk_credit/y_train.csv:latest', type='Preprocessing')\n",
    "artifact_y_test = wandb.use_artifact('risk_credit/y_test.csv:latest', type='Preprocessing')\n",
    "\n",
    "X_train_dir = artifact_X_train.download()\n",
    "X_test_dir = artifact_X_test.download()\n",
    "y_train_dir = artifact_y_train.download()\n",
    "y_test_dir = artifact_y_test.download()\n",
    "\n",
    "wandb.finish()\n",
    "\n",
    "X_train_path = os.path.join(X_train_dir, \"X_train.csv\")\n",
    "X_test_path = os.path.join(X_test_dir, \"X_test.csv\")\n",
    "y_train_path = os.path.join(y_train_dir, \"y_train.csv\")\n",
    "y_test_path = os.path.join(y_test_dir, \"y_test.csv\")\n",
    "\n",
    "X_train = pd.read_csv(X_train_path)\n",
    "X_test = pd.read_csv(X_test_path)\n",
    "y_train = pd.read_csv(y_train_path)\n",
    "y_test = pd.read_csv(y_test_path)"
   ]
  },
  {
   "cell_type": "code",
   "execution_count": 151,
   "id": "75e7cb5b",
   "metadata": {},
   "outputs": [
    {
     "name": "stdout",
     "output_type": "stream",
     "text": [
      "f1: 0.7476 ± 0.0041\n",
      "accuracy: 0.7396 ± 0.0036\n",
      "recall: 0.7710 ± 0.0068\n"
     ]
    },
    {
     "data": {
      "image/png": "[encoded data removed]",
      "text/plain": [
       "<Figure size 640x480 with 2 Axes>"
      ]
     },
     "metadata": {},
     "output_type": "display_data"
    }
   ],
   "source": [
    "rus = RandomUnderSampler(random_state=42)\n",
    "X_res, y_res = rus.fit_resample(X_train, y_train)\n",
    "\n",
    "default_pipe = ImbPipeline(steps=[\n",
    "    \n",
    "    (\"scaler\", MinMaxScaler()),\n",
    "    (\"selectkbest\", SelectKBest(score_func=chi2, k=15)),\n",
    "    (\"poly\", PolynomialFeatures(degree=2, include_bias=False)),\n",
    "    (\"xgb\", XGBClassifier(use_label_encoder=False, eval_metric=\"logloss\", random_state=42))\n",
    "])\n",
    "\n",
    "scoring = ['f1', 'accuracy', 'recall']\n",
    "cv = StratifiedKFold(n_splits=5, shuffle=True, random_state=42)\n",
    "\n",
    "default_scores = cross_validate(default_pipe, X_res, y_res, cv=cv, scoring=scoring)\n",
    "\n",
    "for metric in scoring:\n",
    "    mean = np.mean(default_scores[f'test_{metric}'])\n",
    "    std = np.std(default_scores[f'test_{metric}'])\n",
    "    print(f\"{metric}: {mean:.4f} ± {std:.4f}\")\n",
    "\n",
    "default_pipe.fit(X_res, y_res)\n",
    "\n",
    "y_pred = default_pipe.predict(X_test)\n",
    "\n",
    "cm = confusion_matrix(y_test, y_pred)\n",
    "disp = ConfusionMatrixDisplay(confusion_matrix=cm)\n",
    "disp.plot(cmap=\"Blues\")\n",
    "plt.title(\"Confusion Matrix - Default Model\")\n",
    "plt.show()\n"
   ]
  },
  {
   "cell_type": "code",
   "execution_count": 152,
   "id": "57563081",
   "metadata": {},
   "outputs": [
    {
     "name": "stderr",
     "output_type": "stream",
     "text": [
      "[I 2025-05-04 20:56:42,724] A new study created in memory with name: no-name-e0a55288-c818-45fe-993b-1126f4a8409f\n",
      "[I 2025-05-04 20:57:19,583] Trial 0 finished with value: 0.754563635575823 and parameters: {'max_depth': 9, 'n_estimators': 122, 'learning_rate': 0.030233745493122053, 'subsample': 0.7904607632271217, 'colsample_bytree': 0.9624873054164856}. Best is trial 0 with value: 0.754563635575823.\n",
      "[I 2025-05-04 20:57:30,520] Trial 1 finished with value: 0.7558307195234782 and parameters: {'max_depth': 5, 'n_estimators': 57, 'learning_rate': 0.03154109424367864, 'subsample': 0.5762104253589739, 'colsample_bytree': 0.9719635337450954}. Best is trial 1 with value: 0.7558307195234782.\n",
      "[I 2025-05-04 20:57:54,298] Trial 2 finished with value: 0.7561275980376713 and parameters: {'max_depth': 3, 'n_estimators': 287, 'learning_rate': 0.20523316420603957, 'subsample': 0.7077496175618263, 'colsample_bytree': 0.7487734583676284}. Best is trial 2 with value: 0.7561275980376713.\n",
      "[I 2025-05-04 20:58:19,513] Trial 3 finished with value: 0.7433754827913807 and parameters: {'max_depth': 6, 'n_estimators': 152, 'learning_rate': 0.20147501764975148, 'subsample': 0.5296401518727495, 'colsample_bytree': 0.7303757784726386}. Best is trial 2 with value: 0.7561275980376713.\n",
      "[I 2025-05-04 20:58:31,658] Trial 4 finished with value: 0.7564968474947052 and parameters: {'max_depth': 3, 'n_estimators': 118, 'learning_rate': 0.2430028376827048, 'subsample': 0.6139712748854751, 'colsample_bytree': 0.825387270227135}. Best is trial 4 with value: 0.7564968474947052.\n",
      "[I 2025-05-04 20:58:51,744] Trial 5 finished with value: 0.7580706597361891 and parameters: {'max_depth': 3, 'n_estimators': 216, 'learning_rate': 0.14974711635491852, 'subsample': 0.6276828124395372, 'colsample_bytree': 0.8173239385533579}. Best is trial 5 with value: 0.7580706597361891.\n",
      "[I 2025-05-04 21:00:11,936] Trial 6 finished with value: 0.7054194026096376 and parameters: {'max_depth': 10, 'n_estimators': 257, 'learning_rate': 0.27603808812478664, 'subsample': 0.5854109839957042, 'colsample_bytree': 0.8091876107610698}. Best is trial 5 with value: 0.7580706597361891.\n",
      "[I 2025-05-04 21:00:23,798] Trial 7 finished with value: 0.7567731070815524 and parameters: {'max_depth': 5, 'n_estimators': 103, 'learning_rate': 0.1493220486102245, 'subsample': 0.7419619338813491, 'colsample_bytree': 0.5595863764683439}. Best is trial 5 with value: 0.7580706597361891.\n",
      "[I 2025-05-04 21:00:51,560] Trial 8 finished with value: 0.7572598851544899 and parameters: {'max_depth': 5, 'n_estimators': 242, 'learning_rate': 0.03112988305015856, 'subsample': 0.9261282566746546, 'colsample_bytree': 0.7204375295753629}. Best is trial 5 with value: 0.7580706597361891.\n",
      "[I 2025-05-04 21:01:08,474] Trial 9 finished with value: 0.7536278904968924 and parameters: {'max_depth': 10, 'n_estimators': 50, 'learning_rate': 0.025045971079198894, 'subsample': 0.8372217034192482, 'colsample_bytree': 0.8193179372595548}. Best is trial 5 with value: 0.7580706597361891.\n",
      "[I 2025-05-04 21:01:45,588] Trial 10 finished with value: 0.746755292818491 and parameters: {'max_depth': 8, 'n_estimators': 200, 'learning_rate': 0.08508545943851901, 'subsample': 0.6679880410129186, 'colsample_bytree': 0.5910095145645368}. Best is trial 5 with value: 0.7580706597361891.\n",
      "[I 2025-05-04 21:02:04,999] Trial 11 finished with value: 0.7555443121003363 and parameters: {'max_depth': 4, 'n_estimators': 218, 'learning_rate': 0.012294745376982958, 'subsample': 0.9898868868207458, 'colsample_bytree': 0.6626902078751766}. Best is trial 5 with value: 0.7580706597361891.\n",
      "[I 2025-05-04 21:02:47,560] Trial 12 finished with value: 0.7515262897522136 and parameters: {'max_depth': 7, 'n_estimators': 233, 'learning_rate': 0.0673442760012289, 'subsample': 0.9299619065755104, 'colsample_bytree': 0.8675421699819763}. Best is trial 5 with value: 0.7580706597361891.\n",
      "[I 2025-05-04 21:03:04,456] Trial 13 finished with value: 0.7570098572579578 and parameters: {'max_depth': 4, 'n_estimators': 180, 'learning_rate': 0.11478101647054953, 'subsample': 0.8566021425863481, 'colsample_bytree': 0.6490859184939719}. Best is trial 5 with value: 0.7580706597361891.\n",
      "[I 2025-05-04 21:03:42,816] Trial 14 finished with value: 0.7569507108901947 and parameters: {'max_depth': 5, 'n_estimators': 262, 'learning_rate': 0.053695154354053476, 'subsample': 0.6604593234354422, 'colsample_bytree': 0.9088468526989766}. Best is trial 5 with value: 0.7580706597361891.\n",
      "[I 2025-05-04 21:04:03,754] Trial 15 finished with value: 0.7566594384265736 and parameters: {'max_depth': 3, 'n_estimators': 289, 'learning_rate': 0.015199221774863466, 'subsample': 0.9089489650760649, 'colsample_bytree': 0.6872902864513909}. Best is trial 5 with value: 0.7580706597361891.\n",
      "[I 2025-05-04 21:04:43,060] Trial 16 finished with value: 0.7575588699184449 and parameters: {'max_depth': 6, 'n_estimators': 235, 'learning_rate': 0.04664102966416982, 'subsample': 0.5062922265986501, 'colsample_bytree': 0.7727193526845867}. Best is trial 5 with value: 0.7580706597361891.\n",
      "[I 2025-05-04 21:05:13,329] Trial 17 finished with value: 0.7552399395755929 and parameters: {'max_depth': 7, 'n_estimators': 197, 'learning_rate': 0.05391799357536617, 'subsample': 0.5008597638157605, 'colsample_bytree': 0.5049142630235167}. Best is trial 5 with value: 0.7580706597361891.\n",
      "[I 2025-05-04 21:05:49,840] Trial 18 finished with value: 0.7460119087335405 and parameters: {'max_depth': 8, 'n_estimators': 156, 'learning_rate': 0.10090273017576044, 'subsample': 0.5508829471478788, 'colsample_bytree': 0.7853583854942602}. Best is trial 5 with value: 0.7580706597361891.\n",
      "[I 2025-05-04 21:06:28,513] Trial 19 finished with value: 0.7575097113678786 and parameters: {'max_depth': 6, 'n_estimators': 215, 'learning_rate': 0.04259015217651029, 'subsample': 0.6371491708793189, 'colsample_bytree': 0.9060609130459565}. Best is trial 5 with value: 0.7580706597361891.\n",
      "[I 2025-05-04 21:07:01,322] Trial 20 finished with value: 0.7577461948023699 and parameters: {'max_depth': 4, 'n_estimators': 266, 'learning_rate': 0.019100120614982893, 'subsample': 0.5006575534517628, 'colsample_bytree': 0.8578763732169099}. Best is trial 5 with value: 0.7580706597361891.\n",
      "[I 2025-05-04 21:07:34,620] Trial 21 finished with value: 0.7578393713005109 and parameters: {'max_depth': 4, 'n_estimators': 269, 'learning_rate': 0.01989277583448036, 'subsample': 0.5101057139106822, 'colsample_bytree': 0.8672215248249708}. Best is trial 5 with value: 0.7580706597361891.\n",
      "[I 2025-05-04 21:08:07,209] Trial 22 finished with value: 0.7577931791190061 and parameters: {'max_depth': 4, 'n_estimators': 269, 'learning_rate': 0.019790983062504583, 'subsample': 0.5670062763349825, 'colsample_bytree': 0.862595791778333}. Best is trial 5 with value: 0.7580706597361891.\n",
      "[I 2025-05-04 21:08:43,679] Trial 23 finished with value: 0.7576902041513534 and parameters: {'max_depth': 4, 'n_estimators': 296, 'learning_rate': 0.019127812838379568, 'subsample': 0.5954970901963299, 'colsample_bytree': 0.9035745406278545}. Best is trial 5 with value: 0.7580706597361891.\n",
      "[I 2025-05-04 21:09:13,302] Trial 24 finished with value: 0.7548513903668217 and parameters: {'max_depth': 3, 'n_estimators': 277, 'learning_rate': 0.010480734113098297, 'subsample': 0.5546917120165469, 'colsample_bytree': 0.9981356557244055}. Best is trial 5 with value: 0.7580706597361891.\n",
      "[I 2025-05-04 21:09:41,646] Trial 25 finished with value: 0.757514501994736 and parameters: {'max_depth': 4, 'n_estimators': 248, 'learning_rate': 0.020245126669276182, 'subsample': 0.6949743475649657, 'colsample_bytree': 0.8544222444211167}. Best is trial 5 with value: 0.7580706597361891.\n",
      "[I 2025-05-04 21:10:03,872] Trial 26 finished with value: 0.7553989702949038 and parameters: {'max_depth': 3, 'n_estimators': 222, 'learning_rate': 0.013848702296983453, 'subsample': 0.6445502007198183, 'colsample_bytree': 0.9266226445578434}. Best is trial 5 with value: 0.7580706597361891.\n",
      "[I 2025-05-04 21:10:37,673] Trial 27 finished with value: 0.7581751748727312 and parameters: {'max_depth': 4, 'n_estimators': 273, 'learning_rate': 0.03667229054739346, 'subsample': 0.5581062353985824, 'colsample_bytree': 0.8685966732045943}. Best is trial 27 with value: 0.7581751748727312.\n",
      "[I 2025-05-04 21:11:24,120] Trial 28 finished with value: 0.7574659212415622 and parameters: {'max_depth': 5, 'n_estimators': 299, 'learning_rate': 0.03855879780124066, 'subsample': 0.6039174612944077, 'colsample_bytree': 0.9430187669748267}. Best is trial 27 with value: 0.7581751748727312.\n",
      "[I 2025-05-04 21:11:40,518] Trial 29 finished with value: 0.7573001371251318 and parameters: {'max_depth': 3, 'n_estimators': 196, 'learning_rate': 0.07843990213504243, 'subsample': 0.7776938014824875, 'colsample_bytree': 0.7834301994235402}. Best is trial 27 with value: 0.7581751748727312.\n",
      "[I 2025-05-04 21:12:02,170] Trial 30 finished with value: 0.7559767119047294 and parameters: {'max_depth': 4, 'n_estimators': 172, 'learning_rate': 0.15115589179075054, 'subsample': 0.5273038995976066, 'colsample_bytree': 0.8752133661144941}. Best is trial 27 with value: 0.7581751748727312.\n",
      "[I 2025-05-04 21:12:34,754] Trial 31 finished with value: 0.7583083784646787 and parameters: {'max_depth': 4, 'n_estimators': 266, 'learning_rate': 0.02477519513803845, 'subsample': 0.5478921858126082, 'colsample_bytree': 0.8472964252415439}. Best is trial 31 with value: 0.7583083784646787.\n",
      "[I 2025-05-04 21:13:19,740] Trial 32 finished with value: 0.7578741799449149 and parameters: {'max_depth': 5, 'n_estimators': 278, 'learning_rate': 0.03678477564706146, 'subsample': 0.5415625554167746, 'colsample_bytree': 0.9609669248625627}. Best is trial 31 with value: 0.7583083784646787.\n",
      "[I 2025-05-04 21:14:05,236] Trial 33 finished with value: 0.757792456937801 and parameters: {'max_depth': 5, 'n_estimators': 281, 'learning_rate': 0.02649908842843979, 'subsample': 0.549634711490575, 'colsample_bytree': 0.9605181594260744}. Best is trial 31 with value: 0.7583083784646787.\n",
      "[I 2025-05-04 21:14:53,252] Trial 34 finished with value: 0.7574894350344439 and parameters: {'max_depth': 6, 'n_estimators': 249, 'learning_rate': 0.035884262527258876, 'subsample': 0.603665858447398, 'colsample_bytree': 0.9919569924368964}. Best is trial 31 with value: 0.7583083784646787.\n",
      "[I 2025-05-04 21:15:01,708] Trial 35 finished with value: 0.7542032261809668 and parameters: {'max_depth': 3, 'n_estimators': 79, 'learning_rate': 0.025452726962403038, 'subsample': 0.7055090202522938, 'colsample_bytree': 0.8306906736069377}. Best is trial 31 with value: 0.7583083784646787.\n",
      "[I 2025-05-04 21:15:45,037] Trial 36 finished with value: 0.7551282717450659 and parameters: {'max_depth': 5, 'n_estimators': 282, 'learning_rate': 0.06670063123223671, 'subsample': 0.6323915498277033, 'colsample_bytree': 0.9542497697961883}. Best is trial 31 with value: 0.7583083784646787.\n",
      "[I 2025-05-04 21:16:07,738] Trial 37 finished with value: 0.7577929741152124 and parameters: {'max_depth': 3, 'n_estimators': 254, 'learning_rate': 0.03402278007534612, 'subsample': 0.5789859479073782, 'colsample_bytree': 0.7582204251726677}. Best is trial 31 with value: 0.7583083784646787.\n",
      "[I 2025-05-04 21:16:35,440] Trial 38 finished with value: 0.7582455768213322 and parameters: {'max_depth': 4, 'n_estimators': 237, 'learning_rate': 0.04622890994962601, 'subsample': 0.540228534544577, 'colsample_bytree': 0.808064469340847}. Best is trial 31 with value: 0.7583083784646787.\n",
      "[I 2025-05-04 21:16:52,675] Trial 39 finished with value: 0.7582333346313791 and parameters: {'max_depth': 3, 'n_estimators': 208, 'learning_rate': 0.045724821584460146, 'subsample': 0.7513014202174342, 'colsample_bytree': 0.7272141517635634}. Best is trial 31 with value: 0.7583083784646787.\n",
      "[I 2025-05-04 21:17:16,188] Trial 40 finished with value: 0.7585434937958246 and parameters: {'max_depth': 4, 'n_estimators': 230, 'learning_rate': 0.04353104335860638, 'subsample': 0.7399717069731546, 'colsample_bytree': 0.719564247030249}. Best is trial 40 with value: 0.7585434937958246.\n",
      "[I 2025-05-04 21:17:51,602] Trial 41 finished with value: 0.7573131650891052 and parameters: {'max_depth': 4, 'n_estimators': 232, 'learning_rate': 0.06350076141531186, 'subsample': 0.7288195643388918, 'colsample_bytree': 0.7128780852241479}. Best is trial 40 with value: 0.7585434937958246.\n",
      "[I 2025-05-04 21:18:21,325] Trial 42 finished with value: 0.7580087510292168 and parameters: {'max_depth': 3, 'n_estimators': 210, 'learning_rate': 0.043220006607624456, 'subsample': 0.7778179537605858, 'colsample_bytree': 0.7355821035736908}. Best is trial 40 with value: 0.7585434937958246.\n",
      "[I 2025-05-04 21:18:55,860] Trial 43 finished with value: 0.7581702634086203 and parameters: {'max_depth': 4, 'n_estimators': 180, 'learning_rate': 0.028509463559591938, 'subsample': 0.8374853484108843, 'colsample_bytree': 0.8059482372860025}. Best is trial 40 with value: 0.7585434937958246.\n",
      "[I 2025-05-04 21:19:36,263] Trial 44 finished with value: 0.7572867139672154 and parameters: {'max_depth': 4, 'n_estimators': 240, 'learning_rate': 0.04969363523225985, 'subsample': 0.8049076632399512, 'colsample_bytree': 0.6945661829971965}. Best is trial 40 with value: 0.7585434937958246.\n",
      "[I 2025-05-04 21:20:24,678] Trial 45 finished with value: 0.7578230474864242 and parameters: {'max_depth': 5, 'n_estimators': 227, 'learning_rate': 0.031697746129339406, 'subsample': 0.6748226617176091, 'colsample_bytree': 0.6394717444825989}. Best is trial 40 with value: 0.7585434937958246.\n",
      "[I 2025-05-04 21:20:54,446] Trial 46 finished with value: 0.7578191111155457 and parameters: {'max_depth': 3, 'n_estimators': 202, 'learning_rate': 0.0628209046892059, 'subsample': 0.7464164372362699, 'colsample_bytree': 0.7498092121171482}. Best is trial 40 with value: 0.7585434937958246.\n",
      "[I 2025-05-04 21:22:56,127] Trial 47 finished with value: 0.7534523032304155 and parameters: {'max_depth': 9, 'n_estimators': 254, 'learning_rate': 0.02302555433171581, 'subsample': 0.7296127386462156, 'colsample_bytree': 0.800214823775224}. Best is trial 40 with value: 0.7585434937958246.\n",
      "[I 2025-05-04 21:23:45,888] Trial 48 finished with value: 0.7588949951019196 and parameters: {'max_depth': 5, 'n_estimators': 188, 'learning_rate': 0.04108862075412971, 'subsample': 0.5266976890071263, 'colsample_bytree': 0.834098230428868}. Best is trial 48 with value: 0.7588949951019196.\n",
      "[I 2025-05-04 21:24:14,519] Trial 49 finished with value: 0.7571459330442515 and parameters: {'max_depth': 5, 'n_estimators': 138, 'learning_rate': 0.08213960702619458, 'subsample': 0.7654430751617157, 'colsample_bytree': 0.6112874086833758}. Best is trial 48 with value: 0.7588949951019196.\n"
     ]
    },
    {
     "name": "stdout",
     "output_type": "stream",
     "text": [
      "Best hyperparameters: {'max_depth': 5, 'n_estimators': 188, 'learning_rate': 0.04108862075412971, 'subsample': 0.5266976890071263, 'colsample_bytree': 0.834098230428868}\n",
      "Accuracy: 0.7216\n",
      "F1 Score: 0.7632\n",
      "Recall: 0.8023\n"
     ]
    }
   ],
   "source": [
    "def objective(trial):\n",
    "    params = {\n",
    "        \"max_depth\": trial.suggest_int(\"max_depth\", 3, 10),\n",
    "        \"n_estimators\": trial.suggest_int(\"n_estimators\", 50, 300), \n",
    "        \"learning_rate\": trial.suggest_float(\"learning_rate\", 0.01, 0.3, log=True),\n",
    "        \"subsample\": trial.suggest_float(\"subsample\", 0.5, 1.0),\n",
    "        \"colsample_bytree\": trial.suggest_float(\"colsample_bytree\", 0.5, 1.0)\n",
    "    }\n",
    "\n",
    "    pipe = ImbPipeline(steps=[\n",
    "        (\"scaler\", MinMaxScaler()),\n",
    "        (\"selectkbest\", SelectKBest(score_func=chi2, k=15)),\n",
    "        (\"poly\", PolynomialFeatures(degree=2, include_bias=False)),\n",
    "        (\"xgb\", XGBClassifier(\n",
    "            use_label_encoder=False,\n",
    "            eval_metric=\"logloss\",\n",
    "            random_state=42,\n",
    "            **params\n",
    "        ))\n",
    "    ])\n",
    "\n",
    "    scores = cross_validate(pipe, X_res, y_res, cv=cv, scoring=scoring)\n",
    "    return np.mean(scores['test_f1'])\n",
    "\n",
    "\n",
    "study = optuna.create_study(direction=\"maximize\")\n",
    "study.optimize(objective, n_trials=50)\n",
    "\n",
    "print(\"Best hyperparameters:\", study.best_params)\n",
    "\n",
    "final_pipe = ImbPipeline(steps=[\n",
    "    (\"selectkbest\", SelectKBest(score_func=chi2, k=15)),\n",
    "    (\"scaler\", MinMaxScaler()),\n",
    "    (\"poly\", PolynomialFeatures(degree=2, include_bias=False)),\n",
    "    (\"xgb\", XGBClassifier(\n",
    "        use_label_encoder=False,\n",
    "        eval_metric=\"logloss\",\n",
    "        random_state=42,\n",
    "        **study.best_params\n",
    "    ))\n",
    "])\n",
    "\n",
    "final_pipe.fit(X_res, y_res)\n",
    "\n",
    "y_pred = final_pipe.predict(X_test)\n",
    "y_proba = final_pipe.predict_proba(X_test)[:, 1]\n",
    "\n",
    "acc = accuracy_score(y_test, y_pred)\n",
    "f1 = f1_score(y_test, y_pred, average='weighted')\n",
    "recall = recall_score(y_test, y_pred)\n",
    "\n",
    "print(f\"Accuracy: {acc:.4f}\")\n",
    "print(f\"F1 Score: {f1:.4f}\")\n",
    "print(f\"Recall: {recall:.4f}\")\n"
   ]
  },
  {
   "cell_type": "markdown",
   "id": "945fbced",
   "metadata": {},
   "source": [
    "# Uploading model, best parameters, metrics to Wandb"
   ]
  },
  {
   "cell_type": "code",
   "execution_count": 153,
   "id": "8f94af13",
   "metadata": {},
   "outputs": [
    {
     "data": {
      "text/html": [
       "Tracking run with wandb version 0.19.10"
      ],
      "text/plain": [
       "<IPython.core.display.HTML object>"
      ]
     },
     "metadata": {},
     "output_type": "display_data"
    },
    {
     "data": {
      "text/html": [
       "Run data is saved locally in <code>c:\\Users\\PC\\Downloads\\notebook 2\\wandb\\run-20250504_212427-vhxi8hhh</code>"
      ],
      "text/plain": [
       "<IPython.core.display.HTML object>"
      ]
     },
     "metadata": {},
     "output_type": "display_data"
    },
    {
     "data": {
      "text/html": [
       "Syncing run <strong><a href='https://wandb.ai/valoptauhoa-national-economics-university/risk_credit/runs/vhxi8hhh' target=\"_blank\">xgboost_optuna_best_model</a></strong> to <a href='https://wandb.ai/valoptauhoa-national-economics-university/risk_credit' target=\"_blank\">Weights & Biases</a> (<a href='https://wandb.me/developer-guide' target=\"_blank\">docs</a>)<br>"
      ],
      "text/plain": [
       "<IPython.core.display.HTML object>"
      ]
     },
     "metadata": {},
     "output_type": "display_data"
    },
    {
     "data": {
      "text/html": [
       " View project at <a href='https://wandb.ai/valoptauhoa-national-economics-university/risk_credit' target=\"_blank\">https://wandb.ai/valoptauhoa-national-economics-university/risk_credit</a>"
      ],
      "text/plain": [
       "<IPython.core.display.HTML object>"
      ]
     },
     "metadata": {},
     "output_type": "display_data"
    },
    {
     "data": {
      "text/html": [
       " View run at <a href='https://wandb.ai/valoptauhoa-national-economics-university/risk_credit/runs/vhxi8hhh' target=\"_blank\">https://wandb.ai/valoptauhoa-national-economics-university/risk_credit/runs/vhxi8hhh</a>"
      ],
      "text/plain": [
       "<IPython.core.display.HTML object>"
      ]
     },
     "metadata": {},
     "output_type": "display_data"
    },
    {
     "data": {
      "text/html": [],
      "text/plain": [
       "<IPython.core.display.HTML object>"
      ]
     },
     "metadata": {},
     "output_type": "display_data"
    },
    {
     "data": {
      "text/html": [
       "<br>    <style><br>        .wandb-row {<br>            display: flex;<br>            flex-direction: row;<br>            flex-wrap: wrap;<br>            justify-content: flex-start;<br>            width: 100%;<br>        }<br>        .wandb-col {<br>            display: flex;<br>            flex-direction: column;<br>            flex-basis: 100%;<br>            flex: 1;<br>            padding: 10px;<br>        }<br>    </style><br><div class=\"wandb-row\"><div class=\"wandb-col\"><h3>Run history:</h3><br/><table class=\"wandb\"><tr><td>accuracy</td><td>▁</td></tr><tr><td>f1_score</td><td>▁</td></tr><tr><td>recall</td><td>▁</td></tr></table><br/></div><div class=\"wandb-col\"><h3>Run summary:</h3><br/><table class=\"wandb\"><tr><td>accuracy</td><td>0.72156</td></tr><tr><td>f1_score</td><td>0.76316</td></tr><tr><td>recall</td><td>0.80234</td></tr></table><br/></div></div>"
      ],
      "text/plain": [
       "<IPython.core.display.HTML object>"
      ]
     },
     "metadata": {},
     "output_type": "display_data"
    },
    {
     "data": {
      "text/html": [
       " View run <strong style=\"color:#cdcd00\">xgboost_optuna_best_model</strong> at: <a href='https://wandb.ai/valoptauhoa-national-economics-university/risk_credit/runs/vhxi8hhh' target=\"_blank\">https://wandb.ai/valoptauhoa-national-economics-university/risk_credit/runs/vhxi8hhh</a><br> View project at: <a href='https://wandb.ai/valoptauhoa-national-economics-university/risk_credit' target=\"_blank\">https://wandb.ai/valoptauhoa-national-economics-university/risk_credit</a><br>Synced 5 W&B file(s), 0 media file(s), 2 artifact file(s) and 0 other file(s)"
      ],
      "text/plain": [
       "<IPython.core.display.HTML object>"
      ]
     },
     "metadata": {},
     "output_type": "display_data"
    },
    {
     "data": {
      "text/html": [
       "Find logs at: <code>.\\wandb\\run-20250504_212427-vhxi8hhh\\logs</code>"
      ],
      "text/plain": [
       "<IPython.core.display.HTML object>"
      ]
     },
     "metadata": {},
     "output_type": "display_data"
    }
   ],
   "source": [
    "run = wandb.init(project=\"risk_credit\", job_type=\"model-training\", name=\"xgboost_optuna_best_model\")\n",
    "\n",
    "wandb.config.update(study.best_params)\n",
    "\n",
    "wandb.log({\n",
    "    \"accuracy\": accuracy_score(y_test, y_pred),\n",
    "    \"f1_score\": f1_score(y_test, y_pred, average=\"weighted\"),\n",
    "    \"recall\": recall_score(y_test, y_pred)\n",
    "})\n",
    "\n",
    "import joblib\n",
    "\n",
    "joblib.dump(final_pipe, \"final_model.pkl\")\n",
    "\n",
    "artifact = wandb.Artifact(\"final_xgb_model\", type=\"model\")\n",
    "artifact.add_file(\"final_model.pkl\")\n",
    "wandb.log_artifact(artifact)\n",
    "\n",
    "run.finish()"
   ]
  }
 ],
 "metadata": {
  "kernelspec": {
   "display_name": "Python 3",
   "language": "python",
   "name": "python3"
  },
  "language_info": {
   "codemirror_mode": {
    "name": "ipython",
    "version": 3
   },
   "file_extension": ".py",
   "mimetype": "text/x-python",
   "name": "python",
   "nbconvert_exporter": "python",
   "pygments_lexer": "ipython3",
   "version": "3.11.1"
  }
 },
 "nbformat": 4,
 "nbformat_minor": 5
}
