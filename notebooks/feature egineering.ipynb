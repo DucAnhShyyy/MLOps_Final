{
  "cells": [
    {
      "cell_type": "markdown",
      "metadata": {
        "id": "0I4pgzLVtBTP"
      },
      "source": [
        "# 1.0 An end-to-end classification problem (ETL)\n",
        "\n"
      ]
    },
    {
      "cell_type": "markdown",
      "metadata": {
        "id": "Dh34gim6KPtT"
      },
      "source": [
        "## 1.1 Dataset description"
      ]
    },
    {
      "cell_type": "markdown",
      "metadata": {
        "id": "iE8OJoDZ5AFK"
      },
      "source": [
        "The notebooks focus on a borrower's **credit modeling problem**. The database was downloaded through a dataquest project and is available at link below. The data is from **Lending Club** and contains data from loans made in the period **2007 to 2011**. Lending Club is a marketplace for personal loans that matches borrowers who are seeking a loan with investors looking to lend money and make a return. The **target variable**, or what we are wanting to predict, is whether or not, given a person's history, they will repay the loan.\n",
        "\n",
        "You can download the data from the [Kaggle](https://www.kaggle.com/datasets/samaxtech/lending-club-20072011-data).\n",
        "\n",
        "Let's take the following steps:\n",
        "\n",
        "1. Load Libraries\n",
        "2. Fetch Data, including EDA\n",
        "3. Pre-procesing\n",
        "4. Data Segregation\n",
        "\n",
        "<center><img width=\"600\" src=\"https://drive.google.com/uc?export=view&id=1fKGuR5U5ECf7On6Zo1UWzAIWZrMmZnGc\"></center>"
      ]
    },
    {
      "cell_type": "markdown",
      "metadata": {
        "id": "7UpxKxU1Ej7f"
      },
      "source": [
        "## 1.2 Install and load libraries"
      ]
    },
    {
      "cell_type": "code",
      "execution_count": 1,
      "metadata": {
        "id": "t82KewAPWCYe"
      },
      "outputs": [],
      "source": [
        "# !pip install wandb"
      ]
    },
    {
      "cell_type": "code",
      "execution_count": 2,
      "metadata": {
        "id": "LASaVZuhRJlL"
      },
      "outputs": [],
      "source": [
        "import wandb\n",
        "import pandas as pd"
      ]
    },
    {
      "cell_type": "code",
      "execution_count": 3,
      "metadata": {
        "id": "5oPwazXXTWoK"
      },
      "outputs": [],
      "source": [
        "import warnings\n",
        "warnings.filterwarnings('ignore')"
      ]
    },
    {
      "cell_type": "markdown",
      "metadata": {
        "id": "Z74pHa-qHVrT"
      },
      "source": [
        "## 1.3 Preprocessing"
      ]
    },
    {
      "cell_type": "markdown",
      "metadata": {
        "id": "MxzlOezZLWQ_"
      },
      "source": [
        "### 1.3.1 Login wandb\n"
      ]
    },
    {
      "cell_type": "code",
      "execution_count": 4,
      "metadata": {},
      "outputs": [],
      "source": [
        "import os\n",
        "from dotenv import load_dotenv\n",
        "load_dotenv()\n",
        "\n",
        "WANDB_API_KEY=os.environ.get('WANDB_API_KEY')"
      ]
    },
    {
      "cell_type": "code",
      "execution_count": 6,
      "metadata": {
        "colab": {
          "base_uri": "https://localhost:8080/"
        },
        "id": "xvG-dYfiVwM9",
        "outputId": "0538d5c1-ec20-4fb7-edc4-232e119e4750"
      },
      "outputs": [
        {
          "name": "stdout",
          "output_type": "stream",
          "text": [
            "\u001b[34m\u001b[1mwandb\u001b[0m: Appending key for api.wandb.ai to your netrc file: /Users/phamdinhkhanh/.netrc\n",
            "\u001b[34m\u001b[1mwandb\u001b[0m: W&B API key is configured. Use \u001b[1m`wandb login --relogin`\u001b[0m to force relogin\n"
          ]
        }
      ],
      "source": [
        "# Login to Weights & Biases\n",
        "!wandb login --relogin $WANDB_API_KEY"
      ]
    },
    {
      "cell_type": "markdown",
      "metadata": {
        "id": "3GrAiPvGm0kl"
      },
      "source": [
        "###  Artifacts"
      ]
    },
    {
      "cell_type": "code",
      "execution_count": null,
      "metadata": {
        "id": "dBiQMbchm78L"
      },
      "outputs": [],
      "source": [
        "input_artifact=\"project_name/preprocessed_data.csv:latest\"\n",
        "artifact_name=\"feature_engineered_data.csv\"\n",
        "artifact_type=\"feature egineering\"\n",
        "artifact_description=\"Data after feature_engineering\""
      ]
    },
    {
      "cell_type": "markdown",
      "metadata": {
        "id": "18RAS5kFXPAe"
      },
      "source": [
        "### Setup wandb project"
      ]
    },
    {
      "cell_type": "code",
      "execution_count": null,
      "metadata": {
        "colab": {
          "base_uri": "https://localhost:8080/",
          "height": 87
        },
        "id": "5kKY7pRNSGo9",
        "outputId": "c7b2be11-f491-4a97-c203-466e692e2be2"
      },
      "outputs": [
        {
          "name": "stderr",
          "output_type": "stream",
          "text": [
            "\u001b[34m\u001b[1mwandb\u001b[0m: Using wandb-core as the SDK backend.  Please refer to https://wandb.me/wandb-core for more information.\n",
            "\u001b[34m\u001b[1mwandb\u001b[0m: Currently logged in as: \u001b[33maikhanhblog\u001b[0m (\u001b[33maikhanhblog-datascienceworld-kan\u001b[0m). Use \u001b[1m`wandb login --relogin`\u001b[0m to force relogin\n"
          ]
        },
        {
          "data": {
            "text/html": [
              "Tracking run with wandb version 0.18.7"
            ],
            "text/plain": [
              "<IPython.core.display.HTML object>"
            ]
          },
          "metadata": {},
          "output_type": "display_data"
        },
        {
          "data": {
            "text/html": [
              "Run data is saved locally in <code>/Users/phamdinhkhanh/Documents/Courses/DataScienceWorld.Kan/MLOps/credit_risk_mlops/notebooks/wandb/run-20250323_155305-0lzr1818</code>"
            ],
            "text/plain": [
              "<IPython.core.display.HTML object>"
            ]
          },
          "metadata": {},
          "output_type": "display_data"
        },
        {
          "data": {
            "text/html": [
              "Syncing run <strong><a href='https://wandb.ai/aikhanhblog-datascienceworld-kan/risk_credit/runs/0lzr1818' target=\"_blank\">rosy-frog-7</a></strong> to <a href='https://wandb.ai/aikhanhblog-datascienceworld-kan/risk_credit' target=\"_blank\">Weights & Biases</a> (<a href='https://wandb.me/developer-guide' target=\"_blank\">docs</a>)<br/>"
            ],
            "text/plain": [
              "<IPython.core.display.HTML object>"
            ]
          },
          "metadata": {},
          "output_type": "display_data"
        },
        {
          "data": {
            "text/html": [
              " View project at <a href='https://wandb.ai/aikhanhblog-datascienceworld-kan/risk_credit' target=\"_blank\">https://wandb.ai/aikhanhblog-datascienceworld-kan/risk_credit</a>"
            ],
            "text/plain": [
              "<IPython.core.display.HTML object>"
            ]
          },
          "metadata": {},
          "output_type": "display_data"
        },
        {
          "data": {
            "text/html": [
              " View run at <a href='https://wandb.ai/aikhanhblog-datascienceworld-kan/risk_credit/runs/0lzr1818' target=\"_blank\">https://wandb.ai/aikhanhblog-datascienceworld-kan/risk_credit/runs/0lzr1818</a>"
            ],
            "text/plain": [
              "<IPython.core.display.HTML object>"
            ]
          },
          "metadata": {},
          "output_type": "display_data"
        }
      ],
      "source": [
        "# Create a new job_type\n",
        "run = wandb.init(project=\"risk_credit\", job_type=\"feature_engineering\")"
      ]
    },
    {
      "cell_type": "code",
      "execution_count": 9,
      "metadata": {
        "id": "H6eyFp6XTLyf"
      },
      "outputs": [],
      "source": [
        "# Donwload the latest version of artifact raw_data.csv\n",
        "artifact = run.use_artifact(input_artifact)\n",
        "\n",
        "# Create a dataframe from the artifact\n",
        "df = pd.read_csv(artifact.file())"
      ]
    },
    {
      "cell_type": "code",
      "execution_count": 10,
      "metadata": {
        "colab": {
          "base_uri": "https://localhost:8080/",
          "height": 386
        },
        "id": "IHHIoAFsOP_G",
        "outputId": "480ab398-f47b-430a-ed2a-5195697ef0fb"
      },
      "outputs": [
        {
          "data": {
            "text/html": [
              "<div>\n",
              "<style scoped>\n",
              "    .dataframe tbody tr th:only-of-type {\n",
              "        vertical-align: middle;\n",
              "    }\n",
              "\n",
              "    .dataframe tbody tr th {\n",
              "        vertical-align: top;\n",
              "    }\n",
              "\n",
              "    .dataframe thead th {\n",
              "        text-align: right;\n",
              "    }\n",
              "</style>\n",
              "<table border=\"1\" class=\"dataframe\">\n",
              "  <thead>\n",
              "    <tr style=\"text-align: right;\">\n",
              "      <th></th>\n",
              "      <th>id</th>\n",
              "      <th>member_id</th>\n",
              "      <th>loan_amnt</th>\n",
              "      <th>funded_amnt</th>\n",
              "      <th>funded_amnt_inv</th>\n",
              "      <th>term</th>\n",
              "      <th>int_rate</th>\n",
              "      <th>installment</th>\n",
              "      <th>grade</th>\n",
              "      <th>sub_grade</th>\n",
              "      <th>...</th>\n",
              "      <th>last_pymnt_amnt</th>\n",
              "      <th>last_credit_pull_d</th>\n",
              "      <th>collections_12_mths_ex_med</th>\n",
              "      <th>policy_code</th>\n",
              "      <th>application_type</th>\n",
              "      <th>acc_now_delinq</th>\n",
              "      <th>chargeoff_within_12_mths</th>\n",
              "      <th>delinq_amnt</th>\n",
              "      <th>pub_rec_bankruptcies</th>\n",
              "      <th>tax_liens</th>\n",
              "    </tr>\n",
              "  </thead>\n",
              "  <tbody>\n",
              "    <tr>\n",
              "      <th>0</th>\n",
              "      <td>1077501</td>\n",
              "      <td>1296599.0</td>\n",
              "      <td>5000.0</td>\n",
              "      <td>5000.0</td>\n",
              "      <td>4975.0</td>\n",
              "      <td>36 months</td>\n",
              "      <td>10.65%</td>\n",
              "      <td>162.87</td>\n",
              "      <td>B</td>\n",
              "      <td>B2</td>\n",
              "      <td>...</td>\n",
              "      <td>171.62</td>\n",
              "      <td>Jun-2016</td>\n",
              "      <td>0.0</td>\n",
              "      <td>1.0</td>\n",
              "      <td>INDIVIDUAL</td>\n",
              "      <td>0.0</td>\n",
              "      <td>0.0</td>\n",
              "      <td>0.0</td>\n",
              "      <td>0.0</td>\n",
              "      <td>0.0</td>\n",
              "    </tr>\n",
              "    <tr>\n",
              "      <th>1</th>\n",
              "      <td>1077430</td>\n",
              "      <td>1314167.0</td>\n",
              "      <td>2500.0</td>\n",
              "      <td>2500.0</td>\n",
              "      <td>2500.0</td>\n",
              "      <td>60 months</td>\n",
              "      <td>15.27%</td>\n",
              "      <td>59.83</td>\n",
              "      <td>C</td>\n",
              "      <td>C4</td>\n",
              "      <td>...</td>\n",
              "      <td>119.66</td>\n",
              "      <td>Sep-2013</td>\n",
              "      <td>0.0</td>\n",
              "      <td>1.0</td>\n",
              "      <td>INDIVIDUAL</td>\n",
              "      <td>0.0</td>\n",
              "      <td>0.0</td>\n",
              "      <td>0.0</td>\n",
              "      <td>0.0</td>\n",
              "      <td>0.0</td>\n",
              "    </tr>\n",
              "    <tr>\n",
              "      <th>2</th>\n",
              "      <td>1077175</td>\n",
              "      <td>1313524.0</td>\n",
              "      <td>2400.0</td>\n",
              "      <td>2400.0</td>\n",
              "      <td>2400.0</td>\n",
              "      <td>36 months</td>\n",
              "      <td>15.96%</td>\n",
              "      <td>84.33</td>\n",
              "      <td>C</td>\n",
              "      <td>C5</td>\n",
              "      <td>...</td>\n",
              "      <td>649.91</td>\n",
              "      <td>Jun-2016</td>\n",
              "      <td>0.0</td>\n",
              "      <td>1.0</td>\n",
              "      <td>INDIVIDUAL</td>\n",
              "      <td>0.0</td>\n",
              "      <td>0.0</td>\n",
              "      <td>0.0</td>\n",
              "      <td>0.0</td>\n",
              "      <td>0.0</td>\n",
              "    </tr>\n",
              "    <tr>\n",
              "      <th>3</th>\n",
              "      <td>1076863</td>\n",
              "      <td>1277178.0</td>\n",
              "      <td>10000.0</td>\n",
              "      <td>10000.0</td>\n",
              "      <td>10000.0</td>\n",
              "      <td>36 months</td>\n",
              "      <td>13.49%</td>\n",
              "      <td>339.31</td>\n",
              "      <td>C</td>\n",
              "      <td>C1</td>\n",
              "      <td>...</td>\n",
              "      <td>357.48</td>\n",
              "      <td>Apr-2016</td>\n",
              "      <td>0.0</td>\n",
              "      <td>1.0</td>\n",
              "      <td>INDIVIDUAL</td>\n",
              "      <td>0.0</td>\n",
              "      <td>0.0</td>\n",
              "      <td>0.0</td>\n",
              "      <td>0.0</td>\n",
              "      <td>0.0</td>\n",
              "    </tr>\n",
              "    <tr>\n",
              "      <th>4</th>\n",
              "      <td>1075358</td>\n",
              "      <td>1311748.0</td>\n",
              "      <td>3000.0</td>\n",
              "      <td>3000.0</td>\n",
              "      <td>3000.0</td>\n",
              "      <td>60 months</td>\n",
              "      <td>12.69%</td>\n",
              "      <td>67.79</td>\n",
              "      <td>B</td>\n",
              "      <td>B5</td>\n",
              "      <td>...</td>\n",
              "      <td>67.79</td>\n",
              "      <td>Jun-2016</td>\n",
              "      <td>0.0</td>\n",
              "      <td>1.0</td>\n",
              "      <td>INDIVIDUAL</td>\n",
              "      <td>0.0</td>\n",
              "      <td>0.0</td>\n",
              "      <td>0.0</td>\n",
              "      <td>0.0</td>\n",
              "      <td>0.0</td>\n",
              "    </tr>\n",
              "  </tbody>\n",
              "</table>\n",
              "<p>5 rows × 52 columns</p>\n",
              "</div>"
            ],
            "text/plain": [
              "        id  member_id  loan_amnt  funded_amnt  funded_amnt_inv        term  \\\n",
              "0  1077501  1296599.0     5000.0       5000.0           4975.0   36 months   \n",
              "1  1077430  1314167.0     2500.0       2500.0           2500.0   60 months   \n",
              "2  1077175  1313524.0     2400.0       2400.0           2400.0   36 months   \n",
              "3  1076863  1277178.0    10000.0      10000.0          10000.0   36 months   \n",
              "4  1075358  1311748.0     3000.0       3000.0           3000.0   60 months   \n",
              "\n",
              "  int_rate  installment grade sub_grade  ... last_pymnt_amnt  \\\n",
              "0   10.65%       162.87     B        B2  ...          171.62   \n",
              "1   15.27%        59.83     C        C4  ...          119.66   \n",
              "2   15.96%        84.33     C        C5  ...          649.91   \n",
              "3   13.49%       339.31     C        C1  ...          357.48   \n",
              "4   12.69%        67.79     B        B5  ...           67.79   \n",
              "\n",
              "  last_credit_pull_d collections_12_mths_ex_med  policy_code application_type  \\\n",
              "0           Jun-2016                        0.0          1.0       INDIVIDUAL   \n",
              "1           Sep-2013                        0.0          1.0       INDIVIDUAL   \n",
              "2           Jun-2016                        0.0          1.0       INDIVIDUAL   \n",
              "3           Apr-2016                        0.0          1.0       INDIVIDUAL   \n",
              "4           Jun-2016                        0.0          1.0       INDIVIDUAL   \n",
              "\n",
              "  acc_now_delinq chargeoff_within_12_mths delinq_amnt pub_rec_bankruptcies  \\\n",
              "0            0.0                      0.0         0.0                  0.0   \n",
              "1            0.0                      0.0         0.0                  0.0   \n",
              "2            0.0                      0.0         0.0                  0.0   \n",
              "3            0.0                      0.0         0.0                  0.0   \n",
              "4            0.0                      0.0         0.0                  0.0   \n",
              "\n",
              "  tax_liens  \n",
              "0       0.0  \n",
              "1       0.0  \n",
              "2       0.0  \n",
              "3       0.0  \n",
              "4       0.0  \n",
              "\n",
              "[5 rows x 52 columns]"
            ]
          },
          "execution_count": 10,
          "metadata": {},
          "output_type": "execute_result"
        }
      ],
      "source": [
        "df.head()"
      ]
    },
    {
      "cell_type": "code",
      "execution_count": null,
      "metadata": {
        "colab": {
          "base_uri": "https://localhost:8080/"
        },
        "id": "UHx9U4q4MP24",
        "outputId": "cdf83dc1-de87-4309-f20a-e5f8b1a9d731"
      },
      "outputs": [
        {
          "name": "stdout",
          "output_type": "stream",
          "text": [
            "Shape before cleaning:  (42538, 52)\n"
          ]
        }
      ],
      "source": [
        "x= df.drop('Diabetes_binary', axis=1)\n",
        "y = df['Diabetes_binary']"
      ]
    },
    {
      "cell_type": "markdown",
      "metadata": {},
      "source": [
        "### Chose 15 most impact feature due to chi2"
      ]
    },
    {
      "cell_type": "code",
      "execution_count": null,
      "metadata": {
        "id": "XPF9-8vfWSQx"
      },
      "outputs": [],
      "source": [
        "from sklearn.feature_selection import SelectKBest, chi2\n",
        "chi2_selector = SelectKBest(chi2, k=\"all\")  \n",
        "x_kbest = chi2_selector.fit_transform(x, y)\n",
        "\n",
        "\n",
        "chi2_scores = chi2_selector.scores_\n",
        "\n",
        "chi2_results = pd.DataFrame({\n",
        "    \"Feature\": x.columns,\n",
        "    \"Chi2 Score\": chi2_scores\n",
        "})\n",
        "\n",
        "chi2_results = chi2_results.sort_values(by=\"Chi2 Score\", ascending=False)\n",
        "\n",
        "chi2_results"
      ]
    },
    {
      "cell_type": "code",
      "execution_count": null,
      "metadata": {
        "colab": {
          "base_uri": "https://localhost:8080/"
        },
        "id": "GeWSJVj2WSzr",
        "outputId": "ddb89c9d-7db6-4b4f-e493-c5317e140e1a"
      },
      "outputs": [
        {
          "data": {
            "text/plain": [
              "0         Fully Paid\n",
              "1        Charged Off\n",
              "2         Fully Paid\n",
              "3         Fully Paid\n",
              "5         Fully Paid\n",
              "            ...     \n",
              "39781     Fully Paid\n",
              "39782     Fully Paid\n",
              "39783     Fully Paid\n",
              "39784     Fully Paid\n",
              "39785     Fully Paid\n",
              "Name: loan_status, Length: 38770, dtype: object"
            ]
          },
          "execution_count": 13,
          "metadata": {},
          "output_type": "execute_result"
        }
      ],
      "source": [
        "selector = SelectKBest(score_func=chi2, k=15)\n",
        "x_selected = selector.fit_transform(x, y)\n",
        "\n",
        "# Get the selected feature names\n",
        "selected_features = x.columns[selector.get_support()]\n",
        "print(\"Selected Features:\", selected_features)"
      ]
    },
    {
      "cell_type": "code",
      "execution_count": null,
      "metadata": {
        "colab": {
          "base_uri": "https://localhost:8080/"
        },
        "id": "_3MOqsPnWcva",
        "outputId": "61ff3406-26c7-45e5-d062-9b942e1f4e59"
      },
      "outputs": [
        {
          "data": {
            "text/plain": [
              "loan_status\n",
              "Fully Paid     33136\n",
              "Charged Off     5634\n",
              "Name: count, dtype: int64"
            ]
          },
          "execution_count": 14,
          "metadata": {},
          "output_type": "execute_result"
        }
      ],
      "source": [
        "x = df[selected_features]"
      ]
    },
    {
      "cell_type": "markdown",
      "metadata": {},
      "source": [
        "### Polynomial Features"
      ]
    },
    {
      "cell_type": "code",
      "execution_count": null,
      "metadata": {
        "id": "EgaB5wamFhHF"
      },
      "outputs": [],
      "source": [
        "from sklearn.preprocessing import PolynomialFeatures\n",
        "\n",
        "poly = PolynomialFeatures(degree = 2, interaction_only=False)\n",
        "x = poly.fit_transform(x)\n",
        "data = pd.DataFrame(x,columns = poly.get_feature_names_out())\n",
        "data.drop(columns = '1', inplace = True)\n",
        "data['Diabetes_binary'] = y\n",
        "data.head()"
      ]
    },
    {
      "cell_type": "code",
      "execution_count": null,
      "metadata": {
        "id": "SWMTKGEUYHeK"
      },
      "outputs": [],
      "source": [
        "# Generate a \"feature_engineered file\"\n",
        "df.to_csv(artifact_name,index=False)"
      ]
    },
    {
      "cell_type": "code",
      "execution_count": 34,
      "metadata": {
        "colab": {
          "base_uri": "https://localhost:8080/"
        },
        "id": "4WkUfOnkYI5l",
        "outputId": "c6c7d319-7d1f-45b7-9a93-2f22ff609087"
      },
      "outputs": [
        {
          "data": {
            "text/plain": [
              "ArtifactManifestEntry(path='preprocessed_data.csv', digest='/nEo6o4VzA5+PJDHkPUQnQ==', size=4963598, local_path='/Users/phamdinhkhanh/Library/Application Support/wandb/artifacts/staging/tmp3j9ymrm0', skip_cache=False)"
            ]
          },
          "execution_count": 34,
          "metadata": {},
          "output_type": "execute_result"
        }
      ],
      "source": [
        "# Create a new artifact and configure with the necessary arguments\n",
        "artifact = wandb.Artifact(name=artifact_name,\n",
        "                          type=artifact_type,\n",
        "                          description=artifact_description)\n",
        "artifact.add_file(artifact_name)"
      ]
    },
    {
      "cell_type": "code",
      "execution_count": 35,
      "metadata": {
        "colab": {
          "base_uri": "https://localhost:8080/"
        },
        "id": "0dVXWRhmGmOn",
        "outputId": "9294941f-ebf6-4482-abea-1a86c8eeb5d1"
      },
      "outputs": [
        {
          "data": {
            "text/plain": [
              "<Artifact preprocessed_data.csv>"
            ]
          },
          "execution_count": 35,
          "metadata": {},
          "output_type": "execute_result"
        }
      ],
      "source": [
        "# Upload the artifact to Wandb\n",
        "run.log_artifact(artifact)"
      ]
    },
    {
      "cell_type": "code",
      "execution_count": 36,
      "metadata": {
        "colab": {
          "base_uri": "https://localhost:8080/",
          "height": 87,
          "referenced_widgets": [
            "4af26c812d2c4a5d83fac74b5381c7d9",
            "d31f024d967541359653d30aaf0b31aa",
            "b6405bec665a43f9bb039c54b5dad800",
            "a7fc1e5a59314ac4a65a52deb419a743",
            "0cd8fb266e864d729b2f85c4085cc155",
            "993cc66212e84c1fa6ae4612807f501d",
            "0b6aae5021914b759b68b48dd01aebf7",
            "15b76b1b05b743648ebca28fce91c70f"
          ]
        },
        "id": "mqRqmqbDp3Zc",
        "outputId": "73d82ebe-39bb-4b09-c928-22e4ad2fb31a"
      },
      "outputs": [
        {
          "data": {
            "application/vnd.jupyter.widget-view+json": {
              "model_id": "ef635150823f4d508f7e67a63ddd685d",
              "version_major": 2,
              "version_minor": 0
            },
            "text/plain": [
              "VBox(children=(Label(value='4.054 MB of 4.740 MB uploaded\\r'), FloatProgress(value=0.8551190626120343, max=1.0…"
            ]
          },
          "metadata": {},
          "output_type": "display_data"
        },
        {
          "data": {
            "text/html": [
              " View run <strong style=\"color:#cdcd00\">rosy-frog-7</strong> at: <a href='https://wandb.ai/aikhanhblog-datascienceworld-kan/risk_credit/runs/0lzr1818' target=\"_blank\">https://wandb.ai/aikhanhblog-datascienceworld-kan/risk_credit/runs/0lzr1818</a><br/> View project at: <a href='https://wandb.ai/aikhanhblog-datascienceworld-kan/risk_credit' target=\"_blank\">https://wandb.ai/aikhanhblog-datascienceworld-kan/risk_credit</a><br/>Synced 4 W&B file(s), 0 media file(s), 5 artifact file(s) and 0 other file(s)"
            ],
            "text/plain": [
              "<IPython.core.display.HTML object>"
            ]
          },
          "metadata": {},
          "output_type": "display_data"
        },
        {
          "data": {
            "text/html": [
              "Find logs at: <code>./wandb/run-20250323_155305-0lzr1818/logs</code>"
            ],
            "text/plain": [
              "<IPython.core.display.HTML object>"
            ]
          },
          "metadata": {},
          "output_type": "display_data"
        }
      ],
      "source": [
        "# close the run\n",
        "# waiting a while after run the previous cell before execute this\n",
        "run.finish()"
      ]
    }
  ],
  "metadata": {
    "colab": {
      "collapsed_sections": [],
      "name": "3 - preprocessing.ipynb",
      "provenance": []
    },
    "kernelspec": {
      "display_name": ".venv",
      "language": "python",
      "name": "python3"
    },
    "language_info": {
      "codemirror_mode": {
        "name": "ipython",
        "version": 3
      },
      "file_extension": ".py",
      "mimetype": "text/x-python",
      "name": "python",
      "nbconvert_exporter": "python",
      "pygments_lexer": "ipython3",
      "version": "3.8.19"
    },
    "widgets": {
      "application/vnd.jupyter.widget-state+json": {
        "0b6aae5021914b759b68b48dd01aebf7": {
          "model_module": "@jupyter-widgets/base",
          "model_module_version": "1.2.0",
          "model_name": "LayoutModel",
          "state": {
            "_model_module": "@jupyter-widgets/base",
            "_model_module_version": "1.2.0",
            "_model_name": "LayoutModel",
            "_view_count": null,
            "_view_module": "@jupyter-widgets/base",
            "_view_module_version": "1.2.0",
            "_view_name": "LayoutView",
            "align_content": null,
            "align_items": null,
            "align_self": null,
            "border": null,
            "bottom": null,
            "display": null,
            "flex": null,
            "flex_flow": null,
            "grid_area": null,
            "grid_auto_columns": null,
            "grid_auto_flow": null,
            "grid_auto_rows": null,
            "grid_column": null,
            "grid_gap": null,
            "grid_row": null,
            "grid_template_areas": null,
            "grid_template_columns": null,
            "grid_template_rows": null,
            "height": null,
            "justify_content": null,
            "justify_items": null,
            "left": null,
            "margin": null,
            "max_height": null,
            "max_width": null,
            "min_height": null,
            "min_width": null,
            "object_fit": null,
            "object_position": null,
            "order": null,
            "overflow": null,
            "overflow_x": null,
            "overflow_y": null,
            "padding": null,
            "right": null,
            "top": null,
            "visibility": null,
            "width": null
          }
        },
        "0cd8fb266e864d729b2f85c4085cc155": {
          "model_module": "@jupyter-widgets/base",
          "model_module_version": "1.2.0",
          "model_name": "LayoutModel",
          "state": {
            "_model_module": "@jupyter-widgets/base",
            "_model_module_version": "1.2.0",
            "_model_name": "LayoutModel",
            "_view_count": null,
            "_view_module": "@jupyter-widgets/base",
            "_view_module_version": "1.2.0",
            "_view_name": "LayoutView",
            "align_content": null,
            "align_items": null,
            "align_self": null,
            "border": null,
            "bottom": null,
            "display": null,
            "flex": null,
            "flex_flow": null,
            "grid_area": null,
            "grid_auto_columns": null,
            "grid_auto_flow": null,
            "grid_auto_rows": null,
            "grid_column": null,
            "grid_gap": null,
            "grid_row": null,
            "grid_template_areas": null,
            "grid_template_columns": null,
            "grid_template_rows": null,
            "height": null,
            "justify_content": null,
            "justify_items": null,
            "left": null,
            "margin": null,
            "max_height": null,
            "max_width": null,
            "min_height": null,
            "min_width": null,
            "object_fit": null,
            "object_position": null,
            "order": null,
            "overflow": null,
            "overflow_x": null,
            "overflow_y": null,
            "padding": null,
            "right": null,
            "top": null,
            "visibility": null,
            "width": null
          }
        },
        "15b76b1b05b743648ebca28fce91c70f": {
          "model_module": "@jupyter-widgets/controls",
          "model_module_version": "1.5.0",
          "model_name": "ProgressStyleModel",
          "state": {
            "_model_module": "@jupyter-widgets/controls",
            "_model_module_version": "1.5.0",
            "_model_name": "ProgressStyleModel",
            "_view_count": null,
            "_view_module": "@jupyter-widgets/base",
            "_view_module_version": "1.2.0",
            "_view_name": "StyleView",
            "bar_color": null,
            "description_width": ""
          }
        },
        "4af26c812d2c4a5d83fac74b5381c7d9": {
          "model_module": "@jupyter-widgets/controls",
          "model_module_version": "1.5.0",
          "model_name": "VBoxModel",
          "state": {
            "_dom_classes": [],
            "_model_module": "@jupyter-widgets/controls",
            "_model_module_version": "1.5.0",
            "_model_name": "VBoxModel",
            "_view_count": null,
            "_view_module": "@jupyter-widgets/controls",
            "_view_module_version": "1.5.0",
            "_view_name": "VBoxView",
            "box_style": "",
            "children": [
              "IPY_MODEL_d31f024d967541359653d30aaf0b31aa",
              "IPY_MODEL_b6405bec665a43f9bb039c54b5dad800"
            ],
            "layout": "IPY_MODEL_a7fc1e5a59314ac4a65a52deb419a743"
          }
        },
        "993cc66212e84c1fa6ae4612807f501d": {
          "model_module": "@jupyter-widgets/controls",
          "model_module_version": "1.5.0",
          "model_name": "DescriptionStyleModel",
          "state": {
            "_model_module": "@jupyter-widgets/controls",
            "_model_module_version": "1.5.0",
            "_model_name": "DescriptionStyleModel",
            "_view_count": null,
            "_view_module": "@jupyter-widgets/base",
            "_view_module_version": "1.2.0",
            "_view_name": "StyleView",
            "description_width": ""
          }
        },
        "a7fc1e5a59314ac4a65a52deb419a743": {
          "model_module": "@jupyter-widgets/base",
          "model_module_version": "1.2.0",
          "model_name": "LayoutModel",
          "state": {
            "_model_module": "@jupyter-widgets/base",
            "_model_module_version": "1.2.0",
            "_model_name": "LayoutModel",
            "_view_count": null,
            "_view_module": "@jupyter-widgets/base",
            "_view_module_version": "1.2.0",
            "_view_name": "LayoutView",
            "align_content": null,
            "align_items": null,
            "align_self": null,
            "border": null,
            "bottom": null,
            "display": null,
            "flex": null,
            "flex_flow": null,
            "grid_area": null,
            "grid_auto_columns": null,
            "grid_auto_flow": null,
            "grid_auto_rows": null,
            "grid_column": null,
            "grid_gap": null,
            "grid_row": null,
            "grid_template_areas": null,
            "grid_template_columns": null,
            "grid_template_rows": null,
            "height": null,
            "justify_content": null,
            "justify_items": null,
            "left": null,
            "margin": null,
            "max_height": null,
            "max_width": null,
            "min_height": null,
            "min_width": null,
            "object_fit": null,
            "object_position": null,
            "order": null,
            "overflow": null,
            "overflow_x": null,
            "overflow_y": null,
            "padding": null,
            "right": null,
            "top": null,
            "visibility": null,
            "width": null
          }
        },
        "b6405bec665a43f9bb039c54b5dad800": {
          "model_module": "@jupyter-widgets/controls",
          "model_module_version": "1.5.0",
          "model_name": "FloatProgressModel",
          "state": {
            "_dom_classes": [],
            "_model_module": "@jupyter-widgets/controls",
            "_model_module_version": "1.5.0",
            "_model_name": "FloatProgressModel",
            "_view_count": null,
            "_view_module": "@jupyter-widgets/controls",
            "_view_module_version": "1.5.0",
            "_view_name": "ProgressView",
            "bar_style": "",
            "description": "",
            "description_tooltip": null,
            "layout": "IPY_MODEL_0b6aae5021914b759b68b48dd01aebf7",
            "max": 1,
            "min": 0,
            "orientation": "horizontal",
            "style": "IPY_MODEL_15b76b1b05b743648ebca28fce91c70f",
            "value": 1
          }
        },
        "d31f024d967541359653d30aaf0b31aa": {
          "model_module": "@jupyter-widgets/controls",
          "model_module_version": "1.5.0",
          "model_name": "LabelModel",
          "state": {
            "_dom_classes": [],
            "_model_module": "@jupyter-widgets/controls",
            "_model_module_version": "1.5.0",
            "_model_name": "LabelModel",
            "_view_count": null,
            "_view_module": "@jupyter-widgets/controls",
            "_view_module_version": "1.5.0",
            "_view_name": "LabelView",
            "description": "",
            "description_tooltip": null,
            "layout": "IPY_MODEL_0cd8fb266e864d729b2f85c4085cc155",
            "placeholder": "​",
            "style": "IPY_MODEL_993cc66212e84c1fa6ae4612807f501d",
            "value": "0.013 MB of 0.013 MB uploaded (0.000 MB deduped)\r"
          }
        }
      }
    }
  },
  "nbformat": 4,
  "nbformat_minor": 0
}
