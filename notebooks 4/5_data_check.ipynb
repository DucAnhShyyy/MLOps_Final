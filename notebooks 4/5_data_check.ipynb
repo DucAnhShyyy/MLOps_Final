{
 "cells": [
  {
   "cell_type": "code",
   "execution_count": 1,
   "id": "80a30822",
   "metadata": {},
   "outputs": [
    {
     "data": {
      "text/plain": [
       "True"
      ]
     },
     "execution_count": 1,
     "metadata": {},
     "output_type": "execute_result"
    }
   ],
   "source": [
    "import wandb\n",
    "import os\n",
    "import pandas as pd\n",
    "import warnings\n",
    "warnings.filterwarnings('ignore')\n",
    "from dotenv import load_dotenv\n",
    "load_dotenv()"
   ]
  },
  {
   "cell_type": "code",
   "execution_count": 2,
   "id": "ec832e07",
   "metadata": {},
   "outputs": [
    {
     "name": "stderr",
     "output_type": "stream",
     "text": [
      "wandb: WARNING Using legacy-service, which is deprecated. If this is unintentional, you can fix it by ensuring you do not call `wandb.require('legacy-service')` and do not set the WANDB_X_REQUIRE_LEGACY_SERVICE environment variable.\n",
      "wandb: Appending key for api.wandb.ai to your netrc file: C:\\Users\\PC\\_netrc\n",
      "wandb: W&B API key is configured. Use `wandb login --relogin` to force relogin\n"
     ]
    }
   ],
   "source": [
    "WANDB_API_KEY=os.environ.get('WANDB_API_KEY')\n",
    "!wandb login --relogin $WANDB_API_KEY"
   ]
  },
  {
   "cell_type": "code",
   "execution_count": 3,
   "id": "9522fe08",
   "metadata": {},
   "outputs": [
    {
     "name": "stdout",
     "output_type": "stream",
     "text": [
      "Overwriting test_data.py\n"
     ]
    }
   ],
   "source": [
    "%%file test_data.py\n",
    "import wandb\n",
    "import os\n",
    "import pandas as pd \n",
    "import pytest\n",
    "\n",
    "if not os.getenv(\"TEST_MODE\"):\n",
    "    WANDB_API_KEY = \"1d620fa1eff54f2f0ba01b14c81969f4ce70bd6c\"\n",
    "    wandb.login(key=WANDB_API_KEY)\n",
    "\n",
    "PROJECT_NAME = \"diabetes\"\n",
    "\n",
    "@pytest.fixture(scope=\"session\")\n",
    "def wandb_run():\n",
    "    run = wandb.init(project=PROJECT_NAME, job_type=\"data_check\")\n",
    "    yield run\n",
    "    run.finish()\n",
    "\n",
    "def load_artifact_csv(run, artifact_name: str):\n",
    "    try:\n",
    "        artifact_ref = f\"{PROJECT_NAME}/{artifact_name}:latest\"\n",
    "        artifact = run.use_artifact(artifact_ref)\n",
    "        artifact_dir = artifact.download()\n",
    "        \n",
    "        files = os.listdir(artifact_dir)\n",
    "        if not files:\n",
    "            raise ValueError(f\"No files found in artifact {artifact_name}\")\n",
    "            \n",
    "        file_path = os.path.join(artifact_dir, files[0])\n",
    "        return pd.read_csv(file_path)\n",
    "    except Exception as e:\n",
    "        pytest.skip(f\"Could not load artifact {artifact_name}: {str(e)}\")\n",
    "\n",
    "@pytest.fixture(scope=\"session\")\n",
    "def X_train(wandb_run):\n",
    "    return load_artifact_csv(wandb_run, \"X_train.csv\")\n",
    "\n",
    "@pytest.fixture(scope=\"session\")\n",
    "def y_train(wandb_run):\n",
    "    return load_artifact_csv(wandb_run, \"y_train.csv\")\n",
    "\n",
    "@pytest.fixture(scope=\"session\")\n",
    "def X_val(wandb_run):\n",
    "    return load_artifact_csv(wandb_run, \"X_val.csv\")\n",
    "\n",
    "@pytest.fixture(scope=\"session\")\n",
    "def y_val(wandb_run):\n",
    "    return load_artifact_csv(wandb_run, \"y_val.csv\")\n",
    "\n",
    "@pytest.fixture(scope=\"session\")\n",
    "def X_test(wandb_run):\n",
    "    return load_artifact_csv(wandb_run, \"X_test.csv\")\n",
    "\n",
    "@pytest.fixture(scope=\"session\")\n",
    "def y_test(wandb_run):\n",
    "    return load_artifact_csv(wandb_run, \"y_test.csv\")\n",
    "\n",
    "\n",
    "def test_X_y_train_same_length(X_train, y_train):\n",
    "    assert len(X_train) == len(y_train)\n",
    "\n",
    "def test_X_y_val_same_length(X_val, y_val):\n",
    "    assert len(X_val) == len(y_val)\n",
    "\n",
    "def test_X_y_test_same_length(X_test, y_test):\n",
    "    assert len(X_test) == len(y_test)\n",
    "\n",
    "def test_y_train_values(y_train):\n",
    "    assert set(y_train.iloc[:, 0].unique()).issubset({0, 1}) \n",
    "\n",
    "@pytest.mark.parametrize(\"dataset\", [\"X_train\", \"X_test\"])\n",
    "def test_number_of_columns(request, dataset):\n",
    "    data = request.getfixturevalue(dataset)\n",
    "    assert data.shape[1] == 21\n",
    "\n",
    "@pytest.mark.parametrize(\"dataset\", [\"X_train\", \"X_test\"])\n",
    "def test_column_presence_and_type(request, dataset):\n",
    "    data = request.getfixturevalue(dataset)\n",
    "    required_columns = {\n",
    "        'HighBP': pd.api.types.is_float_dtype,                 \n",
    "        'HighChol': pd.api.types.is_float_dtype,                \n",
    "        'CholCheck': pd.api.types.is_float_dtype,               \n",
    "        'BMI': pd.api.types.is_float_dtype,                     \n",
    "        'Smoker': pd.api.types.is_float_dtype,                  \n",
    "        'Stroke': pd.api.types.is_float_dtype,                  \n",
    "        'HeartDiseaseorAttack': pd.api.types.is_float_dtype,    \n",
    "        'PhysActivity': pd.api.types.is_float_dtype,            \n",
    "        'Fruits': pd.api.types.is_float_dtype,                  \n",
    "        'Veggies': pd.api.types.is_float_dtype,                 \n",
    "        'HvyAlcoholConsump': pd.api.types.is_float_dtype,       \n",
    "        'AnyHealthcare': pd.api.types.is_float_dtype,           \n",
    "        'NoDocbcCost': pd.api.types.is_float_dtype,             \n",
    "        'GenHlth': pd.api.types.is_float_dtype,                 \n",
    "        'MentHlth': pd.api.types.is_float_dtype,                \n",
    "        'PhysHlth': pd.api.types.is_float_dtype,                \n",
    "        'DiffWalk': pd.api.types.is_float_dtype,                \n",
    "        'Sex': pd.api.types.is_float_dtype,                     \n",
    "        'Age': pd.api.types.is_float_dtype,                     \n",
    "        'Education': pd.api.types.is_float_dtype,               \n",
    "        'Income': pd.api.types.is_float_dtype,   \n",
    "    }\n",
    "\n",
    "    assert set(data.columns.values).issuperset(set(required_columns.keys()))\n",
    "\n",
    "    for col_name, format_verification_funct in required_columns.items():\n",
    "\n",
    "        assert format_verification_funct(data[col_name]), f\"Column {col_name} failed test {format_verification_funct}\"\n",
    "\n",
    "def teardown_module(module):\n",
    "    wandb.finish()"
   ]
  },
  {
   "cell_type": "code",
   "execution_count": 4,
   "id": "7a8220ea",
   "metadata": {},
   "outputs": [
    {
     "name": "stdout",
     "output_type": "stream",
     "text": [
      "\u001b[1m============================= test session starts =============================\u001b[0m\n",
      "platform win32 -- Python 3.11.1, pytest-8.1.1, pluggy-1.4.0 -- C:\\Users\\PC\\AppData\\Local\\Programs\\Python\\Python311\\python.exe\n",
      "cachedir: .pytest_cache\n",
      "rootdir: c:\\Users\\PC\\Downloads\\notebook 2\n",
      "plugins: anyio-4.2.0, dash-2.18.2, typeguard-4.4.1\n",
      "\u001b[1mcollecting ... \u001b[0mcollected 8 items\n",
      "\n",
      "test_data.py::test_X_y_train_same_length \u001b[32mPASSED\u001b[0m\u001b[32m                          [ 12%]\u001b[0m\n",
      "test_data.py::test_X_y_val_same_length \u001b[32mPASSED\u001b[0m\u001b[33m                            [ 25%]\u001b[0m\n",
      "test_data.py::test_X_y_test_same_length \u001b[32mPASSED\u001b[0m\u001b[33m                           [ 37%]\u001b[0m\n",
      "test_data.py::test_y_train_values \u001b[32mPASSED\u001b[0m\u001b[33m                                 [ 50%]\u001b[0m\n",
      "test_data.py::test_number_of_columns[X_train] \u001b[32mPASSED\u001b[0m\u001b[33m                     [ 62%]\u001b[0m\n",
      "test_data.py::test_number_of_columns[X_test] \u001b[32mPASSED\u001b[0m\u001b[33m                      [ 75%]\u001b[0m\n",
      "test_data.py::test_column_presence_and_type[X_train] \u001b[32mPASSED\u001b[0m\u001b[33m              [ 87%]\u001b[0m\n",
      "test_data.py::test_column_presence_and_type[X_test] \u001b[32mPASSED\u001b[0m\u001b[33m               [100%]\u001b[0m\n",
      "\n",
      "\u001b[33m============================== warnings summary ===============================\u001b[0m\n",
      "test_data.py::test_X_y_train_same_length\n",
      "test_data.py::test_X_y_train_same_length\n",
      "  C:\\Users\\PC\\AppData\\Local\\Programs\\Python\\Python311\\Lib\\site-packages\\wandb\\analytics\\sentry.py:259: DeprecationWarning: The `Scope.user` setter is deprecated in favor of `Scope.set_user()`.\n",
      "    self.scope.user = {\"email\": email}  # noqa\n",
      "\n",
      "-- Docs: https://docs.pytest.org/en/stable/how-to/capture-warnings.html\n",
      "\u001b[33m======================= \u001b[32m8 passed\u001b[0m, \u001b[33m\u001b[1m2 warnings\u001b[0m\u001b[33m in 25.01s\u001b[0m\u001b[33m ========================\u001b[0m\n"
     ]
    }
   ],
   "source": [
    "!pytest test_data.py -vv "
   ]
  }
 ],
 "metadata": {
  "kernelspec": {
   "display_name": "Python 3",
   "language": "python",
   "name": "python3"
  },
  "language_info": {
   "codemirror_mode": {
    "name": "ipython",
    "version": 3
   },
   "file_extension": ".py",
   "mimetype": "text/x-python",
   "name": "python",
   "nbconvert_exporter": "python",
   "pygments_lexer": "ipython3",
   "version": "3.11.1"
  }
 },
 "nbformat": 4,
 "nbformat_minor": 5
}
