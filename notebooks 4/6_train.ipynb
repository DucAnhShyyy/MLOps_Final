{
 "cells": [
  {
   "cell_type": "markdown",
   "id": "872b1efb",
   "metadata": {},
   "source": [
    "# I. Install and load library"
   ]
  },
  {
   "cell_type": "code",
   "execution_count": 16,
   "id": "a4f709d1",
   "metadata": {},
   "outputs": [
    {
     "data": {
      "text/plain": [
       "True"
      ]
     },
     "execution_count": 16,
     "metadata": {},
     "output_type": "execute_result"
    }
   ],
   "source": [
    "import os\n",
    "import pandas as pd\n",
    "import matplotlib.pyplot as plt\n",
    "from sklearn.preprocessing import MinMaxScaler, PolynomialFeatures\n",
    "from sklearn.feature_selection import SelectKBest, chi2\n",
    "from sklearn.metrics import confusion_matrix\n",
    "from xgboost import XGBClassifier\n",
    "from imblearn.pipeline import Pipeline as ImbPipeline\n",
    "from imblearn.under_sampling import RandomUnderSampler\n",
    "import optuna\n",
    "import wandb\n",
    "from sklearn.metrics import confusion_matrix, ConfusionMatrixDisplay\n",
    "import warnings\n",
    "warnings.filterwarnings(\"ignore\")\n",
    "from sklearn.metrics import accuracy_score, f1_score, recall_score, precision_score\n",
    "import logging\n",
    "import joblib\n",
    "from dotenv import load_dotenv\n",
    "load_dotenv()"
   ]
  },
  {
   "cell_type": "code",
   "execution_count": 17,
   "id": "df3ec859",
   "metadata": {},
   "outputs": [],
   "source": [
    "logging.basicConfig(level=logging.INFO,\n",
    "                    format=\"%(asctime)s %(message)s\",\n",
    "                    datefmt='%d-%m-%Y %H:%M:%S')\n",
    "\n",
    "logger = logging.getLogger()"
   ]
  },
  {
   "cell_type": "markdown",
   "id": "30bf32d4",
   "metadata": {},
   "source": [
    "# II. Downloading file from Wandb "
   ]
  },
  {
   "cell_type": "code",
   "execution_count": 18,
   "id": "3d86c6bb",
   "metadata": {},
   "outputs": [
    {
     "data": {
      "text/html": [
       "Tracking run with wandb version 0.19.10"
      ],
      "text/plain": [
       "<IPython.core.display.HTML object>"
      ]
     },
     "metadata": {},
     "output_type": "display_data"
    },
    {
     "data": {
      "text/html": [
       "Run data is saved locally in <code>c:\\Users\\PC\\Downloads\\notebook 2\\wandb\\run-20250506_113329-xdxmmr1l</code>"
      ],
      "text/plain": [
       "<IPython.core.display.HTML object>"
      ]
     },
     "metadata": {},
     "output_type": "display_data"
    },
    {
     "data": {
      "text/html": [
       "Syncing run <strong><a href='https://wandb.ai/valoptauhoa-national-economics-university/diabetes/runs/xdxmmr1l' target=\"_blank\">peach-brook-39</a></strong> to <a href='https://wandb.ai/valoptauhoa-national-economics-university/diabetes' target=\"_blank\">Weights & Biases</a> (<a href='https://wandb.me/developer-guide' target=\"_blank\">docs</a>)<br>"
      ],
      "text/plain": [
       "<IPython.core.display.HTML object>"
      ]
     },
     "metadata": {},
     "output_type": "display_data"
    },
    {
     "data": {
      "text/html": [
       " View project at <a href='https://wandb.ai/valoptauhoa-national-economics-university/diabetes' target=\"_blank\">https://wandb.ai/valoptauhoa-national-economics-university/diabetes</a>"
      ],
      "text/plain": [
       "<IPython.core.display.HTML object>"
      ]
     },
     "metadata": {},
     "output_type": "display_data"
    },
    {
     "data": {
      "text/html": [
       " View run at <a href='https://wandb.ai/valoptauhoa-national-economics-university/diabetes/runs/xdxmmr1l' target=\"_blank\">https://wandb.ai/valoptauhoa-national-economics-university/diabetes/runs/xdxmmr1l</a>"
      ],
      "text/plain": [
       "<IPython.core.display.HTML object>"
      ]
     },
     "metadata": {},
     "output_type": "display_data"
    }
   ],
   "source": [
    "run = wandb.init(project=\"diabetes\", job_type=\"train\")"
   ]
  },
  {
   "cell_type": "code",
   "execution_count": 19,
   "id": "ac74c871",
   "metadata": {},
   "outputs": [
    {
     "name": "stderr",
     "output_type": "stream",
     "text": [
      "wandb: Appending key for api.wandb.ai to your netrc file: C:\\Users\\PC\\_netrc\n",
      "wandb: W&B API key is configured. Use `wandb login --relogin` to force relogin\n"
     ]
    }
   ],
   "source": [
    "WANDB_API_KEY=os.environ.get('WANDB_API_KEY')\n",
    "!wandb login --relogin $WANDB_API_KEY"
   ]
  },
  {
   "cell_type": "code",
   "execution_count": 20,
   "id": "8a9bb8f5",
   "metadata": {},
   "outputs": [
    {
     "name": "stderr",
     "output_type": "stream",
     "text": [
      "06-05-2025 11:33:34 Downloading and reading train artifact\n",
      "\u001b[34m\u001b[1mwandb\u001b[0m:   1 of 1 files downloaded.  \n",
      "\u001b[34m\u001b[1mwandb\u001b[0m:   1 of 1 files downloaded.  \n",
      "\u001b[34m\u001b[1mwandb\u001b[0m:   1 of 1 files downloaded.  \n",
      "\u001b[34m\u001b[1mwandb\u001b[0m:   1 of 1 files downloaded.  \n"
     ]
    }
   ],
   "source": [
    "logger.info(\"Downloading and reading train artifact\")\n",
    "artifact_X_train = wandb.use_artifact('diabetes/X_train.csv:latest', type='preprocessing')\n",
    "artifact_X_val = wandb.use_artifact('diabetes/X_val.csv:latest', type='preprocessing')\n",
    "artifact_y_train = wandb.use_artifact('diabetes/y_train.csv:latest', type='preprocessing')\n",
    "artifact_y_val = wandb.use_artifact('diabetes/y_val.csv:latest', type='preprocessing')\n",
    "\n",
    "X_train_dir = artifact_X_train.download()\n",
    "X_val_dir = artifact_X_val.download()\n",
    "y_train_dir = artifact_y_train.download()\n",
    "y_val_dir = artifact_y_val.download()\n",
    "\n",
    "X_train_path = os.path.join(X_train_dir, \"X_train.csv\")\n",
    "X_val_path = os.path.join(X_val_dir, \"X_val.csv\")\n",
    "y_train_path = os.path.join(y_train_dir, \"y_train.csv\")\n",
    "y_val_path = os.path.join(y_val_dir, \"y_val.csv\")\n",
    "\n",
    "X_train = pd.read_csv(X_train_path)\n",
    "X_val = pd.read_csv(X_val_path)\n",
    "y_train = pd.read_csv(y_train_path)\n",
    "y_val = pd.read_csv(y_val_path)"
   ]
  },
  {
   "cell_type": "markdown",
   "id": "f2cd1365",
   "metadata": {},
   "source": [
    "# III. Training"
   ]
  },
  {
   "cell_type": "code",
   "execution_count": null,
   "id": "75e7cb5b",
   "metadata": {},
   "outputs": [
    {
     "name": "stderr",
     "output_type": "stream",
     "text": [
      "06-05-2025 11:33:46 Training\n",
      "06-05-2025 11:33:50 Infering\n",
      "06-05-2025 11:33:50 Evaluation metrics\n",
      "06-05-2025 11:33:50 Accuracy: 0.7153169577964473\n",
      "06-05-2025 11:33:50 Precision: 0.29851664502016545\n",
      "06-05-2025 11:33:50 Recall: 0.7715547703180212\n",
      "06-05-2025 11:33:50 F1: 0.7572737402901446\n",
      "06-05-2025 11:33:50 Infering Bias\n",
      "06-05-2025 11:33:50 Bias Evaluation metrics\n",
      "06-05-2025 11:33:51 Bias Accuracy: 0.737205506451911\n",
      "06-05-2025 11:33:51 Bias Precision: 0.8755518432729459\n",
      "06-05-2025 11:33:51 Bias Recall: 0.836925382343867\n",
      "06-05-2025 11:33:51 Bias F1: 0.7756800649760024\n",
      "06-05-2025 11:33:51 Uploading figures\n"
     ]
    },
    {
     "data": {
      "image/png": "[encoded data removed]",
      "text/plain": [
       "<Figure size 700x400 with 2 Axes>"
      ]
     },
     "metadata": {},
     "output_type": "display_data"
    },
    {
     "name": "stderr",
     "output_type": "stream",
     "text": [
      "06-05-2025 11:33:51 Uploading figures\n"
     ]
    }
   ],
   "source": [
    "rus = RandomUnderSampler(random_state=42)\n",
    "X_train, y_train = rus.fit_resample(X_train, y_train)\n",
    "\n",
    "default_pipe = ImbPipeline(steps=[\n",
    "    (\"scaler\", MinMaxScaler()),\n",
    "    (\"selectkbest\", SelectKBest(score_func=chi2, k=15)),\n",
    "    (\"poly\", PolynomialFeatures(degree=2, include_bias=False)),\n",
    "    (\"xgb\", XGBClassifier(use_label_encoder=False, eval_metric=\"logloss\", random_state=42))\n",
    "])\n",
    "\n",
    "logger.info(\"Training\")\n",
    "default_pipe.fit(X_train, y_train)\n",
    "\n",
    "logger.info(\"Infering\")\n",
    "y_pred = default_pipe.predict(X_val)\n",
    "\n",
    "logger.info(\"Evaluation metrics\")\n",
    "precision = precision_score(y_val, y_pred, zero_division=1)\n",
    "recall = recall_score(y_val, y_pred, zero_division=1)\n",
    "acc = accuracy_score(y_val, y_pred)\n",
    "f1 = f1_score(y_val,y_pred, average='weighted', zero_division=1)\n",
    "\n",
    "logger.info(\"Accuracy: {}\".format(acc))\n",
    "logger.info(\"Precision: {}\".format(precision))\n",
    "logger.info(\"Recall: {}\".format(recall))\n",
    "logger.info(\"F1: {}\".format(f1))\n",
    "\n",
    "run.summary[\"Accuracy\"] = acc\n",
    "run.summary[\"Precision\"] = precision\n",
    "run.summary[\"Recall\"] = recall\n",
    "run.summary[\"F1\"] = f1\n",
    "\n",
    "logger.info(\"Infering Bias\")\n",
    "predict_bias = default_pipe.predict(X_train)\n",
    "\n",
    "logger.info(\"Bias Evaluation metrics\")\n",
    "f1 = f1_score(y_train, predict_bias,average='weighted', zero_division=1)\n",
    "precision = precision_score(y_train, predict_bias, zero_division=1, average='weighted')\n",
    "recall = recall_score(y_train, predict_bias, zero_division=1)\n",
    "acc = accuracy_score(y_train, predict_bias)\n",
    "\n",
    "logger.info(\"Bias Accuracy: {}\".format(acc))\n",
    "logger.info(\"Bias Precision: {}\".format(precision))\n",
    "logger.info(\"Bias Recall: {}\".format(recall))\n",
    "logger.info(\"Bias F1: {}\".format(f1))\n",
    "\n",
    "\n",
    "logger.info(\"Uploading figures\")\n",
    "\n",
    "fig_confusion_matrix, ax = plt.subplots(1,1,figsize=(7,4))\n",
    "ConfusionMatrixDisplay(confusion_matrix(y_pred,y_val,labels=[1,0]),\n",
    "                       display_labels=[\"1\",\"0\"]).plot(values_format=\".0f\",ax=ax)\n",
    "\n",
    "ax.set_xlabel(\"True Label\")\n",
    "ax.set_ylabel(\"Predicted Label\")\n",
    "plt.show()\n",
    "\n",
    "logger.info(\"Uploading figures\")\n",
    "run.log(\n",
    "    {\n",
    "        \"confusion_matrix\": wandb.Image(fig_confusion_matrix),\n",
    "    }\n",
    ")"
   ]
  },
  {
   "cell_type": "code",
   "execution_count": 22,
   "id": "be09de91",
   "metadata": {},
   "outputs": [],
   "source": [
    "wandb.sklearn.plot_confusion_matrix(y_val, y_pred, [0,1])"
   ]
  },
  {
   "cell_type": "code",
   "execution_count": 23,
   "id": "eabee107",
   "metadata": {},
   "outputs": [],
   "source": [
    "wandb.sklearn.plot_class_proportions(y_train, y_val, [0,1])"
   ]
  },
  {
   "cell_type": "markdown",
   "id": "b323da65",
   "metadata": {},
   "source": [
    "# IV. Optimizing"
   ]
  },
  {
   "cell_type": "code",
   "execution_count": null,
   "id": "57563081",
   "metadata": {},
   "outputs": [
    {
     "name": "stderr",
     "output_type": "stream",
     "text": [
      "[I 2025-05-06 11:33:52,259] A new study created in memory with name: no-name-830d175f-9019-466a-bab3-a0edea213a67\n"
     ]
    },
    {
     "name": "stderr",
     "output_type": "stream",
     "text": [
      "06-05-2025 11:34:05 Accuracy: 0.7146517529379881\n",
      "06-05-2025 11:34:05 Precision: 0.8592309838741623\n",
      "06-05-2025 11:34:05 Recall: 0.7717314487632508\n",
      "06-05-2025 11:34:05 F1: 0.7567421931000377\n",
      "[I 2025-05-06 11:34:05,066] Trial 0 finished with value: 0.7567421931000377 and parameters: {'max_depth': 8, 'n_estimators': 246, 'learning_rate': 0.06926507282888843, 'subsample': 0.5426203499177907, 'colsample_bytree': 0.7422272538699461}. Best is trial 0 with value: 0.7567421931000377.\n",
      "06-05-2025 11:34:10 Accuracy: 0.7150952228436276\n",
      "06-05-2025 11:34:10 Precision: 0.8618835496374639\n",
      "06-05-2025 11:34:10 Recall: 0.7851590106007067\n",
      "06-05-2025 11:34:10 F1: 0.7572794352356244\n",
      "[I 2025-05-06 11:34:10,590] Trial 1 finished with value: 0.7572794352356244 and parameters: {'max_depth': 7, 'n_estimators': 140, 'learning_rate': 0.10026168818165165, 'subsample': 0.6383812873272978, 'colsample_bytree': 0.6325200921063794}. Best is trial 1 with value: 0.7572794352356244.\n",
      "06-05-2025 11:34:28 Accuracy: 0.7156865160511469\n",
      "06-05-2025 11:34:28 Precision: 0.8612433585897836\n",
      "06-05-2025 11:34:28 Recall: 0.7812720848056537\n",
      "06-05-2025 11:34:28 F1: 0.7577036165057226\n",
      "[I 2025-05-06 11:34:28,580] Trial 2 finished with value: 0.7577036165057226 and parameters: {'max_depth': 10, 'n_estimators': 259, 'learning_rate': 0.02219228306826334, 'subsample': 0.5108446382078429, 'colsample_bytree': 0.8666590501588689}. Best is trial 2 with value: 0.7577036165057226.\n",
      "06-05-2025 11:34:42 Accuracy: 0.7171893862869251\n",
      "06-05-2025 11:34:42 Precision: 0.8623266586041887\n",
      "06-05-2025 11:34:42 Recall: 0.785512367491166\n",
      "06-05-2025 11:34:42 F1: 0.758969011054797\n",
      "[I 2025-05-06 11:34:42,501] Trial 3 finished with value: 0.758969011054797 and parameters: {'max_depth': 9, 'n_estimators': 261, 'learning_rate': 0.013162806821628799, 'subsample': 0.7044212598360085, 'colsample_bytree': 0.5765004800891469}. Best is trial 3 with value: 0.758969011054797.\n",
      "06-05-2025 11:34:47 Accuracy: 0.7194313730321023\n",
      "06-05-2025 11:34:47 Precision: 0.8633051643956604\n",
      "06-05-2025 11:34:47 Recall: 0.7885159010600706\n",
      "06-05-2025 11:34:47 F1: 0.7608119854628262\n",
      "[I 2025-05-06 11:34:47,540] Trial 4 finished with value: 0.7608119854628262 and parameters: {'max_depth': 4, 'n_estimators': 186, 'learning_rate': 0.026522813488314718, 'subsample': 0.6841464452288366, 'colsample_bytree': 0.8322993355761146}. Best is trial 4 with value: 0.7608119854628262.\n",
      "06-05-2025 11:34:56 Accuracy: 0.7063243735987583\n",
      "06-05-2025 11:34:56 Precision: 0.8526520511279775\n",
      "06-05-2025 11:34:56 Recall: 0.7452296819787986\n",
      "06-05-2025 11:34:56 F1: 0.749690563619789\n",
      "[I 2025-05-06 11:34:56,212] Trial 5 finished with value: 0.749690563619789 and parameters: {'max_depth': 9, 'n_estimators': 142, 'learning_rate': 0.17226113639550128, 'subsample': 0.5563121545333265, 'colsample_bytree': 0.8151451733906537}. Best is trial 4 with value: 0.7608119854628262.\n",
      "06-05-2025 11:35:01 Accuracy: 0.7177314050604844\n",
      "06-05-2025 11:35:01 Precision: 0.8624917928298645\n",
      "06-05-2025 11:35:01 Recall: 0.7858657243816255\n",
      "06-05-2025 11:35:01 F1: 0.7594095799027485\n",
      "[I 2025-05-06 11:35:01,692] Trial 6 finished with value: 0.7594095799027485 and parameters: {'max_depth': 9, 'n_estimators': 96, 'learning_rate': 0.033099627802602456, 'subsample': 0.7656697323832935, 'colsample_bytree': 0.7278236812728851}. Best is trial 4 with value: 0.7608119854628262.\n",
      "06-05-2025 11:35:05 Accuracy: 0.7175343073246446\n",
      "06-05-2025 11:35:05 Precision: 0.8630327661397983\n",
      "06-05-2025 11:35:05 Recall: 0.7888692579505301\n",
      "06-05-2025 11:35:05 F1: 0.7592912652667111\n",
      "[I 2025-05-06 11:35:05,376] Trial 7 finished with value: 0.7592912652667111 and parameters: {'max_depth': 5, 'n_estimators': 142, 'learning_rate': 0.09705742914175998, 'subsample': 0.740216476499177, 'colsample_bytree': 0.7087250503002129}. Best is trial 4 with value: 0.7608119854628262.\n",
      "06-05-2025 11:35:08 Accuracy: 0.7190864519943827\n",
      "06-05-2025 11:35:08 Precision: 0.8629386337546143\n",
      "06-05-2025 11:35:08 Recall: 0.7869257950530035\n",
      "06-05-2025 11:35:08 F1: 0.7605131154908061\n",
      "[I 2025-05-06 11:35:08,556] Trial 8 finished with value: 0.7605131154908061 and parameters: {'max_depth': 5, 'n_estimators': 125, 'learning_rate': 0.018594502765232012, 'subsample': 0.8640567953640348, 'colsample_bytree': 0.6822394105500723}. Best is trial 4 with value: 0.7608119854628262.\n",
      "06-05-2025 11:35:12 Accuracy: 0.7185937076547834\n",
      "06-05-2025 11:35:12 Precision: 0.8632902596689055\n",
      "06-05-2025 11:35:12 Recall: 0.7892226148409894\n",
      "06-05-2025 11:35:12 F1: 0.7601481222873515\n",
      "[I 2025-05-06 11:35:12,956] Trial 9 finished with value: 0.7601481222873515 and parameters: {'max_depth': 5, 'n_estimators': 159, 'learning_rate': 0.024431409690169135, 'subsample': 0.8285939295551926, 'colsample_bytree': 0.7986464226004042}. Best is trial 4 with value: 0.7608119854628262.\n",
      "06-05-2025 11:35:14 Accuracy: 0.7126561383626105\n",
      "06-05-2025 11:35:14 Precision: 0.86165337773147\n",
      "06-05-2025 11:35:14 Recall: 0.7862190812720848\n",
      "06-05-2025 11:35:14 F1: 0.7553280897739264\n",
      "[I 2025-05-06 11:35:14,246] Trial 10 finished with value: 0.7553280897739264 and parameters: {'max_depth': 3, 'n_estimators': 52, 'learning_rate': 0.044800124400831975, 'subsample': 0.9767305921042136, 'colsample_bytree': 0.995330408307142}. Best is trial 4 with value: 0.7608119854628262.\n",
      "06-05-2025 11:35:18 Accuracy: 0.7167459163812856\n",
      "06-05-2025 11:35:18 Precision: 0.8620436914664517\n",
      "06-05-2025 11:35:18 Recall: 0.784452296819788\n",
      "06-05-2025 11:35:18 F1: 0.7585981720181005\n",
      "[I 2025-05-06 11:35:18,977] Trial 11 finished with value: 0.7585981720181005 and parameters: {'max_depth': 4, 'n_estimators': 204, 'learning_rate': 0.010358350809181694, 'subsample': 0.889857597526442, 'colsample_bytree': 0.9269788631578895}. Best is trial 4 with value: 0.7608119854628262.\n",
      "06-05-2025 11:35:24 Accuracy: 0.7181995121831038\n",
      "06-05-2025 11:35:24 Precision: 0.8629823542235956\n",
      "06-05-2025 11:35:24 Recall: 0.7879858657243817\n",
      "06-05-2025 11:35:24 F1: 0.759814512455469\n",
      "[I 2025-05-06 11:35:24,024] Trial 12 finished with value: 0.759814512455469 and parameters: {'max_depth': 6, 'n_estimators': 198, 'learning_rate': 0.017389565835711548, 'subsample': 0.8664596943604607, 'colsample_bytree': 0.500238956664584}. Best is trial 4 with value: 0.7608119854628262.\n",
      "06-05-2025 11:35:26 Accuracy: 0.7181256005321639\n",
      "06-05-2025 11:35:26 Precision: 0.8632064149689419\n",
      "06-05-2025 11:35:26 Recall: 0.7892226148409894\n",
      "06-05-2025 11:35:26 F1: 0.7597716417691766\n",
      "[I 2025-05-06 11:35:26,021] Trial 13 finished with value: 0.7597716417691766 and parameters: {'max_depth': 3, 'n_estimators': 104, 'learning_rate': 0.04134779087982141, 'subsample': 0.6533791155200164, 'colsample_bytree': 0.6610843691727248}. Best is trial 4 with value: 0.7608119854628262.\n",
      "06-05-2025 11:35:31 Accuracy: 0.7197516568528419\n",
      "06-05-2025 11:35:31 Precision: 0.8636673221630983\n",
      "06-05-2025 11:35:31 Recall: 0.7901060070671378\n",
      "06-05-2025 11:35:31 F1: 0.7610910323781102\n",
      "[I 2025-05-06 11:35:31,619] Trial 14 finished with value: 0.7610910323781102 and parameters: {'max_depth': 5, 'n_estimators': 206, 'learning_rate': 0.027352361955142693, 'subsample': 0.9756266093610879, 'colsample_bytree': 0.8650000776425012}. Best is trial 14 with value: 0.7610910323781102.\n",
      "06-05-2025 11:35:37 Accuracy: 0.7193574613811624\n",
      "06-05-2025 11:35:37 Precision: 0.8637321231695511\n",
      "06-05-2025 11:35:37 Recall: 0.7908127208480565\n",
      "06-05-2025 11:35:37 F1: 0.7607836691127313\n",
      "[I 2025-05-06 11:35:37,888] Trial 15 finished with value: 0.7607836691127313 and parameters: {'max_depth': 4, 'n_estimators': 298, 'learning_rate': 0.031106237331283683, 'subsample': 0.9555970678452561, 'colsample_bytree': 0.8752277363784869}. Best is trial 14 with value: 0.7610910323781102.\n",
      "06-05-2025 11:35:45 Accuracy: 0.7128039616644903\n",
      "06-05-2025 11:35:45 Precision: 0.8546631265287254\n",
      "06-05-2025 11:35:45 Recall: 0.7494699646643109\n",
      "06-05-2025 11:35:45 F1: 0.7549418622564219\n",
      "[I 2025-05-06 11:35:45,662] Trial 16 finished with value: 0.7549418622564219 and parameters: {'max_depth': 6, 'n_estimators': 190, 'learning_rate': 0.2583901956833979, 'subsample': 0.6293150563131025, 'colsample_bytree': 0.9768611343775456}. Best is trial 14 with value: 0.7610910323781102.\n",
      "06-05-2025 11:35:50 Accuracy: 0.7185690704378034\n",
      "06-05-2025 11:35:50 Precision: 0.8635571128846367\n",
      "06-05-2025 11:35:50 Recall: 0.7906360424028268\n",
      "06-05-2025 11:35:50 F1: 0.7601472333373245\n",
      "[I 2025-05-06 11:35:50,699] Trial 17 finished with value: 0.7601472333373245 and parameters: {'max_depth': 4, 'n_estimators': 228, 'learning_rate': 0.06549511019886602, 'subsample': 0.8102748834925781, 'colsample_bytree': 0.7881034964178654}. Best is trial 14 with value: 0.7610910323781102.\n",
      "06-05-2025 11:35:59 Accuracy: 0.7183719727019636\n",
      "06-05-2025 11:35:59 Precision: 0.8626408595180919\n",
      "06-05-2025 11:35:59 Recall: 0.7860424028268551\n",
      "06-05-2025 11:35:59 F1: 0.7599268916735169\n",
      "[I 2025-05-06 11:35:59,422] Trial 18 finished with value: 0.7599268916735169 and parameters: {'max_depth': 7, 'n_estimators': 224, 'learning_rate': 0.029749730612919762, 'subsample': 0.9279930042512848, 'colsample_bytree': 0.8651060803311456}. Best is trial 14 with value: 0.7610910323781102.\n",
      "06-05-2025 11:36:02 Accuracy: 0.712237305673951\n",
      "06-05-2025 11:36:02 Precision: 0.8621599283852491\n",
      "06-05-2025 11:36:02 Recall: 0.7892226148409894\n",
      "06-05-2025 11:36:02 F1: 0.7550277823816213\n",
      "[I 2025-05-06 11:36:02,984] Trial 19 finished with value: 0.7550277823816213 and parameters: {'max_depth': 3, 'n_estimators': 176, 'learning_rate': 0.014479911369891374, 'subsample': 0.7004184451592133, 'colsample_bytree': 0.92430091121114}. Best is trial 14 with value: 0.7610910323781102.\n",
      "06-05-2025 11:36:08 Accuracy: 0.7167951908152456\n",
      "06-05-2025 11:36:08 Precision: 0.8627308887171251\n",
      "06-05-2025 11:36:08 Recall: 0.7879858657243817\n",
      "06-05-2025 11:36:08 F1: 0.7586848427541468\n",
      "[I 2025-05-06 11:36:08,660] Trial 20 finished with value: 0.7586848427541468 and parameters: {'max_depth': 6, 'n_estimators': 173, 'learning_rate': 0.053249533618651784, 'subsample': 0.782131556812259, 'colsample_bytree': 0.8338014736935095}. Best is trial 14 with value: 0.7610910323781102.\n",
      "06-05-2025 11:36:14 Accuracy: 0.7198748429377417\n",
      "06-05-2025 11:36:14 Precision: 0.8634187606147692\n",
      "06-05-2025 11:36:14 Recall: 0.7886925795053004\n",
      "06-05-2025 11:36:14 F1: 0.7611707750304972\n",
      "[I 2025-05-06 11:36:14,822] Trial 21 finished with value: 0.7611707750304972 and parameters: {'max_depth': 4, 'n_estimators': 290, 'learning_rate': 0.03259186642854921, 'subsample': 0.9976870277913096, 'colsample_bytree': 0.9016419009919511}. Best is trial 21 with value: 0.7611707750304972.\n",
      "06-05-2025 11:36:20 Accuracy: 0.7209096060509005\n",
      "06-05-2025 11:36:20 Precision: 0.8634701590141027\n",
      "06-05-2025 11:36:20 Recall: 0.7879858657243817\n",
      "06-05-2025 11:36:20 F1: 0.7619922191790719\n",
      "[I 2025-05-06 11:36:20,822] Trial 22 finished with value: 0.7619922191790719 and parameters: {'max_depth': 4, 'n_estimators': 285, 'learning_rate': 0.02505940719962478, 'subsample': 0.99932686899572, 'colsample_bytree': 0.9104180416301417}. Best is trial 22 with value: 0.7619922191790719.\n",
      "06-05-2025 11:36:28 Accuracy: 0.7175835817586046\n",
      "06-05-2025 11:36:28 Precision: 0.8630755148884364\n",
      "06-05-2025 11:36:28 Recall: 0.7890459363957597\n",
      "06-05-2025 11:36:28 F1: 0.7593332554515753\n",
      "[I 2025-05-06 11:36:28,478] Trial 23 finished with value: 0.7593332554515753 and parameters: {'max_depth': 5, 'n_estimators': 288, 'learning_rate': 0.040860769579135196, 'subsample': 0.9920658954614346, 'colsample_bytree': 0.9446401825724607}. Best is trial 22 with value: 0.7619922191790719.\n",
      "06-05-2025 11:36:34 Accuracy: 0.7192589125132425\n",
      "06-05-2025 11:36:34 Precision: 0.8631726417351806\n",
      "06-05-2025 11:36:34 Recall: 0.7879858657243817\n",
      "06-05-2025 11:36:34 F1: 0.7606661641562315\n",
      "[I 2025-05-06 11:36:34,586] Trial 24 finished with value: 0.7606661641562315 and parameters: {'max_depth': 4, 'n_estimators': 276, 'learning_rate': 0.020776997088282484, 'subsample': 0.9303072640375735, 'colsample_bytree': 0.8980308414650128}. Best is trial 22 with value: 0.7619922191790719.\n",
      "06-05-2025 11:36:41 Accuracy: 0.7184458843529035\n",
      "06-05-2025 11:36:41 Precision: 0.863365487835614\n",
      "06-05-2025 11:36:41 Recall: 0.7897526501766784\n",
      "06-05-2025 11:36:41 F1: 0.7600363431712764\n",
      "[I 2025-05-06 11:36:41,460] Trial 25 finished with value: 0.7600363431712764 and parameters: {'max_depth': 5, 'n_estimators': 239, 'learning_rate': 0.03525369235468499, 'subsample': 0.9175771907203871, 'colsample_bytree': 0.9693973807512535}. Best is trial 22 with value: 0.7619922191790719.\n",
      "06-05-2025 11:36:45 Accuracy: 0.7153415950134273\n",
      "06-05-2025 11:36:45 Precision: 0.8628800630872547\n",
      "06-05-2025 11:36:45 Recall: 0.7901060070671378\n",
      "06-05-2025 11:36:45 F1: 0.7575419940602395\n",
      "[I 2025-05-06 11:36:45,871] Trial 26 finished with value: 0.7575419940602395 and parameters: {'max_depth': 3, 'n_estimators': 269, 'learning_rate': 0.014376491584010378, 'subsample': 0.9981438347075191, 'colsample_bytree': 0.7672693678838391}. Best is trial 22 with value: 0.7619922191790719.\n",
      "06-05-2025 11:36:52 Accuracy: 0.7177067678435044\n",
      "06-05-2025 11:36:52 Precision: 0.8631993577057135\n",
      "06-05-2025 11:36:52 Recall: 0.7895759717314488\n",
      "06-05-2025 11:36:52 F1: 0.7594394030652389\n",
      "[I 2025-05-06 11:36:52,281] Trial 27 finished with value: 0.7594394030652389 and parameters: {'max_depth': 4, 'n_estimators': 297, 'learning_rate': 0.08274569438171052, 'subsample': 0.955950181456772, 'colsample_bytree': 0.9011788601964588}. Best is trial 22 with value: 0.7619922191790719.\n",
      "06-05-2025 11:36:59 Accuracy: 0.7169183769001454\n",
      "06-05-2025 11:36:59 Precision: 0.8631265594506375\n",
      "06-05-2025 11:36:59 Recall: 0.7899293286219081\n",
      "06-05-2025 11:36:59 F1: 0.7588095688960443\n",
      "[I 2025-05-06 11:36:59,957] Trial 28 finished with value: 0.7588095688960443 and parameters: {'max_depth': 6, 'n_estimators': 215, 'learning_rate': 0.05362977336727289, 'subsample': 0.8994113009725638, 'colsample_bytree': 0.9546025568565297}. Best is trial 22 with value: 0.7619922191790719.\n",
      "06-05-2025 11:37:09 Accuracy: 0.7179038655793442\n",
      "06-05-2025 11:37:09 Precision: 0.8627937685732915\n",
      "06-05-2025 11:37:09 Recall: 0.7872791519434629\n",
      "06-05-2025 11:37:09 F1: 0.7595672769532785\n",
      "[I 2025-05-06 11:37:09,383] Trial 29 finished with value: 0.7595672769532785 and parameters: {'max_depth': 7, 'n_estimators': 247, 'learning_rate': 0.011197944628317143, 'subsample': 0.9544319586049126, 'colsample_bytree': 0.8513509715371143}. Best is trial 22 with value: 0.7619922191790719.\n",
      "06-05-2025 11:37:17 Accuracy: 0.7184212471359235\n",
      "06-05-2025 11:37:17 Precision: 0.8624129681982492\n",
      "06-05-2025 11:37:17 Recall: 0.7848056537102474\n",
      "06-05-2025 11:37:17 F1: 0.7599496340518036\n",
      "[I 2025-05-06 11:37:17,255] Trial 30 finished with value: 0.7599496340518036 and parameters: {'max_depth': 5, 'n_estimators': 283, 'learning_rate': 0.07154952888963922, 'subsample': 0.849287150006081, 'colsample_bytree': 0.902684112755864}. Best is trial 22 with value: 0.7619922191790719.\n",
      "06-05-2025 11:37:21 Accuracy: 0.7191110892113627\n",
      "06-05-2025 11:37:21 Precision: 0.8634169150121158\n",
      "06-05-2025 11:37:21 Recall: 0.789399293286219\n",
      "06-05-2025 11:37:21 F1: 0.7605665121384997\n",
      "[I 2025-05-06 11:37:21,947] Trial 31 finished with value: 0.7605665121384997 and parameters: {'max_depth': 4, 'n_estimators': 245, 'learning_rate': 0.025146227887836832, 'subsample': 0.9997324551852389, 'colsample_bytree': 0.7601265986038195}. Best is trial 22 with value: 0.7619922191790719.\n",
      "06-05-2025 11:37:26 Accuracy: 0.7184705215698834\n",
      "06-05-2025 11:37:26 Precision: 0.8633020862312404\n",
      "06-05-2025 11:37:26 Recall: 0.789399293286219\n",
      "06-05-2025 11:37:26 F1: 0.7600514265426134\n",
      "[I 2025-05-06 11:37:26,428] Trial 32 finished with value: 0.7600514265426134 and parameters: {'max_depth': 4, 'n_estimators': 175, 'learning_rate': 0.027339767503323176, 'subsample': 0.5869117812934938, 'colsample_bytree': 0.8245597228150168}. Best is trial 22 with value: 0.7619922191790719.\n",
      "06-05-2025 11:37:31 Accuracy: 0.7193820985981424\n",
      "06-05-2025 11:37:31 Precision: 0.8631948012614541\n",
      "06-05-2025 11:37:31 Recall: 0.7879858657243817\n",
      "06-05-2025 11:37:31 F1: 0.7607651627293706\n",
      "[I 2025-05-06 11:37:31,331] Trial 33 finished with value: 0.7607651627293706 and parameters: {'max_depth': 3, 'n_estimators': 256, 'learning_rate': 0.02279777585181481, 'subsample': 0.6850142108319652, 'colsample_bytree': 0.8816935131608591}. Best is trial 22 with value: 0.7619922191790719.\n",
      "06-05-2025 11:37:36 Accuracy: 0.7186429820887432\n",
      "06-05-2025 11:37:36 Precision: 0.8629603693202682\n",
      "06-05-2025 11:37:36 Recall: 0.7874558303886926\n",
      "06-05-2025 11:37:36 F1: 0.7601639029309964\n",
      "[I 2025-05-06 11:37:36,330] Trial 34 finished with value: 0.7601639029309964 and parameters: {'max_depth': 4, 'n_estimators': 230, 'learning_rate': 0.017262552555386224, 'subsample': 0.9664930861748062, 'colsample_bytree': 0.8421871855864387}. Best is trial 22 with value: 0.7619922191790719.\n",
      "06-05-2025 11:37:44 Accuracy: 0.7185690704378034\n",
      "06-05-2025 11:37:44 Precision: 0.863251952193316\n",
      "06-05-2025 11:37:44 Recall: 0.7890459363957597\n",
      "06-05-2025 11:37:44 F1: 0.7601259360395529\n",
      "[I 2025-05-06 11:37:44,716] Trial 35 finished with value: 0.7601259360395529 and parameters: {'max_depth': 5, 'n_estimators': 269, 'learning_rate': 0.03803815938919093, 'subsample': 0.6235657135597986, 'colsample_bytree': 0.9174268422068229}. Best is trial 22 with value: 0.7619922191790719.\n",
      "06-05-2025 11:37:48 Accuracy: 0.7163024464756461\n",
      "06-05-2025 11:37:48 Precision: 0.8631189056490526\n",
      "06-05-2025 11:37:48 Recall: 0.7904593639575972\n",
      "06-05-2025 11:37:48 F1: 0.7583205527503528\n",
      "[I 2025-05-06 11:37:48,544] Trial 36 finished with value: 0.7583205527503528 and parameters: {'max_depth': 3, 'n_estimators': 209, 'learning_rate': 0.020440418673343723, 'subsample': 0.7310299700639248, 'colsample_bytree': 0.8078435826705458}. Best is trial 22 with value: 0.7619922191790719.\n",
      "06-05-2025 11:37:56 Accuracy: 0.7128285988814703\n",
      "06-05-2025 11:37:56 Precision: 0.8552020563056474\n",
      "06-05-2025 11:37:56 Recall: 0.7522968197879859\n",
      "06-05-2025 11:37:56 F1: 0.7550033968907857\n",
      "[I 2025-05-06 11:37:56,206] Trial 37 finished with value: 0.7550033968907857 and parameters: {'max_depth': 8, 'n_estimators': 154, 'learning_rate': 0.15047371345489036, 'subsample': 0.6631642785243179, 'colsample_bytree': 0.8668264396394916}. Best is trial 22 with value: 0.7619922191790719.\n",
      "06-05-2025 11:38:02 Accuracy: 0.7182980610510237\n",
      "06-05-2025 11:38:02 Precision: 0.8637123504325387\n",
      "06-05-2025 11:38:02 Recall: 0.791696113074205\n",
      "06-05-2025 11:38:02 F1: 0.7599432828284118\n",
      "[I 2025-05-06 11:38:02,414] Trial 38 finished with value: 0.7599432828284118 and parameters: {'max_depth': 4, 'n_estimators': 259, 'learning_rate': 0.04778802891011793, 'subsample': 0.5128595511459624, 'colsample_bytree': 0.780113842679956}. Best is trial 22 with value: 0.7619922191790719.\n",
      "06-05-2025 11:38:14 Accuracy: 0.7153908694473872\n",
      "06-05-2025 11:38:14 Precision: 0.8618345538228337\n",
      "06-05-2025 11:38:14 Recall: 0.7846289752650176\n",
      "06-05-2025 11:38:14 F1: 0.7575104346558297\n",
      "[I 2025-05-06 11:38:14,160] Trial 39 finished with value: 0.7575104346558297 and parameters: {'max_depth': 10, 'n_estimators': 190, 'learning_rate': 0.02822741495246844, 'subsample': 0.6008718821042319, 'colsample_bytree': 0.7394557699715042}. Best is trial 22 with value: 0.7619922191790719.\n",
      "06-05-2025 11:38:16 Accuracy: 0.7189139914755229\n",
      "06-05-2025 11:38:16 Precision: 0.8629752533655025\n",
      "06-05-2025 11:38:16 Recall: 0.7872791519434629\n",
      "06-05-2025 11:38:16 F1: 0.7603793352530306\n",
      "[I 2025-05-06 11:38:16,724] Trial 40 finished with value: 0.7603793352530306 and parameters: {'max_depth': 5, 'n_estimators': 78, 'learning_rate': 0.03161146768414696, 'subsample': 0.9350372869618773, 'colsample_bytree': 0.9472068421847709}. Best is trial 22 with value: 0.7619922191790719.\n",
      "06-05-2025 11:38:22 Accuracy: 0.7198009312868019\n",
      "06-05-2025 11:38:22 Precision: 0.8637100224186094\n",
      "06-05-2025 11:38:22 Recall: 0.7902826855123675\n",
      "06-05-2025 11:38:22 F1: 0.7611330383504392\n",
      "[I 2025-05-06 11:38:22,991] Trial 41 finished with value: 0.7611330383504392 and parameters: {'max_depth': 4, 'n_estimators': 298, 'learning_rate': 0.03311163631420679, 'subsample': 0.9755796515934684, 'colsample_bytree': 0.8784415186994021}. Best is trial 22 with value: 0.7619922191790719.\n",
      "06-05-2025 11:38:29 Accuracy: 0.720540047796201\n",
      "06-05-2025 11:38:29 Precision: 0.8633021362413414\n",
      "06-05-2025 11:38:29 Recall: 0.7874558303886926\n",
      "06-05-2025 11:38:29 F1: 0.7616881005332601\n",
      "[I 2025-05-06 11:38:29,119] Trial 42 finished with value: 0.7616881005332601 and parameters: {'max_depth': 4, 'n_estimators': 286, 'learning_rate': 0.024236075523383995, 'subsample': 0.9706067540008944, 'colsample_bytree': 0.8917789660928849}. Best is trial 22 with value: 0.7619922191790719.\n",
      "06-05-2025 11:38:34 Accuracy: 0.718840079824583\n",
      "06-05-2025 11:38:34 Precision: 0.863402197290283\n",
      "06-05-2025 11:38:34 Recall: 0.7895759717314488\n",
      "06-05-2025 11:38:34 F1: 0.7603509905090662\n",
      "[I 2025-05-06 11:38:34,010] Trial 43 finished with value: 0.7603509905090662 and parameters: {'max_depth': 3, 'n_estimators': 285, 'learning_rate': 0.035129715729907675, 'subsample': 0.9774702406292027, 'colsample_bytree': 0.8890969513101618}. Best is trial 22 with value: 0.7619922191790719.\n",
      "06-05-2025 11:38:42 Accuracy: 0.7185444332208234\n",
      "06-05-2025 11:38:42 Precision: 0.8633492268498859\n",
      "06-05-2025 11:38:42 Recall: 0.7895759717314488\n",
      "06-05-2025 11:38:42 F1: 0.760113237721769\n",
      "[I 2025-05-06 11:38:42,259] Trial 44 finished with value: 0.760113237721769 and parameters: {'max_depth': 5, 'n_estimators': 297, 'learning_rate': 0.01700760939638114, 'subsample': 0.9061291337469597, 'colsample_bytree': 0.9283606207375615}. Best is trial 22 with value: 0.7619922191790719.\n",
      "06-05-2025 11:38:46 Accuracy: 0.7185937076547834\n",
      "06-05-2025 11:38:46 Precision: 0.863358052511748\n",
      "06-05-2025 11:38:46 Recall: 0.7895759717314488\n",
      "06-05-2025 11:38:46 F1: 0.7601528657578709\n",
      "[I 2025-05-06 11:38:46,887] Trial 45 finished with value: 0.7601528657578709 and parameters: {'max_depth': 4, 'n_estimators': 273, 'learning_rate': 0.02410620336808699, 'subsample': 0.945496094070297, 'colsample_bytree': 0.5737476836742024}. Best is trial 22 with value: 0.7619922191790719.\n",
      "06-05-2025 11:38:55 Accuracy: 0.7186183448717632\n",
      "06-05-2025 11:38:55 Precision: 0.8634302708277468\n",
      "06-05-2025 11:38:55 Recall: 0.7899293286219081\n",
      "06-05-2025 11:38:55 F1: 0.7601774168673481\n",
      "[I 2025-05-06 11:38:55,496] Trial 46 finished with value: 0.7601774168673481 and parameters: {'max_depth': 5, 'n_estimators': 285, 'learning_rate': 0.019948925726191075, 'subsample': 0.880695769644581, 'colsample_bytree': 0.9863171632473458}. Best is trial 22 with value: 0.7619922191790719.\n",
      "06-05-2025 11:39:00 Accuracy: 0.7190864519943827\n",
      "06-05-2025 11:39:00 Precision: 0.8635480149801887\n",
      "06-05-2025 11:39:00 Recall: 0.7901060070671378\n",
      "06-05-2025 11:39:00 F1: 0.7605562341490054\n",
      "[I 2025-05-06 11:39:00,088] Trial 47 finished with value: 0.7605562341490054 and parameters: {'max_depth': 3, 'n_estimators': 258, 'learning_rate': 0.04677420343328043, 'subsample': 0.9752020430444788, 'colsample_bytree': 0.855137036122804}. Best is trial 22 with value: 0.7619922191790719.\n",
      "06-05-2025 11:39:06 Accuracy: 0.7177067678435044\n",
      "06-05-2025 11:39:06 Precision: 0.8635389692768193\n",
      "06-05-2025 11:39:06 Recall: 0.7913427561837456\n",
      "06-05-2025 11:39:06 F1: 0.7594627486292774\n",
      "[I 2025-05-06 11:39:06,345] Trial 48 finished with value: 0.7594627486292774 and parameters: {'max_depth': 4, 'n_estimators': 299, 'learning_rate': 0.06445486417413822, 'subsample': 0.9783797534840576, 'colsample_bytree': 0.8166940648708864}. Best is trial 22 with value: 0.7619922191790719.\n",
      "06-05-2025 11:39:15 Accuracy: 0.7179285027963241\n",
      "06-05-2025 11:39:15 Precision: 0.8636464478722128\n",
      "06-05-2025 11:39:15 Recall: 0.791696113074205\n",
      "06-05-2025 11:39:15 F1: 0.7596458707771904\n",
      "[I 2025-05-06 11:39:15,348] Trial 49 finished with value: 0.7596458707771904 and parameters: {'max_depth': 6, 'n_estimators': 278, 'learning_rate': 0.026460399079463588, 'subsample': 0.9124697177255092, 'colsample_bytree': 0.9125091195842845}. Best is trial 22 with value: 0.7619922191790719.\n"
     ]
    },
    {
     "name": "stdout",
     "output_type": "stream",
     "text": [
      "Best hyperparameters: {'max_depth': 4, 'n_estimators': 285, 'learning_rate': 0.02505940719962478, 'subsample': 0.99932686899572, 'colsample_bytree': 0.9104180416301417}\n"
     ]
    }
   ],
   "source": [
    "def objective(trial):\n",
    "    params = {\n",
    "        \"max_depth\": trial.suggest_int(\"max_depth\", 3, 10),\n",
    "        \"n_estimators\": trial.suggest_int(\"n_estimators\", 50, 300), \n",
    "        \"learning_rate\": trial.suggest_float(\"learning_rate\", 0.01, 0.3, log=True),\n",
    "        \"subsample\": trial.suggest_float(\"subsample\", 0.5, 1.0),\n",
    "        \"colsample_bytree\": trial.suggest_float(\"colsample_bytree\", 0.5, 1.0)\n",
    "    }\n",
    "\n",
    "    pipe = ImbPipeline(steps=[\n",
    "        (\"scaler\", MinMaxScaler()),\n",
    "        (\"selectkbest\", SelectKBest(score_func=chi2, k=15)),\n",
    "        (\"poly\", PolynomialFeatures(degree=2, include_bias=False)),\n",
    "        (\"xgb\", XGBClassifier(\n",
    "            use_label_encoder=False,\n",
    "            eval_metric=\"logloss\",\n",
    "            random_state=42,\n",
    "            **params\n",
    "        ))\n",
    "    ])\n",
    "\n",
    "    pipe.fit(X_train, y_train)\n",
    "\n",
    "    y_pred = pipe.predict(X_val)\n",
    "    \n",
    "    f1 = f1_score(y_val, y_pred,average='weighted', zero_division=1)\n",
    "    precision = precision_score(y_val, y_pred, zero_division=1, average='weighted')\n",
    "    recall = recall_score(y_val, y_pred, zero_division=1)\n",
    "    acc = accuracy_score(y_val, y_pred)\n",
    "\n",
    "    logger.info(\"Accuracy: {}\".format(acc))\n",
    "    logger.info(\"Precision: {}\".format(precision))\n",
    "    logger.info(\"Recall: {}\".format(recall))\n",
    "    logger.info(\"F1: {}\".format(f1))\n",
    "\n",
    "    run.summary[\"Accuracy\"] = acc\n",
    "    run.summary[\"Precision\"] = precision\n",
    "    run.summary[\"Recall\"] = recall\n",
    "    run.summary[\"F1\"] = f1\n",
    "\n",
    "    return f1  \n",
    "\n",
    "study = optuna.create_study(direction=\"maximize\")\n",
    "study.optimize(objective, n_trials=50)\n",
    "\n",
    "print(\"Best hyperparameters:\", study.best_params)"
   ]
  },
  {
   "cell_type": "code",
   "execution_count": null,
   "id": "a184c3bb",
   "metadata": {},
   "outputs": [
    {
     "name": "stderr",
     "output_type": "stream",
     "text": [
      "06-05-2025 11:39:21 Accuracy: 0.7209096060509005\n",
      "06-05-2025 11:39:22 Precision: 0.8634701590141027\n",
      "06-05-2025 11:39:22 Recall: 0.7879858657243817\n",
      "06-05-2025 11:39:22 F1: 0.7619922191790719\n"
     ]
    }
   ],
   "source": [
    "final_pipe = ImbPipeline(steps=[\n",
    "    (\"selectkbest\", SelectKBest(score_func=chi2, k=15)),\n",
    "    (\"scaler\", MinMaxScaler()),\n",
    "    (\"poly\", PolynomialFeatures(degree=2, include_bias=False)),\n",
    "    (\"xgb\", XGBClassifier(\n",
    "        use_label_encoder=False,\n",
    "        eval_metric=\"logloss\",\n",
    "        random_state=42,\n",
    "        **study.best_params\n",
    "    ))\n",
    "])\n",
    "\n",
    "final_pipe.fit(X_train, y_train)\n",
    "\n",
    "y_pred = final_pipe.predict(X_val)\n",
    "f1 = f1_score(y_val, y_pred,average='weighted', zero_division=1)\n",
    "precision = precision_score(y_val, y_pred, zero_division=1, average='weighted')\n",
    "recall = recall_score(y_val, y_pred, zero_division=1)\n",
    "acc = accuracy_score(y_val, y_pred)\n",
    "\n",
    "logger.info(\"Accuracy: {}\".format(acc))\n",
    "logger.info(\"Precision: {}\".format(precision))\n",
    "logger.info(\"Recall: {}\".format(recall))\n",
    "logger.info(\"F1: {}\".format(f1))\n",
    "\n",
    "run.summary[\"Accuracy\"] = acc\n",
    "run.summary[\"Precision\"] = precision\n",
    "run.summary[\"Recall\"] = recall\n",
    "run.summary[\"F1\"] = f1"
   ]
  },
  {
   "cell_type": "markdown",
   "id": "7dfb7900",
   "metadata": {},
   "source": [
    "# VI. Export model"
   ]
  },
  {
   "cell_type": "code",
   "execution_count": 26,
   "id": "9be28b19",
   "metadata": {},
   "outputs": [],
   "source": [
    "artifact_type = \"inference_artifact\"\n",
    "artifact_model = \"model_export\""
   ]
  },
  {
   "cell_type": "code",
   "execution_count": 27,
   "id": "37c773ac",
   "metadata": {},
   "outputs": [
    {
     "name": "stderr",
     "output_type": "stream",
     "text": [
      "06-05-2025 11:39:22 Dumping the artifacts to disk\n"
     ]
    },
    {
     "data": {
      "text/plain": [
       "['model_export']"
      ]
     },
     "execution_count": 27,
     "metadata": {},
     "output_type": "execute_result"
    }
   ],
   "source": [
    "logger.info(\"Dumping the artifacts to disk\")\n",
    "joblib.dump(final_pipe, artifact_model)"
   ]
  },
  {
   "cell_type": "code",
   "execution_count": 28,
   "id": "31c872df",
   "metadata": {},
   "outputs": [
    {
     "name": "stderr",
     "output_type": "stream",
     "text": [
      "06-05-2025 11:39:22 Logging model artifact\n"
     ]
    },
    {
     "data": {
      "text/plain": [
       "<Artifact model_export>"
      ]
     },
     "execution_count": 28,
     "metadata": {},
     "output_type": "execute_result"
    }
   ],
   "source": [
    "artifact = wandb.Artifact(artifact_model,\n",
    "                          type=artifact_type,\n",
    "                          description=\"A full pipeline composed of a Preprocessing Stage and a Decision Tree model\"\n",
    "                          )\n",
    "\n",
    "logger.info(\"Logging model artifact\")\n",
    "artifact.add_file(artifact_model)\n",
    "run.log_artifact(artifact)"
   ]
  },
  {
   "cell_type": "code",
   "execution_count": 29,
   "id": "43d1e17f",
   "metadata": {},
   "outputs": [
    {
     "data": {
      "text/html": [],
      "text/plain": [
       "<IPython.core.display.HTML object>"
      ]
     },
     "metadata": {},
     "output_type": "display_data"
    },
    {
     "data": {
      "text/html": [
       "<br>    <style><br>        .wandb-row {<br>            display: flex;<br>            flex-direction: row;<br>            flex-wrap: wrap;<br>            justify-content: flex-start;<br>            width: 100%;<br>        }<br>        .wandb-col {<br>            display: flex;<br>            flex-direction: column;<br>            flex-basis: 100%;<br>            flex: 1;<br>            padding: 10px;<br>        }<br>    </style><br><div class=\"wandb-row\"><div class=\"wandb-col\"><h3>Run summary:</h3><br/><table class=\"wandb\"><tr><td>Accuracy</td><td>0.72091</td></tr><tr><td>F1</td><td>0.76199</td></tr><tr><td>Precision</td><td>0.86347</td></tr><tr><td>Recall</td><td>0.78799</td></tr></table><br/></div></div>"
      ],
      "text/plain": [
       "<IPython.core.display.HTML object>"
      ]
     },
     "metadata": {},
     "output_type": "display_data"
    },
    {
     "data": {
      "text/html": [
       " View run <strong style=\"color:#cdcd00\">peach-brook-39</strong> at: <a href='https://wandb.ai/valoptauhoa-national-economics-university/diabetes/runs/xdxmmr1l' target=\"_blank\">https://wandb.ai/valoptauhoa-national-economics-university/diabetes/runs/xdxmmr1l</a><br> View project at: <a href='https://wandb.ai/valoptauhoa-national-economics-university/diabetes' target=\"_blank\">https://wandb.ai/valoptauhoa-national-economics-university/diabetes</a><br>Synced 5 W&B file(s), 3 media file(s), 6 artifact file(s) and 0 other file(s)"
      ],
      "text/plain": [
       "<IPython.core.display.HTML object>"
      ]
     },
     "metadata": {},
     "output_type": "display_data"
    },
    {
     "data": {
      "text/html": [
       "Find logs at: <code>.\\wandb\\run-20250506_113329-xdxmmr1l\\logs</code>"
      ],
      "text/plain": [
       "<IPython.core.display.HTML object>"
      ]
     },
     "metadata": {},
     "output_type": "display_data"
    }
   ],
   "source": [
    "run.finish()"
   ]
  }
 ],
 "metadata": {
  "kernelspec": {
   "display_name": "Python 3",
   "language": "python",
   "name": "python3"
  },
  "language_info": {
   "codemirror_mode": {
    "name": "ipython",
    "version": 3
   },
   "file_extension": ".py",
   "mimetype": "text/x-python",
   "name": "python",
   "nbconvert_exporter": "python",
   "pygments_lexer": "ipython3",
   "version": "3.11.1"
  }
 },
 "nbformat": 4,
 "nbformat_minor": 5
}
