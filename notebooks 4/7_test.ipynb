{
 "cells": [
  {
   "cell_type": "markdown",
   "id": "4a9739a0",
   "metadata": {},
   "source": [
    "# I. Install and load libraries"
   ]
  },
  {
   "cell_type": "code",
   "execution_count": 13,
   "id": "c4682243",
   "metadata": {},
   "outputs": [
    {
     "data": {
      "text/plain": [
       "True"
      ]
     },
     "execution_count": 13,
     "metadata": {},
     "output_type": "execute_result"
    }
   ],
   "source": [
    "import os\n",
    "import pandas as pd\n",
    "import matplotlib.pyplot as plt\n",
    "from sklearn.metrics import confusion_matrix\n",
    "import wandb\n",
    "from sklearn.metrics import confusion_matrix, ConfusionMatrixDisplay\n",
    "import warnings\n",
    "warnings.filterwarnings(\"ignore\")\n",
    "from sklearn.metrics import accuracy_score, f1_score, recall_score, precision_score\n",
    "import logging\n",
    "import joblib\n",
    "from sklearn.metrics import classification_report\n",
    "from dotenv import load_dotenv\n",
    "load_dotenv()"
   ]
  },
  {
   "cell_type": "code",
   "execution_count": 14,
   "id": "cd18f06a",
   "metadata": {},
   "outputs": [],
   "source": [
    "logging.basicConfig(level=logging.INFO,\n",
    "                    format=\"%(asctime)s %(message)s\",\n",
    "                    datefmt='%d-%m-%Y %H:%M:%S')\n",
    "\n",
    "logger = logging.getLogger()"
   ]
  },
  {
   "cell_type": "markdown",
   "id": "f66e2139",
   "metadata": {},
   "source": [
    "# II. Downloading dataset "
   ]
  },
  {
   "cell_type": "code",
   "execution_count": 15,
   "id": "0f31025d",
   "metadata": {},
   "outputs": [
    {
     "data": {
      "text/html": [
       "Tracking run with wandb version 0.19.10"
      ],
      "text/plain": [
       "<IPython.core.display.HTML object>"
      ]
     },
     "metadata": {},
     "output_type": "display_data"
    },
    {
     "data": {
      "text/html": [
       "Run data is saved locally in <code>c:\\Users\\PC\\Downloads\\notebook 2\\wandb\\run-20250506_122637-07mcegqt</code>"
      ],
      "text/plain": [
       "<IPython.core.display.HTML object>"
      ]
     },
     "metadata": {},
     "output_type": "display_data"
    },
    {
     "data": {
      "text/html": [
       "Syncing run <strong><a href='https://wandb.ai/valoptauhoa-national-economics-university/diabetes/runs/07mcegqt' target=\"_blank\">frosty-silence-41</a></strong> to <a href='https://wandb.ai/valoptauhoa-national-economics-university/diabetes' target=\"_blank\">Weights & Biases</a> (<a href='https://wandb.me/developer-guide' target=\"_blank\">docs</a>)<br>"
      ],
      "text/plain": [
       "<IPython.core.display.HTML object>"
      ]
     },
     "metadata": {},
     "output_type": "display_data"
    },
    {
     "data": {
      "text/html": [
       " View project at <a href='https://wandb.ai/valoptauhoa-national-economics-university/diabetes' target=\"_blank\">https://wandb.ai/valoptauhoa-national-economics-university/diabetes</a>"
      ],
      "text/plain": [
       "<IPython.core.display.HTML object>"
      ]
     },
     "metadata": {},
     "output_type": "display_data"
    },
    {
     "data": {
      "text/html": [
       " View run at <a href='https://wandb.ai/valoptauhoa-national-economics-university/diabetes/runs/07mcegqt' target=\"_blank\">https://wandb.ai/valoptauhoa-national-economics-university/diabetes/runs/07mcegqt</a>"
      ],
      "text/plain": [
       "<IPython.core.display.HTML object>"
      ]
     },
     "metadata": {},
     "output_type": "display_data"
    }
   ],
   "source": [
    "run = wandb.init(project=\"diabetes\", job_type=\"test\")"
   ]
  },
  {
   "cell_type": "code",
   "execution_count": 16,
   "id": "9fdd0a17",
   "metadata": {},
   "outputs": [
    {
     "name": "stderr",
     "output_type": "stream",
     "text": [
      "wandb: Appending key for api.wandb.ai to your netrc file: C:\\Users\\PC\\_netrc\n",
      "wandb: W&B API key is configured. Use `wandb login --relogin` to force relogin\n"
     ]
    }
   ],
   "source": [
    "WANDB_API_KEY=os.environ.get('WANDB_API_KEY')\n",
    "!wandb login --relogin $WANDB_API_KEY"
   ]
  },
  {
   "cell_type": "code",
   "execution_count": 17,
   "id": "940acca9",
   "metadata": {},
   "outputs": [
    {
     "name": "stderr",
     "output_type": "stream",
     "text": [
      "06-05-2025 12:26:41 Downloading and reading test artifact\n",
      "\u001b[34m\u001b[1mwandb\u001b[0m:   1 of 1 files downloaded.  \n",
      "\u001b[34m\u001b[1mwandb\u001b[0m:   1 of 1 files downloaded.  \n"
     ]
    }
   ],
   "source": [
    "logger.info(\"Downloading and reading test artifact\")\n",
    "\n",
    "artifact_X_test = wandb.use_artifact('diabetes/X_test.csv:latest', type='preprocessing')\n",
    "artifact_y_test = wandb.use_artifact('diabetes/y_test.csv:latest', type='preprocessing')\n",
    "\n",
    "X_test_dir = artifact_X_test.download()\n",
    "y_test_dir = artifact_y_test.download()\n",
    "\n",
    "X_test_path = os.path.join(X_test_dir, \"X_test.csv\")\n",
    "y_test_path = os.path.join(y_test_dir, \"y_test.csv\")\n",
    "\n",
    "X_test = pd.read_csv(X_test_path)\n",
    "y_test = pd.read_csv(y_test_path)"
   ]
  },
  {
   "cell_type": "code",
   "execution_count": 18,
   "id": "85b2d6ed",
   "metadata": {},
   "outputs": [
    {
     "data": {
      "text/html": [
       "<div>\n",
       "<style scoped>\n",
       "    .dataframe tbody tr th:only-of-type {\n",
       "        vertical-align: middle;\n",
       "    }\n",
       "\n",
       "    .dataframe tbody tr th {\n",
       "        vertical-align: top;\n",
       "    }\n",
       "\n",
       "    .dataframe thead th {\n",
       "        text-align: right;\n",
       "    }\n",
       "</style>\n",
       "<table border=\"1\" class=\"dataframe\">\n",
       "  <thead>\n",
       "    <tr style=\"text-align: right;\">\n",
       "      <th></th>\n",
       "      <th>HighBP</th>\n",
       "      <th>HighChol</th>\n",
       "      <th>CholCheck</th>\n",
       "      <th>BMI</th>\n",
       "      <th>Smoker</th>\n",
       "      <th>Stroke</th>\n",
       "      <th>HeartDiseaseorAttack</th>\n",
       "      <th>PhysActivity</th>\n",
       "      <th>Fruits</th>\n",
       "      <th>Veggies</th>\n",
       "      <th>...</th>\n",
       "      <th>AnyHealthcare</th>\n",
       "      <th>NoDocbcCost</th>\n",
       "      <th>GenHlth</th>\n",
       "      <th>MentHlth</th>\n",
       "      <th>PhysHlth</th>\n",
       "      <th>DiffWalk</th>\n",
       "      <th>Sex</th>\n",
       "      <th>Age</th>\n",
       "      <th>Education</th>\n",
       "      <th>Income</th>\n",
       "    </tr>\n",
       "  </thead>\n",
       "  <tbody>\n",
       "    <tr>\n",
       "      <th>0</th>\n",
       "      <td>0.0</td>\n",
       "      <td>0.0</td>\n",
       "      <td>1.0</td>\n",
       "      <td>21.0</td>\n",
       "      <td>0.0</td>\n",
       "      <td>0.0</td>\n",
       "      <td>0.0</td>\n",
       "      <td>0.0</td>\n",
       "      <td>1.0</td>\n",
       "      <td>1.0</td>\n",
       "      <td>...</td>\n",
       "      <td>1.0</td>\n",
       "      <td>0.0</td>\n",
       "      <td>3.0</td>\n",
       "      <td>3.0</td>\n",
       "      <td>7.0</td>\n",
       "      <td>0.0</td>\n",
       "      <td>0.0</td>\n",
       "      <td>7.0</td>\n",
       "      <td>4.0</td>\n",
       "      <td>2.0</td>\n",
       "    </tr>\n",
       "    <tr>\n",
       "      <th>1</th>\n",
       "      <td>1.0</td>\n",
       "      <td>1.0</td>\n",
       "      <td>1.0</td>\n",
       "      <td>28.0</td>\n",
       "      <td>0.0</td>\n",
       "      <td>0.0</td>\n",
       "      <td>0.0</td>\n",
       "      <td>1.0</td>\n",
       "      <td>1.0</td>\n",
       "      <td>1.0</td>\n",
       "      <td>...</td>\n",
       "      <td>1.0</td>\n",
       "      <td>0.0</td>\n",
       "      <td>3.0</td>\n",
       "      <td>0.0</td>\n",
       "      <td>0.0</td>\n",
       "      <td>0.0</td>\n",
       "      <td>0.0</td>\n",
       "      <td>13.0</td>\n",
       "      <td>6.0</td>\n",
       "      <td>6.0</td>\n",
       "    </tr>\n",
       "    <tr>\n",
       "      <th>2</th>\n",
       "      <td>0.0</td>\n",
       "      <td>0.0</td>\n",
       "      <td>1.0</td>\n",
       "      <td>24.0</td>\n",
       "      <td>0.0</td>\n",
       "      <td>0.0</td>\n",
       "      <td>0.0</td>\n",
       "      <td>1.0</td>\n",
       "      <td>1.0</td>\n",
       "      <td>1.0</td>\n",
       "      <td>...</td>\n",
       "      <td>1.0</td>\n",
       "      <td>0.0</td>\n",
       "      <td>1.0</td>\n",
       "      <td>0.0</td>\n",
       "      <td>0.0</td>\n",
       "      <td>0.0</td>\n",
       "      <td>1.0</td>\n",
       "      <td>1.0</td>\n",
       "      <td>4.0</td>\n",
       "      <td>7.0</td>\n",
       "    </tr>\n",
       "    <tr>\n",
       "      <th>3</th>\n",
       "      <td>0.0</td>\n",
       "      <td>0.0</td>\n",
       "      <td>1.0</td>\n",
       "      <td>27.0</td>\n",
       "      <td>1.0</td>\n",
       "      <td>0.0</td>\n",
       "      <td>0.0</td>\n",
       "      <td>1.0</td>\n",
       "      <td>0.0</td>\n",
       "      <td>1.0</td>\n",
       "      <td>...</td>\n",
       "      <td>1.0</td>\n",
       "      <td>0.0</td>\n",
       "      <td>2.0</td>\n",
       "      <td>3.0</td>\n",
       "      <td>0.0</td>\n",
       "      <td>0.0</td>\n",
       "      <td>1.0</td>\n",
       "      <td>2.0</td>\n",
       "      <td>4.0</td>\n",
       "      <td>7.0</td>\n",
       "    </tr>\n",
       "    <tr>\n",
       "      <th>4</th>\n",
       "      <td>0.0</td>\n",
       "      <td>1.0</td>\n",
       "      <td>1.0</td>\n",
       "      <td>31.0</td>\n",
       "      <td>1.0</td>\n",
       "      <td>0.0</td>\n",
       "      <td>0.0</td>\n",
       "      <td>0.0</td>\n",
       "      <td>1.0</td>\n",
       "      <td>1.0</td>\n",
       "      <td>...</td>\n",
       "      <td>1.0</td>\n",
       "      <td>1.0</td>\n",
       "      <td>4.0</td>\n",
       "      <td>5.0</td>\n",
       "      <td>7.5</td>\n",
       "      <td>1.0</td>\n",
       "      <td>0.0</td>\n",
       "      <td>8.0</td>\n",
       "      <td>3.0</td>\n",
       "      <td>2.0</td>\n",
       "    </tr>\n",
       "  </tbody>\n",
       "</table>\n",
       "<p>5 rows × 21 columns</p>\n",
       "</div>"
      ],
      "text/plain": [
       "   HighBP  HighChol  CholCheck   BMI  Smoker  Stroke  HeartDiseaseorAttack  \\\n",
       "0     0.0       0.0        1.0  21.0     0.0     0.0                   0.0   \n",
       "1     1.0       1.0        1.0  28.0     0.0     0.0                   0.0   \n",
       "2     0.0       0.0        1.0  24.0     0.0     0.0                   0.0   \n",
       "3     0.0       0.0        1.0  27.0     1.0     0.0                   0.0   \n",
       "4     0.0       1.0        1.0  31.0     1.0     0.0                   0.0   \n",
       "\n",
       "   PhysActivity  Fruits  Veggies  ...  AnyHealthcare  NoDocbcCost  GenHlth  \\\n",
       "0           0.0     1.0      1.0  ...            1.0          0.0      3.0   \n",
       "1           1.0     1.0      1.0  ...            1.0          0.0      3.0   \n",
       "2           1.0     1.0      1.0  ...            1.0          0.0      1.0   \n",
       "3           1.0     0.0      1.0  ...            1.0          0.0      2.0   \n",
       "4           0.0     1.0      1.0  ...            1.0          1.0      4.0   \n",
       "\n",
       "   MentHlth  PhysHlth  DiffWalk  Sex   Age  Education  Income  \n",
       "0       3.0       7.0       0.0  0.0   7.0        4.0     2.0  \n",
       "1       0.0       0.0       0.0  0.0  13.0        6.0     6.0  \n",
       "2       0.0       0.0       0.0  1.0   1.0        4.0     7.0  \n",
       "3       3.0       0.0       0.0  1.0   2.0        4.0     7.0  \n",
       "4       5.0       7.5       1.0  0.0   8.0        3.0     2.0  \n",
       "\n",
       "[5 rows x 21 columns]"
      ]
     },
     "execution_count": 18,
     "metadata": {},
     "output_type": "execute_result"
    }
   ],
   "source": [
    "X_test.head()"
   ]
  },
  {
   "cell_type": "markdown",
   "id": "08f8507a",
   "metadata": {},
   "source": [
    "# III. Dowloading model "
   ]
  },
  {
   "cell_type": "code",
   "execution_count": 19,
   "id": "f1086103",
   "metadata": {},
   "outputs": [
    {
     "name": "stderr",
     "output_type": "stream",
     "text": [
      "06-05-2025 12:26:47 Downloading and load the exported model\n",
      "\u001b[34m\u001b[1mwandb\u001b[0m:   1 of 1 files downloaded.  \n"
     ]
    }
   ],
   "source": [
    "logger.info(\"Downloading and load the exported model\")\n",
    "artifact_model_name = \"model_export:latest\" \n",
    "model_artifact = run.use_artifact(artifact_model_name)\n",
    "model_dir = model_artifact.download()  \n",
    "\n",
    "model_export_path = os.path.join(model_dir, \"model_export\")  \n",
    "\n",
    "pipe = joblib.load(model_export_path)"
   ]
  },
  {
   "cell_type": "markdown",
   "id": "7ff7f52b",
   "metadata": {},
   "source": [
    "# IV. Testing "
   ]
  },
  {
   "cell_type": "code",
   "execution_count": 20,
   "id": "9fdd8451",
   "metadata": {},
   "outputs": [
    {
     "name": "stderr",
     "output_type": "stream",
     "text": [
      "06-05-2025 12:26:50 Infering\n",
      "06-05-2025 12:26:50 Test Evaluation metrics\n",
      "06-05-2025 12:26:50 Test Accuracy: 0.7221302428256071\n",
      "06-05-2025 12:26:50 Test Precision: 0.8663434708351219\n",
      "06-05-2025 12:26:50 Test Recall: 0.7960554523367157\n",
      "06-05-2025 12:26:50 Test F1: 0.7635363680705628\n"
     ]
    }
   ],
   "source": [
    "logger.info(\"Infering\")\n",
    "predict = pipe.predict(X_test)\n",
    "\n",
    "logger.info(\"Test Evaluation metrics\")\n",
    "fbeta = f1_score(y_test, predict, zero_division=1, average='weighted')\n",
    "precision = precision_score(y_test, predict, zero_division=1, average='weighted')\n",
    "recall = recall_score(y_test, predict, zero_division=1)\n",
    "acc = accuracy_score(y_test, predict)\n",
    "\n",
    "logger.info(\"Test Accuracy: {}\".format(acc))\n",
    "logger.info(\"Test Precision: {}\".format(precision))\n",
    "logger.info(\"Test Recall: {}\".format(recall))\n",
    "logger.info(\"Test F1: {}\".format(fbeta))\n",
    "\n",
    "run.summary[\"Accuracy\"] = acc\n",
    "run.summary[\"Precision\"] = precision\n",
    "run.summary[\"Recall\"] = recall\n",
    "run.summary[\"F1\"] = fbeta"
   ]
  },
  {
   "cell_type": "code",
   "execution_count": 21,
   "id": "4d30c778",
   "metadata": {},
   "outputs": [
    {
     "name": "stdout",
     "output_type": "stream",
     "text": [
      "              precision    recall  f1-score   support\n",
      "\n",
      "         0.0       0.96      0.71      0.82     43739\n",
      "         1.0       0.31      0.80      0.44      6997\n",
      "\n",
      "    accuracy                           0.72     50736\n",
      "   macro avg       0.63      0.75      0.63     50736\n",
      "weighted avg       0.87      0.72      0.76     50736\n",
      "\n"
     ]
    }
   ],
   "source": [
    "print(classification_report(y_test,predict))"
   ]
  },
  {
   "cell_type": "code",
   "execution_count": 22,
   "id": "5248c394",
   "metadata": {},
   "outputs": [
    {
     "data": {
      "image/png": "[encoded data removed]",
      "text/plain": [
       "<Figure size 700x400 with 2 Axes>"
      ]
     },
     "metadata": {},
     "output_type": "display_data"
    }
   ],
   "source": [
    "fig_confusion_matrix, ax = plt.subplots(1,1,figsize=(7,4))\n",
    "ConfusionMatrixDisplay(confusion_matrix(predict,y_test,labels=[1,0]),\n",
    "                       display_labels=[\"1\",\"0\"]).plot(values_format=\".0f\",ax=ax)\n",
    "\n",
    "ax.set_xlabel(\"True Label\")\n",
    "ax.set_ylabel(\"Predicted Label\")\n",
    "plt.show()"
   ]
  },
  {
   "cell_type": "code",
   "execution_count": 23,
   "id": "a47b961e",
   "metadata": {},
   "outputs": [
    {
     "name": "stderr",
     "output_type": "stream",
     "text": [
      "06-05-2025 12:26:51 Uploading figures\n"
     ]
    }
   ],
   "source": [
    "logger.info(\"Uploading figures\")\n",
    "run.log(\n",
    "    {\n",
    "        \"confusion_matrix\": wandb.Image(fig_confusion_matrix)\n",
    "    }\n",
    ")"
   ]
  },
  {
   "cell_type": "code",
   "execution_count": 24,
   "id": "907fb27b",
   "metadata": {},
   "outputs": [
    {
     "data": {
      "text/html": [],
      "text/plain": [
       "<IPython.core.display.HTML object>"
      ]
     },
     "metadata": {},
     "output_type": "display_data"
    },
    {
     "data": {
      "text/html": [
       "<br>    <style><br>        .wandb-row {<br>            display: flex;<br>            flex-direction: row;<br>            flex-wrap: wrap;<br>            justify-content: flex-start;<br>            width: 100%;<br>        }<br>        .wandb-col {<br>            display: flex;<br>            flex-direction: column;<br>            flex-basis: 100%;<br>            flex: 1;<br>            padding: 10px;<br>        }<br>    </style><br><div class=\"wandb-row\"><div class=\"wandb-col\"><h3>Run summary:</h3><br/><table class=\"wandb\"><tr><td>Accuracy</td><td>0.72213</td></tr><tr><td>F1</td><td>0.76354</td></tr><tr><td>Precision</td><td>0.86634</td></tr><tr><td>Recall</td><td>0.79606</td></tr></table><br/></div></div>"
      ],
      "text/plain": [
       "<IPython.core.display.HTML object>"
      ]
     },
     "metadata": {},
     "output_type": "display_data"
    },
    {
     "data": {
      "text/html": [
       " View run <strong style=\"color:#cdcd00\">frosty-silence-41</strong> at: <a href='https://wandb.ai/valoptauhoa-national-economics-university/diabetes/runs/07mcegqt' target=\"_blank\">https://wandb.ai/valoptauhoa-national-economics-university/diabetes/runs/07mcegqt</a><br> View project at: <a href='https://wandb.ai/valoptauhoa-national-economics-university/diabetes' target=\"_blank\">https://wandb.ai/valoptauhoa-national-economics-university/diabetes</a><br>Synced 5 W&B file(s), 1 media file(s), 0 artifact file(s) and 0 other file(s)"
      ],
      "text/plain": [
       "<IPython.core.display.HTML object>"
      ]
     },
     "metadata": {},
     "output_type": "display_data"
    },
    {
     "data": {
      "text/html": [
       "Find logs at: <code>.\\wandb\\run-20250506_122637-07mcegqt\\logs</code>"
      ],
      "text/plain": [
       "<IPython.core.display.HTML object>"
      ]
     },
     "metadata": {},
     "output_type": "display_data"
    }
   ],
   "source": [
    "run.finish()"
   ]
  }
 ],
 "metadata": {
  "kernelspec": {
   "display_name": "Python 3",
   "language": "python",
   "name": "python3"
  },
  "language_info": {
   "codemirror_mode": {
    "name": "ipython",
    "version": 3
   },
   "file_extension": ".py",
   "mimetype": "text/x-python",
   "name": "python",
   "nbconvert_exporter": "python",
   "pygments_lexer": "ipython3",
   "version": "3.11.1"
  }
 },
 "nbformat": 4,
 "nbformat_minor": 5
}
