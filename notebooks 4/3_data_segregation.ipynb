{
 "cells": [
  {
   "cell_type": "markdown",
   "id": "b3a90e95",
   "metadata": {},
   "source": [
    "# I. Install and load library"
   ]
  },
  {
   "cell_type": "code",
   "execution_count": null,
   "id": "ae2cf77b",
   "metadata": {},
   "outputs": [
    {
     "data": {
      "text/plain": [
       "True"
      ]
     },
     "execution_count": 1,
     "metadata": {},
     "output_type": "execute_result"
    }
   ],
   "source": [
    "import pandas as pd\n",
    "from sklearn.model_selection import train_test_split\n",
    "import wandb \n",
    "import os\n",
    "import logging\n",
    "import warnings\n",
    "warnings.filterwarnings('ignore')\n",
    "from dotenv import load_dotenv\n",
    "load_dotenv()"
   ]
  },
  {
   "cell_type": "code",
   "execution_count": 2,
   "id": "6df7b272",
   "metadata": {},
   "outputs": [],
   "source": [
    "logging.basicConfig(level=logging.INFO,\n",
    "                    format=\"%(asctime)s %(message)s\",\n",
    "                    datefmt='%d-%m-%Y %H:%M:%S')\n",
    "\n",
    "logger = logging.getLogger()"
   ]
  },
  {
   "cell_type": "markdown",
   "id": "02dc7e2b",
   "metadata": {},
   "source": [
    "# II. Importing dataset"
   ]
  },
  {
   "cell_type": "code",
   "execution_count": 3,
   "id": "8d4bbcef",
   "metadata": {},
   "outputs": [
    {
     "name": "stderr",
     "output_type": "stream",
     "text": [
      "\u001b[34m\u001b[1mwandb\u001b[0m: Currently logged in as: \u001b[33mvaloptauhoa\u001b[0m (\u001b[33mvaloptauhoa-national-economics-university\u001b[0m) to \u001b[32mhttps://api.wandb.ai\u001b[0m. Use \u001b[1m`wandb login --relogin`\u001b[0m to force relogin\n"
     ]
    },
    {
     "data": {
      "text/html": [
       "Tracking run with wandb version 0.19.10"
      ],
      "text/plain": [
       "<IPython.core.display.HTML object>"
      ]
     },
     "metadata": {},
     "output_type": "display_data"
    },
    {
     "data": {
      "text/html": [
       "Run data is saved locally in <code>c:\\Users\\PC\\Downloads\\notebook 2\\wandb\\run-20250506_110637-sgqy4io0</code>"
      ],
      "text/plain": [
       "<IPython.core.display.HTML object>"
      ]
     },
     "metadata": {},
     "output_type": "display_data"
    },
    {
     "data": {
      "text/html": [
       "Syncing run <strong><a href='https://wandb.ai/valoptauhoa-national-economics-university/diabetes/runs/sgqy4io0' target=\"_blank\">kind-yogurt-32</a></strong> to <a href='https://wandb.ai/valoptauhoa-national-economics-university/diabetes' target=\"_blank\">Weights & Biases</a> (<a href='https://wandb.me/developer-guide' target=\"_blank\">docs</a>)<br>"
      ],
      "text/plain": [
       "<IPython.core.display.HTML object>"
      ]
     },
     "metadata": {},
     "output_type": "display_data"
    },
    {
     "data": {
      "text/html": [
       " View project at <a href='https://wandb.ai/valoptauhoa-national-economics-university/diabetes' target=\"_blank\">https://wandb.ai/valoptauhoa-national-economics-university/diabetes</a>"
      ],
      "text/plain": [
       "<IPython.core.display.HTML object>"
      ]
     },
     "metadata": {},
     "output_type": "display_data"
    },
    {
     "data": {
      "text/html": [
       " View run at <a href='https://wandb.ai/valoptauhoa-national-economics-university/diabetes/runs/sgqy4io0' target=\"_blank\">https://wandb.ai/valoptauhoa-national-economics-university/diabetes/runs/sgqy4io0</a>"
      ],
      "text/plain": [
       "<IPython.core.display.HTML object>"
      ]
     },
     "metadata": {},
     "output_type": "display_data"
    }
   ],
   "source": [
    "run = wandb.init(project=\"diabetes\", job_type=\"data_segregation\")"
   ]
  },
  {
   "cell_type": "code",
   "execution_count": 4,
   "id": "4b2c9046",
   "metadata": {},
   "outputs": [
    {
     "name": "stderr",
     "output_type": "stream",
     "text": [
      "wandb: Appending key for api.wandb.ai to your netrc file: C:\\Users\\PC\\_netrc\n",
      "wandb: W&B API key is configured. Use `wandb login --relogin` to force relogin\n"
     ]
    }
   ],
   "source": [
    "WANDB_API_KEY=os.environ.get('WANDB_API_KEY')\n",
    "!wandb login --relogin $WANDB_API_KEY"
   ]
  },
  {
   "cell_type": "code",
   "execution_count": 5,
   "id": "44d87d30",
   "metadata": {},
   "outputs": [
    {
     "name": "stderr",
     "output_type": "stream",
     "text": [
      "06-05-2025 11:06:44 Downloading and segregatating artifact\n",
      "\u001b[34m\u001b[1mwandb\u001b[0m:   1 of 1 files downloaded.  \n"
     ]
    },
    {
     "data": {
      "text/html": [],
      "text/plain": [
       "<IPython.core.display.HTML object>"
      ]
     },
     "metadata": {},
     "output_type": "display_data"
    },
    {
     "data": {
      "text/html": [
       " View run <strong style=\"color:#cdcd00\">kind-yogurt-32</strong> at: <a href='https://wandb.ai/valoptauhoa-national-economics-university/diabetes/runs/sgqy4io0' target=\"_blank\">https://wandb.ai/valoptauhoa-national-economics-university/diabetes/runs/sgqy4io0</a><br> View project at: <a href='https://wandb.ai/valoptauhoa-national-economics-university/diabetes' target=\"_blank\">https://wandb.ai/valoptauhoa-national-economics-university/diabetes</a><br>Synced 5 W&B file(s), 0 media file(s), 0 artifact file(s) and 0 other file(s)"
      ],
      "text/plain": [
       "<IPython.core.display.HTML object>"
      ]
     },
     "metadata": {},
     "output_type": "display_data"
    },
    {
     "data": {
      "text/html": [
       "Find logs at: <code>.\\wandb\\run-20250506_110637-sgqy4io0\\logs</code>"
      ],
      "text/plain": [
       "<IPython.core.display.HTML object>"
      ]
     },
     "metadata": {},
     "output_type": "display_data"
    }
   ],
   "source": [
    "artifact = wandb.use_artifact('diabetes/fetch_data.csv:latest', type='fetching')\n",
    "logger.info(\"Downloading and segregatating artifact\")\n",
    "dataset_dir = artifact.download()\n",
    "\n",
    "wandb.finish()"
   ]
  },
  {
   "cell_type": "code",
   "execution_count": 6,
   "id": "ffce209a",
   "metadata": {},
   "outputs": [],
   "source": [
    "file_path = os.path.join(dataset_dir, \"diabete.csv\")\n",
    "df = pd.read_csv(file_path)"
   ]
  },
  {
   "cell_type": "markdown",
   "id": "08dd9d34",
   "metadata": {},
   "source": [
    "# III. Data segragation"
   ]
  },
  {
   "cell_type": "code",
   "execution_count": 7,
   "id": "38fb8814",
   "metadata": {},
   "outputs": [
    {
     "name": "stderr",
     "output_type": "stream",
     "text": [
      "06-05-2025 11:06:47 Spliting data into train/val/test\n",
      "06-05-2025 11:06:47 x train: (162355, 21)\n",
      "06-05-2025 11:06:47 y train: (162355,)\n",
      "06-05-2025 11:06:47 x val: (40589, 21)\n",
      "06-05-2025 11:06:47 y val: (40589,)\n",
      "06-05-2025 11:06:47 x test: (50736, 21)\n",
      "06-05-2025 11:06:47 y test: (50736,)\n"
     ]
    }
   ],
   "source": [
    "logger.info(\"Spliting data into train/val/test\")\n",
    "X = df.drop('Diabetes_binary', axis = 1)\n",
    "y = df['Diabetes_binary']\n",
    "X_train, X_test, y_train, y_test = train_test_split(X, y, test_size= 0.2, random_state= 42)\n",
    "X_train, X_val, y_train, y_val = train_test_split(X_train, y_train, test_size= 0.2, random_state= 42)\n",
    "\n",
    "logger.info(\"x train: {}\".format(X_train.shape))\n",
    "logger.info(\"y train: {}\".format(y_train.shape))\n",
    "logger.info(\"x val: {}\".format(X_val.shape))\n",
    "logger.info(\"y val: {}\".format(y_val.shape))\n",
    "logger.info(\"x test: {}\".format(X_test.shape))\n",
    "logger.info(\"y test: {}\".format(y_test.shape))"
   ]
  },
  {
   "cell_type": "markdown",
   "id": "b0035e6c",
   "metadata": {},
   "source": [
    "# IV. Uploading dataset to Wandb"
   ]
  },
  {
   "cell_type": "code",
   "execution_count": 8,
   "id": "1b782235",
   "metadata": {},
   "outputs": [
    {
     "name": "stderr",
     "output_type": "stream",
     "text": [
      "06-05-2025 11:06:47 Uploading segregated train, val, test dataset\n"
     ]
    }
   ],
   "source": [
    "logger.info(\"Uploading segregated train, val, test dataset\")\n",
    "X_train_file = os.path.join(dataset_dir, \"X_train.csv\")\n",
    "X_test_file = os.path.join(dataset_dir, \"X_test.csv\")\n",
    "X_val_file = os.path.join(dataset_dir, \"X_val.csv\")\n",
    "y_train_file = os.path.join(dataset_dir, \"y_train.csv\")\n",
    "y_test_file = os.path.join(dataset_dir, \"y_test.csv\")\n",
    "y_val_file = os.path.join(dataset_dir, \"y_val.csv\")\n",
    "\n",
    "X_train.to_csv(X_train_file, index=False)\n",
    "X_val.to_csv(X_val_file, index=False)\n",
    "X_test.to_csv(X_test_file, index=False)\n",
    "y_train.to_csv(y_train_file, index=False)\n",
    "y_val.to_csv(y_val_file, index=False)\n",
    "y_test.to_csv(y_test_file, index=False)"
   ]
  },
  {
   "cell_type": "code",
   "execution_count": 9,
   "id": "5a8cc375",
   "metadata": {},
   "outputs": [
    {
     "data": {
      "text/html": [
       "Tracking run with wandb version 0.19.10"
      ],
      "text/plain": [
       "<IPython.core.display.HTML object>"
      ]
     },
     "metadata": {},
     "output_type": "display_data"
    },
    {
     "data": {
      "text/html": [
       "Run data is saved locally in <code>c:\\Users\\PC\\Downloads\\notebook 2\\wandb\\run-20250506_110651-zvnxamvk</code>"
      ],
      "text/plain": [
       "<IPython.core.display.HTML object>"
      ]
     },
     "metadata": {},
     "output_type": "display_data"
    },
    {
     "data": {
      "text/html": [
       "Syncing run <strong><a href='https://wandb.ai/valoptauhoa-national-economics-university/diabetes/runs/zvnxamvk' target=\"_blank\">morning-fire-33</a></strong> to <a href='https://wandb.ai/valoptauhoa-national-economics-university/diabetes' target=\"_blank\">Weights & Biases</a> (<a href='https://wandb.me/developer-guide' target=\"_blank\">docs</a>)<br>"
      ],
      "text/plain": [
       "<IPython.core.display.HTML object>"
      ]
     },
     "metadata": {},
     "output_type": "display_data"
    },
    {
     "data": {
      "text/html": [
       " View project at <a href='https://wandb.ai/valoptauhoa-national-economics-university/diabetes' target=\"_blank\">https://wandb.ai/valoptauhoa-national-economics-university/diabetes</a>"
      ],
      "text/plain": [
       "<IPython.core.display.HTML object>"
      ]
     },
     "metadata": {},
     "output_type": "display_data"
    },
    {
     "data": {
      "text/html": [
       " View run at <a href='https://wandb.ai/valoptauhoa-national-economics-university/diabetes/runs/zvnxamvk' target=\"_blank\">https://wandb.ai/valoptauhoa-national-economics-university/diabetes/runs/zvnxamvk</a>"
      ],
      "text/plain": [
       "<IPython.core.display.HTML object>"
      ]
     },
     "metadata": {},
     "output_type": "display_data"
    }
   ],
   "source": [
    "run = wandb.init(project=\"diabetes\", job_type=\"data_segregation\")"
   ]
  },
  {
   "cell_type": "code",
   "execution_count": 10,
   "id": "aa7a7d1d",
   "metadata": {},
   "outputs": [],
   "source": [
    "def upload_artifact(artifact_name, file_path, artifact_type=\"data_segregation\", artifact_description=\"Segregated data\"):\n",
    "    artifact = wandb.Artifact(\n",
    "        name=artifact_name, \n",
    "        type=artifact_type,\n",
    "        description=artifact_description\n",
    "    )\n",
    "    artifact.add_file(file_path)  \n",
    "    wandb.log_artifact(artifact)"
   ]
  },
  {
   "cell_type": "code",
   "execution_count": 12,
   "id": "a59eb875",
   "metadata": {},
   "outputs": [],
   "source": [
    "upload_artifact(\"X_train_segregated.csv\", X_train_file)\n",
    "upload_artifact(\"X_test_segregated.csv\", X_test_file)\n",
    "upload_artifact(\"X_val_segregated.csv\", X_val_file)\n",
    "upload_artifact(\"y_train_segregated.csv\", y_train_file)\n",
    "upload_artifact(\"y_test_segregated.csv\", y_test_file)\n",
    "upload_artifact(\"y_val_segregated.csv\", y_val_file)"
   ]
  },
  {
   "cell_type": "code",
   "execution_count": 13,
   "id": "eb495ec8",
   "metadata": {},
   "outputs": [
    {
     "data": {
      "text/html": [],
      "text/plain": [
       "<IPython.core.display.HTML object>"
      ]
     },
     "metadata": {},
     "output_type": "display_data"
    },
    {
     "data": {
      "text/html": [
       " View run <strong style=\"color:#cdcd00\">morning-fire-33</strong> at: <a href='https://wandb.ai/valoptauhoa-national-economics-university/diabetes/runs/zvnxamvk' target=\"_blank\">https://wandb.ai/valoptauhoa-national-economics-university/diabetes/runs/zvnxamvk</a><br> View project at: <a href='https://wandb.ai/valoptauhoa-national-economics-university/diabetes' target=\"_blank\">https://wandb.ai/valoptauhoa-national-economics-university/diabetes</a><br>Synced 5 W&B file(s), 0 media file(s), 12 artifact file(s) and 0 other file(s)"
      ],
      "text/plain": [
       "<IPython.core.display.HTML object>"
      ]
     },
     "metadata": {},
     "output_type": "display_data"
    },
    {
     "data": {
      "text/html": [
       "Find logs at: <code>.\\wandb\\run-20250506_110651-zvnxamvk\\logs</code>"
      ],
      "text/plain": [
       "<IPython.core.display.HTML object>"
      ]
     },
     "metadata": {},
     "output_type": "display_data"
    }
   ],
   "source": [
    "wandb.finish()"
   ]
  }
 ],
 "metadata": {
  "kernelspec": {
   "display_name": "Python 3",
   "language": "python",
   "name": "python3"
  },
  "language_info": {
   "codemirror_mode": {
    "name": "ipython",
    "version": 3
   },
   "file_extension": ".py",
   "mimetype": "text/x-python",
   "name": "python",
   "nbconvert_exporter": "python",
   "pygments_lexer": "ipython3",
   "version": "3.11.1"
  }
 },
 "nbformat": 4,
 "nbformat_minor": 5
}
