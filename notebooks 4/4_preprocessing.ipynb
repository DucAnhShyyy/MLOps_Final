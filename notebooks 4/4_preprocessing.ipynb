{
 "cells": [
  {
   "cell_type": "markdown",
   "id": "362d3748",
   "metadata": {},
   "source": [
    "# I. Install and load libraries"
   ]
  },
  {
   "cell_type": "code",
   "execution_count": null,
   "id": "ecbeb785",
   "metadata": {},
   "outputs": [
    {
     "data": {
      "text/plain": [
       "True"
      ]
     },
     "execution_count": 5,
     "metadata": {},
     "output_type": "execute_result"
    }
   ],
   "source": [
    "import pandas as pd\n",
    "import matplotlib.pylab as plt\n",
    "import seaborn as sns\n",
    "import wandb \n",
    "import os\n",
    "import logging\n",
    "import warnings\n",
    "warnings.filterwarnings('ignore')\n",
    "from dotenv import load_dotenv\n",
    "load_dotenv()"
   ]
  },
  {
   "cell_type": "code",
   "execution_count": 6,
   "id": "7e9e0b44",
   "metadata": {},
   "outputs": [],
   "source": [
    "logging.basicConfig(level=logging.INFO,\n",
    "                    format=\"%(asctime)s %(message)s\",\n",
    "                    datefmt='%d-%m-%Y %H:%M:%S')\n",
    "\n",
    "logger = logging.getLogger()"
   ]
  },
  {
   "cell_type": "markdown",
   "id": "4feb83c5",
   "metadata": {},
   "source": [
    "# II. Downloading file from Wandb "
   ]
  },
  {
   "cell_type": "code",
   "execution_count": 7,
   "id": "80d1b375",
   "metadata": {},
   "outputs": [
    {
     "data": {
      "text/html": [
       "Finishing previous runs because reinit is set to 'default'."
      ],
      "text/plain": [
       "<IPython.core.display.HTML object>"
      ]
     },
     "metadata": {},
     "output_type": "display_data"
    },
    {
     "data": {
      "text/html": [],
      "text/plain": [
       "<IPython.core.display.HTML object>"
      ]
     },
     "metadata": {},
     "output_type": "display_data"
    },
    {
     "data": {
      "text/html": [
       " View run <strong style=\"color:#cdcd00\">rare-resonance-34</strong> at: <a href='https://wandb.ai/valoptauhoa-national-economics-university/diabetes/runs/mbw00m20' target=\"_blank\">https://wandb.ai/valoptauhoa-national-economics-university/diabetes/runs/mbw00m20</a><br> View project at: <a href='https://wandb.ai/valoptauhoa-national-economics-university/diabetes' target=\"_blank\">https://wandb.ai/valoptauhoa-national-economics-university/diabetes</a><br>Synced 5 W&B file(s), 0 media file(s), 0 artifact file(s) and 0 other file(s)"
      ],
      "text/plain": [
       "<IPython.core.display.HTML object>"
      ]
     },
     "metadata": {},
     "output_type": "display_data"
    },
    {
     "data": {
      "text/html": [
       "Find logs at: <code>.\\wandb\\run-20250506_110932-mbw00m20\\logs</code>"
      ],
      "text/plain": [
       "<IPython.core.display.HTML object>"
      ]
     },
     "metadata": {},
     "output_type": "display_data"
    },
    {
     "data": {
      "text/html": [
       "Tracking run with wandb version 0.19.10"
      ],
      "text/plain": [
       "<IPython.core.display.HTML object>"
      ]
     },
     "metadata": {},
     "output_type": "display_data"
    },
    {
     "data": {
      "text/html": [
       "Run data is saved locally in <code>c:\\Users\\PC\\Downloads\\notebook 2\\wandb\\run-20250506_112335-lj37xngi</code>"
      ],
      "text/plain": [
       "<IPython.core.display.HTML object>"
      ]
     },
     "metadata": {},
     "output_type": "display_data"
    },
    {
     "data": {
      "text/html": [
       "Syncing run <strong><a href='https://wandb.ai/valoptauhoa-national-economics-university/diabetes/runs/lj37xngi' target=\"_blank\">distinctive-cloud-35</a></strong> to <a href='https://wandb.ai/valoptauhoa-national-economics-university/diabetes' target=\"_blank\">Weights & Biases</a> (<a href='https://wandb.me/developer-guide' target=\"_blank\">docs</a>)<br>"
      ],
      "text/plain": [
       "<IPython.core.display.HTML object>"
      ]
     },
     "metadata": {},
     "output_type": "display_data"
    },
    {
     "data": {
      "text/html": [
       " View project at <a href='https://wandb.ai/valoptauhoa-national-economics-university/diabetes' target=\"_blank\">https://wandb.ai/valoptauhoa-national-economics-university/diabetes</a>"
      ],
      "text/plain": [
       "<IPython.core.display.HTML object>"
      ]
     },
     "metadata": {},
     "output_type": "display_data"
    },
    {
     "data": {
      "text/html": [
       " View run at <a href='https://wandb.ai/valoptauhoa-national-economics-university/diabetes/runs/lj37xngi' target=\"_blank\">https://wandb.ai/valoptauhoa-national-economics-university/diabetes/runs/lj37xngi</a>"
      ],
      "text/plain": [
       "<IPython.core.display.HTML object>"
      ]
     },
     "metadata": {},
     "output_type": "display_data"
    }
   ],
   "source": [
    "run = wandb.init(project=\"diabetes\", job_type=\"preprocessing\")"
   ]
  },
  {
   "cell_type": "code",
   "execution_count": 8,
   "id": "76f708e0",
   "metadata": {},
   "outputs": [
    {
     "name": "stderr",
     "output_type": "stream",
     "text": [
      "wandb: Appending key for api.wandb.ai to your netrc file: C:\\Users\\PC\\_netrc\n",
      "wandb: W&B API key is configured. Use `wandb login --relogin` to force relogin\n"
     ]
    }
   ],
   "source": [
    "WANDB_API_KEY=os.environ.get('WANDB_API_KEY')\n",
    "!wandb login --relogin $WANDB_API_KEY"
   ]
  },
  {
   "cell_type": "code",
   "execution_count": 9,
   "id": "84c01bfb",
   "metadata": {},
   "outputs": [
    {
     "name": "stderr",
     "output_type": "stream",
     "text": [
      "06-05-2025 11:23:41 Downloading and reading artifact\n",
      "\u001b[34m\u001b[1mwandb\u001b[0m:   1 of 1 files downloaded.  \n",
      "\u001b[34m\u001b[1mwandb\u001b[0m:   1 of 1 files downloaded.  \n",
      "\u001b[34m\u001b[1mwandb\u001b[0m:   1 of 1 files downloaded.  \n",
      "\u001b[34m\u001b[1mwandb\u001b[0m:   1 of 1 files downloaded.  \n",
      "\u001b[34m\u001b[1mwandb\u001b[0m:   1 of 1 files downloaded.  \n",
      "\u001b[34m\u001b[1mwandb\u001b[0m:   1 of 1 files downloaded.  \n"
     ]
    }
   ],
   "source": [
    "logger.info(\"Downloading and reading artifact\")\n",
    "artifact_X_train = wandb.use_artifact('diabetes/X_train_segregated.csv:latest', type='data_segregation')\n",
    "artifact_X_val = wandb.use_artifact('diabetes/X_val_segregated.csv:latest', type='data_segregation')\n",
    "artifact_X_test = wandb.use_artifact('diabetes/X_test_segregated.csv:latest', type='data_segregation')\n",
    "artifact_y_train = wandb.use_artifact('diabetes/y_train_segregated.csv:latest', type='data_segregation')\n",
    "artifact_y_val = wandb.use_artifact('diabetes/y_val_segregated.csv:latest', type='data_segregation')\n",
    "artifact_y_test = wandb.use_artifact('diabetes/y_test_segregated.csv:latest', type='data_segregation')\n",
    "\n",
    "X_train_dir = artifact_X_train.download()\n",
    "X_val_dir = artifact_X_val.download()\n",
    "X_test_dir = artifact_X_test.download()\n",
    "y_train_dir = artifact_y_train.download()\n",
    "y_val_dir = artifact_y_val.download()\n",
    "y_test_dir = artifact_y_test.download()\n",
    "\n",
    "X_train_path = os.path.join(X_train_dir, \"X_train.csv\")\n",
    "X_val_path = os.path.join(X_val_dir, \"X_val.csv\")\n",
    "X_test_path = os.path.join(X_test_dir, \"X_test.csv\")\n",
    "y_train_path = os.path.join(y_train_dir, \"y_train.csv\")\n",
    "y_val_path = os.path.join(y_val_dir, \"y_val.csv\")\n",
    "y_test_path = os.path.join(y_test_dir, \"y_test.csv\")\n",
    "\n",
    "X_train = pd.read_csv(X_train_path)\n",
    "X_val = pd.read_csv(X_val_path)\n",
    "X_test = pd.read_csv(X_test_path)\n",
    "\n",
    "y_train = pd.read_csv(y_train_path)\n",
    "y_val = pd.read_csv(y_val_path)\n",
    "y_test = pd.read_csv(y_test_path)"
   ]
  },
  {
   "cell_type": "markdown",
   "id": "6f0fa37b",
   "metadata": {},
   "source": [
    "# III. Preprocessing"
   ]
  },
  {
   "cell_type": "markdown",
   "id": "1e66967f",
   "metadata": {},
   "source": [
    "## 1. Missing Values Detection"
   ]
  },
  {
   "cell_type": "code",
   "execution_count": 10,
   "id": "2a867b82",
   "metadata": {},
   "outputs": [
    {
     "name": "stderr",
     "output_type": "stream",
     "text": [
      "06-05-2025 11:24:11 Mising values detection\n"
     ]
    }
   ],
   "source": [
    "logger.info(\"Mising values detection\")\n",
    "def detect_missing_values(df):\n",
    "    missing_count = df.isnull().sum()\n",
    "    missing_percent = (missing_count / len(df)) * 100\n",
    "    missing_summary = pd.DataFrame({\n",
    "        'Missing Count': missing_count,\n",
    "        'Missing %': missing_percent\n",
    "    })\n",
    "    return missing_summary[missing_summary['Missing Count'] > 0].sort_values(by='Missing Count', ascending=False)"
   ]
  },
  {
   "cell_type": "code",
   "execution_count": 11,
   "id": "8b2cdd51",
   "metadata": {},
   "outputs": [
    {
     "name": "stdout",
     "output_type": "stream",
     "text": [
      "Empty DataFrame\n",
      "Columns: [Missing Count, Missing %]\n",
      "Index: []\n",
      "Empty DataFrame\n",
      "Columns: [Missing Count, Missing %]\n",
      "Index: []\n",
      "Empty DataFrame\n",
      "Columns: [Missing Count, Missing %]\n",
      "Index: []\n"
     ]
    }
   ],
   "source": [
    "print(detect_missing_values(X_train))\n",
    "print(detect_missing_values(X_val))\n",
    "print(detect_missing_values(X_test))"
   ]
  },
  {
   "cell_type": "markdown",
   "id": "49b1f934",
   "metadata": {},
   "source": [
    "## 3. Outliers Clipping"
   ]
  },
  {
   "cell_type": "code",
   "execution_count": 12,
   "id": "ca5d4aaf",
   "metadata": {},
   "outputs": [
    {
     "data": {
      "image/png": "[encoded data removed]",
      "text/plain": [
       "<Figure size 1200x600 with 1 Axes>"
      ]
     },
     "metadata": {},
     "output_type": "display_data"
    }
   ],
   "source": [
    "non_binary_columns = [col for col in X_train.columns if X_train[col].nunique() > 2]\n",
    "\n",
    "df_long = X_train[non_binary_columns].melt(var_name='Variable', value_name='Value')\n",
    "\n",
    "plt.figure(figsize=(12, 6))\n",
    "sns.boxplot(x='Variable', y='Value', data=df_long)\n",
    "plt.xticks(rotation=45)\n",
    "plt.title('Boxplot for non-binary variables')\n",
    "plt.show()"
   ]
  },
  {
   "cell_type": "markdown",
   "id": "b3fb037a",
   "metadata": {},
   "source": [
    "From what i can see, there are a lot of outliers in columns BMI, PhysHlth, MenHlth, GenHlth. From this moment, we approach this problem with our most common method, which is clipping"
   ]
  },
  {
   "cell_type": "code",
   "execution_count": 13,
   "id": "973598f4",
   "metadata": {},
   "outputs": [
    {
     "name": "stderr",
     "output_type": "stream",
     "text": [
      "06-05-2025 11:24:14 Outlier Clipping\n"
     ]
    }
   ],
   "source": [
    "logger.info(\"Outlier Clipping\")\n",
    "q1 = X_train[['BMI', 'PhysHlth', 'MentHlth', 'GenHlth']].quantile(0.25)\n",
    "q3 = X_train[['BMI', 'PhysHlth', 'MentHlth', 'GenHlth']].quantile(0.75)\n",
    "iqr = q3 - q1\n",
    "lower_bound = q1 - 1.5 * iqr\n",
    "upper_bound = q3 + 1.5 * iqr\n",
    "\n",
    "for col in ['BMI', 'PhysHlth', 'MentHlth', 'GenHlth']:\n",
    "    X_train[col] = X_train[col].clip(lower=lower_bound[col], upper=upper_bound[col])  \n",
    "    X_val[col] = X_val[col].clip(lower=lower_bound[col], upper=upper_bound[col])            \n",
    "    X_test[col] = X_test[col].clip(lower=lower_bound[col], upper=upper_bound[col])"
   ]
  },
  {
   "cell_type": "code",
   "execution_count": 14,
   "id": "2bd32cbb",
   "metadata": {},
   "outputs": [],
   "source": [
    "df_long = X_train[non_binary_columns].melt(var_name='Variable', value_name='Value')"
   ]
  },
  {
   "cell_type": "code",
   "execution_count": 15,
   "id": "300d57b6",
   "metadata": {},
   "outputs": [
    {
     "data": {
      "image/png": "[encoded data removed]",
      "text/plain": [
       "<Figure size 1200x600 with 1 Axes>"
      ]
     },
     "metadata": {},
     "output_type": "display_data"
    }
   ],
   "source": [
    "plt.figure(figsize=(12, 6))\n",
    "sns.boxplot(x='Variable', y='Value', data=df_long)\n",
    "plt.xticks(rotation=45)\n",
    "plt.title('Boxplot for non-binary variables')\n",
    "plt.show()"
   ]
  },
  {
   "cell_type": "markdown",
   "id": "3eb299a7",
   "metadata": {},
   "source": [
    "# IV. Uploading file to Wandb "
   ]
  },
  {
   "cell_type": "code",
   "execution_count": 16,
   "id": "ba6c0961",
   "metadata": {},
   "outputs": [
    {
     "name": "stderr",
     "output_type": "stream",
     "text": [
      "06-05-2025 11:24:18 Uploading preprocessed train test dataset\n"
     ]
    }
   ],
   "source": [
    "logger.info(\"Uploading preprocessed train test dataset\")\n",
    "X_train_file = os.path.join(X_train_dir, \"X_train.csv\")\n",
    "X_test_file = os.path.join(X_test_dir, \"X_test.csv\")\n",
    "X_val_file = os.path.join(X_val_dir, \"X_val.csv\")\n",
    "y_train_file = os.path.join(y_train_dir, \"y_train.csv\")\n",
    "y_test_file = os.path.join(y_test_dir, \"y_test.csv\")\n",
    "y_val_file = os.path.join(y_val_dir, \"y_val.csv\")\n",
    "\n",
    "X_train.to_csv(X_train_file, index=False)\n",
    "X_val.to_csv(X_val_file, index=False)\n",
    "X_test.to_csv(X_test_file, index=False)\n",
    "y_train.to_csv(y_train_file, index=False)\n",
    "y_val.to_csv(y_val_file, index=False)\n",
    "y_test.to_csv(y_test_file, index=False)"
   ]
  },
  {
   "cell_type": "code",
   "execution_count": 17,
   "id": "eb04064f",
   "metadata": {},
   "outputs": [
    {
     "data": {
      "text/html": [
       "Finishing previous runs because reinit is set to 'default'."
      ],
      "text/plain": [
       "<IPython.core.display.HTML object>"
      ]
     },
     "metadata": {},
     "output_type": "display_data"
    },
    {
     "data": {
      "text/html": [],
      "text/plain": [
       "<IPython.core.display.HTML object>"
      ]
     },
     "metadata": {},
     "output_type": "display_data"
    },
    {
     "data": {
      "text/html": [
       " View run <strong style=\"color:#cdcd00\">distinctive-cloud-35</strong> at: <a href='https://wandb.ai/valoptauhoa-national-economics-university/diabetes/runs/lj37xngi' target=\"_blank\">https://wandb.ai/valoptauhoa-national-economics-university/diabetes/runs/lj37xngi</a><br> View project at: <a href='https://wandb.ai/valoptauhoa-national-economics-university/diabetes' target=\"_blank\">https://wandb.ai/valoptauhoa-national-economics-university/diabetes</a><br>Synced 5 W&B file(s), 0 media file(s), 0 artifact file(s) and 0 other file(s)"
      ],
      "text/plain": [
       "<IPython.core.display.HTML object>"
      ]
     },
     "metadata": {},
     "output_type": "display_data"
    },
    {
     "data": {
      "text/html": [
       "Find logs at: <code>.\\wandb\\run-20250506_112335-lj37xngi\\logs</code>"
      ],
      "text/plain": [
       "<IPython.core.display.HTML object>"
      ]
     },
     "metadata": {},
     "output_type": "display_data"
    },
    {
     "data": {
      "text/html": [
       "Tracking run with wandb version 0.19.10"
      ],
      "text/plain": [
       "<IPython.core.display.HTML object>"
      ]
     },
     "metadata": {},
     "output_type": "display_data"
    },
    {
     "data": {
      "text/html": [
       "Run data is saved locally in <code>c:\\Users\\PC\\Downloads\\notebook 2\\wandb\\run-20250506_112422-65uo5y1m</code>"
      ],
      "text/plain": [
       "<IPython.core.display.HTML object>"
      ]
     },
     "metadata": {},
     "output_type": "display_data"
    },
    {
     "data": {
      "text/html": [
       "Syncing run <strong><a href='https://wandb.ai/valoptauhoa-national-economics-university/diabetes/runs/65uo5y1m' target=\"_blank\">fearless-plasma-36</a></strong> to <a href='https://wandb.ai/valoptauhoa-national-economics-university/diabetes' target=\"_blank\">Weights & Biases</a> (<a href='https://wandb.me/developer-guide' target=\"_blank\">docs</a>)<br>"
      ],
      "text/plain": [
       "<IPython.core.display.HTML object>"
      ]
     },
     "metadata": {},
     "output_type": "display_data"
    },
    {
     "data": {
      "text/html": [
       " View project at <a href='https://wandb.ai/valoptauhoa-national-economics-university/diabetes' target=\"_blank\">https://wandb.ai/valoptauhoa-national-economics-university/diabetes</a>"
      ],
      "text/plain": [
       "<IPython.core.display.HTML object>"
      ]
     },
     "metadata": {},
     "output_type": "display_data"
    },
    {
     "data": {
      "text/html": [
       " View run at <a href='https://wandb.ai/valoptauhoa-national-economics-university/diabetes/runs/65uo5y1m' target=\"_blank\">https://wandb.ai/valoptauhoa-national-economics-university/diabetes/runs/65uo5y1m</a>"
      ],
      "text/plain": [
       "<IPython.core.display.HTML object>"
      ]
     },
     "metadata": {},
     "output_type": "display_data"
    }
   ],
   "source": [
    "run = wandb.init(project=\"diabetes\", job_type=\"preprocessing\")"
   ]
  },
  {
   "cell_type": "code",
   "execution_count": 18,
   "id": "cc1f0ac1",
   "metadata": {},
   "outputs": [],
   "source": [
    "def upload_artifact(artifact_name, file_path, artifact_type=\"preprocessing\", artifact_description=\"Preprocessed data\"):\n",
    "    artifact = wandb.Artifact(\n",
    "        name=artifact_name, \n",
    "        type=artifact_type,\n",
    "        description=artifact_description\n",
    "    )\n",
    "    artifact.add_file(file_path)  \n",
    "    wandb.log_artifact(artifact)"
   ]
  },
  {
   "cell_type": "code",
   "execution_count": 19,
   "id": "406d0d71",
   "metadata": {},
   "outputs": [],
   "source": [
    "upload_artifact(\"X_train.csv\", X_train_file)\n",
    "upload_artifact(\"X_test.csv\", X_test_file)\n",
    "upload_artifact(\"X_val.csv\", X_val_file)\n",
    "upload_artifact(\"y_train.csv\", y_train_file)\n",
    "upload_artifact(\"y_test.csv\", y_test_file)\n",
    "upload_artifact(\"y_val.csv\", y_val_file)"
   ]
  },
  {
   "cell_type": "code",
   "execution_count": 20,
   "id": "64d1f142",
   "metadata": {},
   "outputs": [
    {
     "data": {
      "text/html": [],
      "text/plain": [
       "<IPython.core.display.HTML object>"
      ]
     },
     "metadata": {},
     "output_type": "display_data"
    },
    {
     "data": {
      "text/html": [
       " View run <strong style=\"color:#cdcd00\">fearless-plasma-36</strong> at: <a href='https://wandb.ai/valoptauhoa-national-economics-university/diabetes/runs/65uo5y1m' target=\"_blank\">https://wandb.ai/valoptauhoa-national-economics-university/diabetes/runs/65uo5y1m</a><br> View project at: <a href='https://wandb.ai/valoptauhoa-national-economics-university/diabetes' target=\"_blank\">https://wandb.ai/valoptauhoa-national-economics-university/diabetes</a><br>Synced 5 W&B file(s), 0 media file(s), 0 artifact file(s) and 0 other file(s)"
      ],
      "text/plain": [
       "<IPython.core.display.HTML object>"
      ]
     },
     "metadata": {},
     "output_type": "display_data"
    },
    {
     "data": {
      "text/html": [
       "Find logs at: <code>.\\wandb\\run-20250506_112422-65uo5y1m\\logs</code>"
      ],
      "text/plain": [
       "<IPython.core.display.HTML object>"
      ]
     },
     "metadata": {},
     "output_type": "display_data"
    }
   ],
   "source": [
    "wandb.finish()"
   ]
  }
 ],
 "metadata": {
  "kernelspec": {
   "display_name": "Python 3",
   "language": "python",
   "name": "python3"
  },
  "language_info": {
   "codemirror_mode": {
    "name": "ipython",
    "version": 3
   },
   "file_extension": ".py",
   "mimetype": "text/x-python",
   "name": "python",
   "nbconvert_exporter": "python",
   "pygments_lexer": "ipython3",
   "version": "3.11.1"
  }
 },
 "nbformat": 4,
 "nbformat_minor": 5
}
